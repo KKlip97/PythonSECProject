{
 "cells": [
  {
   "cell_type": "code",
   "execution_count": null,
   "metadata": {},
   "outputs": [],
   "source": [
    "from sec_edgar_downloader import Downloader\n",
    "#needs to comply with sec privacy :(( )\n",
    "dl = Downloader(\"test\", \"test@test.com\")\n",
    "import pandas as pd \n",
    "import time\n",
    "import requests\n",
    "\n",
    "#sec offers an api to get the daily or quartely indexes, metadata for all fillings\n",
    "#there is no endpoint to specifically search by form type\n",
    "#the actual data can only be downloaded with an accesion number and cik\n",
    "#using cik fetched from daily index, fetch all fillings by company and select those with type D \n",
    "#download the actual file using url from the data line(the current data url returns the entire txt, we only need the actual xml file for the filing ) \n",
    "## Tom: added inputs\n",
    "## Tom: Maybe add this lateremail = input(\"Enter your email for SEC requests (e.g., example@example.com): \")?\n",
    "## Tom: It would be also nice to have the quarter variable derived from the other inputs. \n",
    "# //todo, save files to not fetch every time \n",
    "year = int(input(\"Enter the year in which you are interested (e.g., 2024). \"))\n",
    "quarter = int(input(\"Enter the quarter in which you are interested (e.g. 4). \"))\n",
    "month = int(input(\"Enter the month of interest in numerical format (e.g. 11).\"))\n",
    "day = int(input(\"Enter the day of interest in numerical format (e.g. 27).\"))\n",
    "date = f\"{year}{month}{day}\"\n",
    "base_url = 'https://www.sec.gov/Archives/edgar/daily-index'\n",
    "index_url = f'{base_url}/{year}/QTR{quarter}/company.{date}.idx'\n",
    "\n",
    "base_full_index_url ='https://www.sec.gov/Archives/edgar/full-index'\n",
    "full_index_url =  f'{base_full_index_url}/2024/QTR3/company.idx'\n",
    "\n",
    "headers = {\n",
    "    'User-Agent': 'Test (test@test.com)',\n",
    "    'Accept-Encoding': 'gzip, deflate',\n",
    "    'Host': 'www.sec.gov',\n",
    "    'Connection': 'keep-alive',\n",
    "}\n",
    "response = requests.get(index_url, headers=headers)\n",
    "#response = requests.get(full_index_url, headers=headers)\n",
    "\n",
    "if response.status_code == 403:\n",
    "    print(\"Access denied. Ensure you have a proper User-Agent header.\")\n",
    "    exit()\n",
    "\n",
    "response.raise_for_status() \n",
    "\n",
    "\n",
    "content = response.text\n",
    "\n",
    "print(content)\n",
    "lines = content.splitlines()\n",
    "\n",
    "\n",
    "form_d_filings = []\n",
    "\n",
    "\n",
    "\n",
    "header = [\"Company Name\", \"Form Type\", \"CIK\", \"Date Filed\", \"File Name\"]\n",
    "#data lines skip 3 for daily index, 7 for full index \n",
    "#daily index returns idx file with all the fillings for the day, fixed width format, parse it into pandas \n",
    "records = [] \n",
    "#daily index formatting \n",
    "\n",
    "data_lines= lines[3:]\n",
    "for line in data_lines:\n",
    "    if line.strip():  \n",
    "        company_name = line[:60].strip()\n",
    "        form_type = line[60:71].strip()\n",
    "        cik = line[71:82].strip()\n",
    "        date_filed = line[82:92].strip()\n",
    "        file_name = line[92:].strip()\n",
    "        records.append([company_name, form_type, cik, date_filed, file_name])\n",
    "\n",
    "\n",
    "#quarter index formatting \n",
    "'''\n",
    "data_lines=lines[8:]\n",
    "for line in data_lines:\n",
    "    if line.strip():  # Ignore empty lines\n",
    "        company_name = line[0:59].strip()\n",
    "        form_type = line[59:72].strip()\n",
    "        cik = line[72:87].strip()\n",
    "        date_filed = line[87:102].strip()\n",
    "        file_name = line[102:].strip()\n",
    "        \n",
    "        records.append([company_name, form_type, cik, date_filed, file_name])\n",
    "        '''\n",
    "print(records[1])\n",
    "df = pd.DataFrame(records, columns=header)\n",
    "print(response.text)\n",
    "print(len(records))\n",
    "\n",
    "form_d_df = df[df[\"Form Type\"] == \"D\"] \n",
    "row_dict = form_d_df.iloc[1].to_dict()  \n",
    "print(\"Row at index 1 as a dictionary:\")\n",
    "for key, value in row_dict.items():\n",
    "    print(f\"{key}: {value}\")\n",
    "#actual data can be downloaded with CIK and an accession number for the filling\n",
    "form_d_df['Acession_number'] = form_d_df['File Name'].str.split('/').str[-1].str.replace('-', '').str.replace('.txt', '', regex=False)\n",
    "\n",
    "\n",
    "base_url = \"https://www.sec.gov/Archives/edgar/data/\"\n",
    "headers = {\n",
    "    'User-Agent': 'Test (test@test.com)',\n",
    "    'Accept-Encoding': 'gzip, deflate',\n",
    "    'Host': 'www.sec.gov',\n",
    "    'Connection': 'keep-alive',\n",
    "}\n",
    "\n",
    "xml_data_list = []\n",
    "for index, row in form_d_df.iterrows():\n",
    "    print(\"working:\" + row['CIK'])\n",
    "    cik = row['CIK']\n",
    "    accession_number = row['Acession_number']\n",
    "    url = f\"{base_url}{cik}/{accession_number}/primary_doc.xml\"\n",
    "    try:\n",
    "        response = requests.get(url, headers=headers)\n",
    "        if response.status_code == 200:\n",
    "            xml_data_list.append(response.text)\n",
    "        else:\n",
    "            xml_data_list.append(f\"Failed for {url} with status code {response.status_code}\")\n",
    "    except Exception as e:\n",
    "        xml_data_list.append(f\"Error for {url}: {str(e)}\")\n",
    "print(len(form_d_df))\n",
    "\n",
    "#//todo parse xml file to pandas "
   ]
  },
  {
   "cell_type": "code",
   "execution_count": null,
   "metadata": {},
   "outputs": [],
   "source": []
  },
  {
   "cell_type": "code",
   "execution_count": null,
   "metadata": {},
   "outputs": [],
   "source": [
    "# Parsing the XML file to extract the relevant information\n",
    "\n",
    "import xml.etree.ElementTree as ET\n",
    "import  plotly.express as px\n",
    "import plotly.graph_objects as go\n",
    "# Definine parsing function\n",
    "def xml_parse(root):\n",
    "    def extract_text(element, path):\n",
    "        found = element.find(path)\n",
    "        return found.text if found is not None else None\n",
    "\n",
    "    # Parse primary issuer data\n",
    "    primary_issuer = root.find(\".//primaryIssuer\")\n",
    "    if primary_issuer is None:\n",
    "        return None\n",
    "    data_primary_issuer = {\n",
    "        \"Central Index Key\": extract_text(primary_issuer, \".//cik\"),\n",
    "        \"Name of the Entity\": extract_text(primary_issuer, \".//entityName\"),\n",
    "        \"Address\": extract_text(primary_issuer, \".//street1\"),\n",
    "        \"Address - Specification\": extract_text(primary_issuer, \".//street2\"),\n",
    "        \"City\": extract_text(primary_issuer, \".//city\"),\n",
    "        \"State or Country - Physical Location\": extract_text(primary_issuer, \".//stateOrCountry\"),\n",
    "        \"State or Country - Full - Physical Location\": extract_text(primary_issuer, \".//stateOrCountryDescription\"),\n",
    "        \"Zip Code / Postal Code\": extract_text(primary_issuer, \".//zipCode\"),\n",
    "        \"Issuer Phone Number\": extract_text(primary_issuer, \".//issuerPhoneNumber\"),\n",
    "        \"State or Country - Legal Jurisdiction\": extract_text(primary_issuer, \".//jurisdictionOfInc\"),\n",
    "        \"Previous Names Used by the Issuer\": extract_text(primary_issuer, \".//issuerPreviousNameList/value\"),\n",
    "        \"Previous Names from EDGAR\": extract_text(primary_issuer, \".//edgarPreviousNameList/value\"),\n",
    "        \"Type of the Entity\": extract_text(primary_issuer, \".//entityType\"),\n",
    "        \"Type of the Entity - Specification\": extract_text(primary_issuer, \".//entityTypeOtherDesc\"),\n",
    "    }\n",
    "\n",
    "    # Parse related persons data\n",
    "    related_persons = root.findall(\".//relatedPersonsList/relatedPersonInfo\")\n",
    "    data_related_persons = {}\n",
    "    for i, related_person in enumerate(related_persons, start=1):\n",
    "        data_related_persons[f\"First Name - Person {i}\"] = extract_text(related_person, \".//relatedPersonName/firstName\"),\n",
    "        data_related_persons[f\"Last Name - Person {i}\"] = extract_text(related_person, \".//relatedPersonName/lastName\"),\n",
    "        data_related_persons[f\"Associated Address - Person {i}\"] = extract_text(related_person, \".//relatedPersonAddress/street1\"),\n",
    "        data_related_persons[f\"Associated Address - Specification - Person {i}\"] = extract_text(related_person, \".//relatedPersonAddress/street2\"),\n",
    "        data_related_persons[f\"Associated City - Person {i}\"] = extract_text(related_person, \".//relatedPersonAddress/city\"),\n",
    "        data_related_persons[f\"Associated State or Country - Person {i}\"] = extract_text(related_person, \".//relatedPersonAddress/stateOrCountry\"),\n",
    "        data_related_persons[f\"Associated State or Country - Full - Person {i}\"] = extract_text(related_person, \".//relatedPersonAddress/stateOrCountryDescription\"),\n",
    "        data_related_persons[f\"Associated Zip Code - Person {i}\"] = extract_text(related_person, \".//relatedPersonAddress/zipCode\"),\n",
    "\n",
    "        relationships = related_person.findall(\".//relatedPersonRelationshipList/relationship\")\n",
    "        for j, relationship in enumerate(relationships, start=1):\n",
    "            data_related_persons[f\"Relationship {j} with the Entity - Person {i}\"] = relationship.text if relationship is not None else None\n",
    "\n",
    "        data_related_persons[f\"Clarification of the relationship - Person {i}\"] = extract_text(related_person, \".//relationshipClarification\"),\n",
    "\n",
    "    # Parse offering data\n",
    "    offering_data = root.find(\".//offeringData\")\n",
    "    data_offering_data = {\n",
    "        \"Industry\": extract_text(offering_data, \".//industryGroup/industryGroupType\"),\n",
    "        \"Revenue Range of the Entity\": extract_text(offering_data, \".//issuerSize/revenueRange\"),\n",
    "        \"Federal Exemption or Exclusions Claimed by the Entity\": \", \".join([item.text for item in offering_data.findall(\".//federalExemptionsExclusions/item\") if item is not None]) if offering_data is not None else None,\n",
    "        \"Is the Entry an Amendment to Another Filing?\": extract_text(offering_data, \".//typeOfFiling/newOrAmendment/isAmendment\"),\n",
    "        \"Date of the First Sale Under this Filing\": extract_text(offering_data, \".//typeOfFiling/dateOfFirstSale/value\"),\n",
    "        \"Is the Offering Duration Intended to be More Than a Year?\": extract_text(offering_data, \".//durationOfOffering/moreThanOneYear\"),\n",
    "        \"Is the Entity Offering Equity\": extract_text(offering_data, \".//typesOfSecuritiesOffered/isEquityType\"),\n",
    "        \"Is the Entity Creating or Managing a Pooled Fund\": extract_text(offering_data, \".//typesOfSecuritiesOffered/isPooledInvestmentFundType\"),\n",
    "        \"Is the Offering Part of a Business Combination Transaction?\": extract_text(offering_data, \".//isPooledInvestmentFundType/isBusinessCombinationTransaction\"),\n",
    "        \"Is the Offering Part of a Business Combination Transaction? - Clarification\": extract_text(offering_data, \".//businessCombinationTransaction/clarificationOfResponse\"),\n",
    "        \"Minimum Investment Amount Accepted\": extract_text(offering_data, \".//minimumInvestmentAccepted\"),\n",
    "        #\"Entities Compensated for Selling the Securities\": extract_text(offering_data, \".//salesCompensationList\"),\n",
    "        # The line above is commented out because we don't see much use in it\n",
    "        \"Total Amount Offered\": extract_text(offering_data, \".//offeringSalesAmounts/totalOfferingAmount\"),\n",
    "        \"Total Amount Sold So Far\": extract_text(offering_data, \".//offeringSalesAmounts/totalAmountSold\"),\n",
    "        \"Total Amount Remaining to be sold\": extract_text(offering_data, \".//offeringSalesAmounts/totalRemaining\"),\n",
    "        \"Clarifications Regarding the Offering and Sales amounts\": extract_text(offering_data, \".//offeringSalesAmounts/clarificationOfResponse\"),\n",
    "        \"Are Non-accredited Investors Participating in the Offering?\": extract_text(offering_data, \".//investors/hasNonAccreditedInvestors\"),\n",
    "        \"Number of Investors Who Already Invested Under Current Offering\": extract_text(offering_data, \".//investors/totalNumberAlreadyInvested\"),\n",
    "        \"Commision Amount Paid for Sales\": extract_text(offering_data, \".//salesCommissionsFindersFees/salesCommissions/dollarAmount\"),\n",
    "        \"Finder's Fees Amount Paid\": extract_text(offering_data, \".//salesCommissionsFindersFees/findersFees/dollarAmount\"),\n",
    "        \"Clarification Regarding the Finder's Fees Amount Paid\": extract_text(offering_data, \".//salesCommissionsFindersFees/clarificationOfResponse\"),\n",
    "        \"Amount of the Raised Capital Already Used for a Purpose\": extract_text(offering_data, \".//useOfProceeds/grossProceedsUsed/dollarAmount\"),\n",
    "        \"Clarification Regarding the Amount of the Raised Capital Already Used for a Purpose\": extract_text(offering_data, \".//useOfProceeds/clarificationOfResponse\"),\n",
    "        \"Name of the Entity Representative Signing the Filing\": extract_text(offering_data, \".//signatureBlock/authorizedRepresentative\"),\n",
    "        \"Name of the Issuer Entity\": extract_text(offering_data, \".//signatureBlock/signature/issuerName\"),\n",
    "        \"Name of the Person Signing\": extract_text(offering_data, \".//signatureBlock/signature/signatureName\"),\n",
    "        \"Name of the Person Signing - Affirmation\": extract_text(offering_data, \".//signatureBlock/signature/nameOfSigner\"),\n",
    "        \"Title of the Person Signing\": extract_text(offering_data, \".//signatureBlock/signature/signatureTitle\"),\n",
    "        \"Date the Form Was Signed\": extract_text(offering_data, \".//signatureBlock/signature/signatureDate\")\n",
    "    }\n",
    "    # Combine all data\n",
    "    data = {**data_primary_issuer, **data_related_persons, **data_offering_data}\n",
    "    return data\n",
    "\n",
    "data_fin = []\n",
    "\n",
    "for information in xml_data_list:\n",
    "    print(information)\n",
    "    root = ET.fromstring(information)\n",
    "    data_fin.append(xml_parse(root))\n",
    "\n",
    "df_main = pd.DataFrame(data_fin)\n",
    "#pd.set_option('display.max_columns', 500)\n",
    "# A very inefficient way to reorganize the columns\n",
    "#df_main.reindex(([\"Central Index Key\", \"Name of the Entity\", \"Address\", \"Address - Specification\", \"City\", \"State or Country - Physical Location\", \"State or Country - Full - Physical Location\", \"Zip Code / Postal Code\", \"Issuer Phone Number\", \"State or Country - Legal Jurisdiction\", \"Previous Names Used by the Issuer\", \"Previous Names from EDGAR\", \"Type of the Entity\", \"Type of the Entity - Specification\", \"Industry\", \"Revenue Range of the Entity\", \"Federal Exemption or Exclusions Claimed by the Entity\", \"Is the Entry an Amendment to Another Filing?\", \"Date of the First Sale Under this Filing\", \"Is the Offering Duration Intended to be More Than a Year?\", \"Is the Entity Offering Equity\", \"Is the Entity Creating or Managing a Pooled Fund\", \"Is the Offering Part of a Business Combination Transaction?\", \"Is the Offering Part of a Business Combination Transaction? - Clarification\", \"Minimum Investment Amount Accepted\", \"Entities Compensated for Selling the Securities\", \"Total Amount Offered\", \"Total Amount Sold So Far\", \"Total Amount Remaining to be sold\", \"Clarifications Regarding the Offering and Sales amounts\", \"Are Non-accredited Investors Participating in the Offering?\", \"Number of Investors Who Already Invested Under Current Offering\", \"Commision Amount Paid for Sales\", \"Finder's Fees Amount Paid\", \"Clarification Regarding the Finder's Fees Amount Paid\", \"Amount of the Raised Capital Already Used for a Purpose\", \"Clarification Regarding the Amount of the Raised Capital Already Used for a Purpose\", \"Name of the Entity Representative Signing the Filing\", \"Name of the Issuer Entity\", \"Name of the Person Signing\", \"Name of the Person Signing - Affirmation\", \"Title of the Person Signing\", \"Date the Form Was Signed\", \"First Name - Person 1\", \"Last Name - Person 1\", \"Associated Address - Person 1\", \"Associated Address - Specification - Person 1\", \"Associated City - Person 1\", \"Associated State or Country - Person 1\", \"Associated State or Country - Full - Person 1\", \"Associated Zip Code - Person 1\", \"Relationship 1 with the Entity - Person 1\", \"Relationship 2 with the Entity - Person 1\", \"Relationship 3 with the Entity - Person 1\", \"Clarification of the relationship - Person 1\", \"First Name - Person 2\", \"Last Name - Person 2\", \"Associated Address - Person 2\", \"Associated Address - Specification - Person 2\", \"Associated City - Person 2\", \"Associated State or Country - Person 2\", \"Associated State or Country - Full - Person 2\", \"Associated Zip Code - Person 2\", \"Relationship 1 with the Entity - Person 2\", \"Relationship 2 with the Entity - Person 2\", \"Clarification of the relationship - Person 2\", \"First Name - Person 3\", \"Last Name - Person 3\", \"Associated Address - Person 3\", \"Associated Address - Specification - Person 3\", \"Associated City - Person 3\", \"Associated State or Country - Person 3\", \"Associated State or Country - Full - Person 3\", \"Associated Zip Code - Person 3\", \"Relationship 1 with the Entity - Person 3\", \"Relationship 2 with the Entity - Person 3\", \"Clarification of the relationship - Person 3\", \"First Name - Person 4\", \"Last Name - Person 4\", \"Associated Address - Person 4\", \"Associated Address - Specification - Person 4\", \"Associated City - Person 4\", \"Associated State or Country - Person 4\", \"Associated State or Country - Full - Person 4\", \"Associated Zip Code - Person 4\", \"Relationship 1 with the Entity - Person 4\", \"Clarification of the relationship - Person 4\", \"First Name - Person 5\", \"Last Name - Person 5\", \"Associated Address - Person 5\", \"Associated Address - Specification - Person 5\", \"Associated City - Person 5\", \"Associated State or Country - Person 5\", \"Associated State or Country - Full - Person 5\", \"Associated Zip Code - Person 5\", \"Relationship 1 with the Entity - Person 5\", \"Clarification of the relationship - Person 5\"]), axis=1)\n",
    "\n",
    "# Cleaning the data\n",
    "df_main = df_main.fillna(\"N/A\")\n",
    "for column in df_main.columns:\n",
    "    df_main[column] = df_main[column].apply(lambda x: x[0] if isinstance(x, tuple) else x)\n",
    "\n",
    "df_main = df_main.replace(\"None\", \"N/A\")\n",
    "\n",
    "redundant_strings = [\"/s/\", \"/bem/\", \"c/o\", \"n/a\"]\n",
    "for x in redundant_strings:\n",
    "    df_main = df_main.replace(x, \"\", regex=True)\n",
    "\n",
    "df_main = df_main.replace(\"\", \"N/A\")\n",
    "df_main = df_main.fillna(\"N/A\")\n",
    "\n",
    "\n",
    "\n"
   ]
  },
  {
   "cell_type": "code",
   "execution_count": null,
   "metadata": {},
   "outputs": [],
   "source": [
    "all_states = [\n",
    "    \"AL\", \"AK\", \"AZ\", \"AR\", \"CA\", \"CO\", \"CT\", \"DE\", \"FL\", \"GA\", \n",
    "    \"HI\", \"ID\", \"IL\", \"IN\", \"IA\", \"KS\", \"KY\", \"LA\", \"ME\", \"MD\", \n",
    "    \"MA\", \"MI\", \"MN\", \"MS\", \"MO\", \"MT\", \"NE\", \"NV\", \"NH\", \"NJ\", \n",
    "    \"NM\", \"NY\", \"NC\", \"ND\", \"OH\", \"OK\", \"OR\", \"PA\", \"RI\", \"SC\", \n",
    "    \"SD\", \"TN\", \"TX\", \"UT\", \"VT\", \"VA\", \"WA\", \"WV\", \"WI\", \"WY\"\n",
    "]\n",
    "state_full_names = [\n",
    "    \"ALABAMA\", \"ALASKA\", \"ARIZONA\", \"ARKANSAS\", \"CALIFORNIA\", \"COLORADO\", \"CONNECTICUT\", \n",
    "    \"DELAWARE\", \"FLORIDA\", \"GEORGIA\", \"HAWAII\", \"IDAHO\", \"ILLINOIS\", \"INDIANA\", \"IOWA\", \n",
    "    \"KANSAS\", \"KENTUCKY\", \"LOUISIANA\", \"MAINE\", \"MARYLAND\", \"MASSACHUSETTS\", \"MICHIGAN\", \n",
    "    \"MINNESOTA\", \"MISSISSIPPI\", \"MISSOURI\", \"MONTANA\", \"NEBRASKA\", \"NEVADA\", \"NEW HAMPSHIRE\", \n",
    "    \"NEW JERSEY\", \"NEW MEXICO\", \"NEW YORK\", \"NORTH CAROLINA\", \"NORTH DAKOTA\", \"OHIO\", \n",
    "    \"OKLAHOMA\", \"OREGON\", \"PENNSYLVANIA\", \"RHODE ISLAND\", \"SOUTH CAROLINA\", \"SOUTH DAKOTA\", \n",
    "    \"TENNESSEE\", \"TEXAS\", \"UTAH\", \"VERMONT\", \"VIRGINIA\", \"WASHINGTON\", \"WEST VIRGINIA\", \n",
    "    \"WISCONSIN\", \"WYOMING\"\n",
    "]\n",
    "df =  pd.read_csv(\"2024_QTR4.csv\")\n",
    "\n",
    "state_name_to_abbreviation = dict(zip(state_full_names, all_states))\n",
    "\n",
    "jurisdiction_counts = (\n",
    "    df[\"State or Country - Legal Jurisdiction\"]\n",
    "    .map(state_name_to_abbreviation)\n",
    "    .value_counts()  \n",
    "    .reset_index()\n",
    ")\n",
    "jurisdiction_counts.columns = [\"State\", \"JurisdictionCount\"]\n",
    "state_counts_simple = (\n",
    "    df[\"State or Country - Physical Location\"]\n",
    "    .value_counts()\n",
    "    .reset_index()\n",
    ")\n",
    "state_counts_simple.columns = [\"State\", \"TotalCount\"]\n",
    "state_counts_simple[\"TotalCount\"] = state_counts_simple[\"TotalCount\"].fillna(0).astype(int)\n",
    "print(state_counts_simple)\n",
    "\n",
    "merged_counts = pd.merge(\n",
    "    jurisdiction_counts, state_counts_simple, on=\"State\", how=\"outer\"\n",
    ").fillna(0)\n",
    "\n",
    "merged_counts[\"Percentage\"] = (\n",
    "    (merged_counts[\"JurisdictionCount\"] / merged_counts[\"TotalCount\"]) * 100\n",
    ").fillna(0)\n",
    "\n",
    "# Ensure all states are represented in the DataFrame with default count 0\n",
    "#state_counts_simple = df[\"State or Country - Physical Location\"].value_counts().reset_index()\n",
    "#state_counts_simple.columns = [\"State\", \"Count\"]\n",
    "#state_counts_simple[\"Count\"] = state_counts_simple[\"Count\"].fillna(0).astype(int)\n",
    "\n",
    "merged_counts = merged_counts[[\"State\", \"Percentage\"]]\n",
    "print(merged_counts.head(55))\n",
    "\n",
    "fig_simple = px.choropleth(\n",
    "    merged_counts,\n",
    "    locations=\"State\",\n",
    "    locationmode=\"USA-states\",\n",
    "    color=\"Percentage\",\n",
    "    range_color=(0,100),\n",
    "    scope=\"usa\",\n",
    "    color_continuous_scale=\"Viridis\",\n",
    "    title=\"Count of D type fillings by US state\"\n",
    ")\n",
    "\n",
    "# Displaying the map\n",
    "fig_simple.show()"
   ]
  },
  {
   "cell_type": "code",
   "execution_count": 1,
   "metadata": {},
   "outputs": [
    {
     "name": "stderr",
     "output_type": "stream",
     "text": [
      "/var/folders/d2/m57xcgf11tb1brc3mk8jsgjm0000gn/T/ipykernel_43521/744353279.py:11: DtypeWarning: Columns (89,100,112,181,191,201,211,221,224,225,226,227,228,229,230,232,233,234,235,236,237,238,239,240,242,243,244,245,246,247,248,249,250,251,252,253,254,255,256,257,258,259,260,262,263,264,265,266,267,268,269,270,272,273,274,275,277,278,280,281,282,283,284,285,286,288,289,290,291,292,293,294,295,296,298,299,300,301,302,303,304,305,306,308,309,310,311,312,313,314,315,316,318,320,321,322,323,324,325,326,328,330,331,332,333,334,335,336,338,340,341,342,343,344,345,346,348,350,351,352,353,354,355,356,358,360,361,362,363,364,365,367,368,369,371,373,374,375,377,378,379,381,383,384,385,387,388,389,391,393,394,395,397,398,399,401,403,404,405,407,408,409,411,413,414,415,417,418,419,421,423,424,425,427,428,429,431,433,434,435,437,438,439,441,443,444,445,447,448,449,451,453,454,455,457,458,459,461,463,464,465,467,468,469,471,473,474,475,477,478,479,481,483,484,485,487,488,489,491,493,494,495,497,498,499,501,503,504,505,507,508,509,511,513,514,515,517,518,519,521,523,524,525,527,528,529,531,533,534,535,537,538,539,541,543,544,545,546,547,548,549,550,551) have mixed types. Specify dtype option on import or set low_memory=False.\n",
      "  df = pd.read_csv(csv_file_path)\n"
     ]
    },
    {
     "data": {
      "application/vnd.plotly.v1+json": {
       "config": {
        "plotlyServerURL": "https://plot.ly"
       },
       "data": [
        {
         "coloraxis": "coloraxis",
         "geo": "geo",
         "hovertemplate": "State=%{location}<br>Total Income ($)=%{z}<extra></extra>",
         "locationmode": "USA-states",
         "locations": [
          "1T",
          "2M",
          "A0",
          "A1",
          "A5",
          "A6",
          "A8",
          "AK",
          "AL",
          "AR",
          "AZ",
          "C0",
          "C1",
          "C3",
          "C5",
          "CA",
          "CO",
          "CT",
          "D0",
          "D5",
          "D8",
          "DC",
          "DE",
          "E9",
          "F4",
          "F5",
          "F8",
          "FL",
          "G2",
          "G7",
          "GA",
          "HI",
          "I0",
          "IA",
          "ID",
          "IL",
          "IN",
          "K3",
          "K7",
          "K8",
          "KS",
          "KY",
          "L2",
          "L3",
          "LA",
          "M0",
          "M5",
          "MA",
          "MD",
          "ME",
          "MI",
          "MN",
          "MO",
          "MS",
          "MT",
          "N4",
          "N5",
          "NC",
          "ND",
          "NE",
          "NH",
          "NJ",
          "NM",
          "NV",
          "NY",
          "O4",
          "O5",
          "O9",
          "OH",
          "OK",
          "OR",
          "P7",
          "PA",
          "PR",
          "Q2",
          "RI",
          "SC",
          "SD",
          "TN",
          "TX",
          "U0",
          "U3",
          "UT",
          "V7",
          "V8",
          "VA",
          "VT",
          "WA",
          "WI",
          "WY",
          "X0",
          "X1",
          "X3",
          "X5",
          "Y7",
          "Y9",
          "Z4"
         ],
         "name": "",
         "type": "choropleth",
         "z": [
          0,
          2279212,
          6789691,
          106922038,
          33750,
          282217436,
          10418332,
          40400000,
          182666422,
          91957471,
          220329645,
          0,
          1999594,
          8503396,
          2178638,
          17341028390,
          1153761180,
          2340335620,
          1623357718,
          31267099,
          29326577183,
          165415944,
          882435078,
          7115885799,
          6080000,
          0,
          4050767,
          6901427121,
          50000000,
          106219450,
          1442945478,
          4299999,
          36263670,
          153755022,
          26120383,
          15680778993,
          978556174,
          306672450,
          3620000,
          2031550,
          860574206,
          34868704,
          35260000,
          140734092,
          123814571,
          296527026,
          618000,
          2499346874,
          1789911969,
          15703265,
          232935675,
          604164963,
          242624746,
          14238000,
          23558861,
          2066483728,
          5000000,
          503338387,
          4624700,
          44214729,
          9436450,
          1629914786,
          10069094,
          310096078,
          19759088690,
          0,
          1302262,
          3000000,
          1621417149,
          50606984,
          123569639,
          5655878,
          2287761360,
          211704777,
          1264782,
          978944940,
          94942078,
          40527042,
          1951392522,
          5752493312,
          256500000,
          50922050,
          309650496,
          305281348,
          20827291,
          4866297808,
          18278822,
          758667693,
          337605852,
          62414023,
          3664568121,
          91867890,
          386000,
          950000,
          9883800,
          245633874,
          19056219
         ]
        }
       ],
       "layout": {
        "coloraxis": {
         "colorbar": {
          "title": {
           "text": "Total Income ($)"
          }
         },
         "colorscale": [
          [
           0,
           "#440154"
          ],
          [
           0.1111111111111111,
           "#482878"
          ],
          [
           0.2222222222222222,
           "#3e4989"
          ],
          [
           0.3333333333333333,
           "#31688e"
          ],
          [
           0.4444444444444444,
           "#26828e"
          ],
          [
           0.5555555555555556,
           "#1f9e89"
          ],
          [
           0.6666666666666666,
           "#35b779"
          ],
          [
           0.7777777777777778,
           "#6ece58"
          ],
          [
           0.8888888888888888,
           "#b5de2b"
          ],
          [
           1,
           "#fde725"
          ]
         ]
        },
        "geo": {
         "center": {},
         "domain": {
          "x": [
           0,
           1
          ],
          "y": [
           0,
           1
          ]
         },
         "scope": "usa"
        },
        "legend": {
         "tracegroupgap": 0
        },
        "template": {
         "data": {
          "bar": [
           {
            "error_x": {
             "color": "#2a3f5f"
            },
            "error_y": {
             "color": "#2a3f5f"
            },
            "marker": {
             "line": {
              "color": "#E5ECF6",
              "width": 0.5
             },
             "pattern": {
              "fillmode": "overlay",
              "size": 10,
              "solidity": 0.2
             }
            },
            "type": "bar"
           }
          ],
          "barpolar": [
           {
            "marker": {
             "line": {
              "color": "#E5ECF6",
              "width": 0.5
             },
             "pattern": {
              "fillmode": "overlay",
              "size": 10,
              "solidity": 0.2
             }
            },
            "type": "barpolar"
           }
          ],
          "carpet": [
           {
            "aaxis": {
             "endlinecolor": "#2a3f5f",
             "gridcolor": "white",
             "linecolor": "white",
             "minorgridcolor": "white",
             "startlinecolor": "#2a3f5f"
            },
            "baxis": {
             "endlinecolor": "#2a3f5f",
             "gridcolor": "white",
             "linecolor": "white",
             "minorgridcolor": "white",
             "startlinecolor": "#2a3f5f"
            },
            "type": "carpet"
           }
          ],
          "choropleth": [
           {
            "colorbar": {
             "outlinewidth": 0,
             "ticks": ""
            },
            "type": "choropleth"
           }
          ],
          "contour": [
           {
            "colorbar": {
             "outlinewidth": 0,
             "ticks": ""
            },
            "colorscale": [
             [
              0,
              "#0d0887"
             ],
             [
              0.1111111111111111,
              "#46039f"
             ],
             [
              0.2222222222222222,
              "#7201a8"
             ],
             [
              0.3333333333333333,
              "#9c179e"
             ],
             [
              0.4444444444444444,
              "#bd3786"
             ],
             [
              0.5555555555555556,
              "#d8576b"
             ],
             [
              0.6666666666666666,
              "#ed7953"
             ],
             [
              0.7777777777777778,
              "#fb9f3a"
             ],
             [
              0.8888888888888888,
              "#fdca26"
             ],
             [
              1,
              "#f0f921"
             ]
            ],
            "type": "contour"
           }
          ],
          "contourcarpet": [
           {
            "colorbar": {
             "outlinewidth": 0,
             "ticks": ""
            },
            "type": "contourcarpet"
           }
          ],
          "heatmap": [
           {
            "colorbar": {
             "outlinewidth": 0,
             "ticks": ""
            },
            "colorscale": [
             [
              0,
              "#0d0887"
             ],
             [
              0.1111111111111111,
              "#46039f"
             ],
             [
              0.2222222222222222,
              "#7201a8"
             ],
             [
              0.3333333333333333,
              "#9c179e"
             ],
             [
              0.4444444444444444,
              "#bd3786"
             ],
             [
              0.5555555555555556,
              "#d8576b"
             ],
             [
              0.6666666666666666,
              "#ed7953"
             ],
             [
              0.7777777777777778,
              "#fb9f3a"
             ],
             [
              0.8888888888888888,
              "#fdca26"
             ],
             [
              1,
              "#f0f921"
             ]
            ],
            "type": "heatmap"
           }
          ],
          "heatmapgl": [
           {
            "colorbar": {
             "outlinewidth": 0,
             "ticks": ""
            },
            "colorscale": [
             [
              0,
              "#0d0887"
             ],
             [
              0.1111111111111111,
              "#46039f"
             ],
             [
              0.2222222222222222,
              "#7201a8"
             ],
             [
              0.3333333333333333,
              "#9c179e"
             ],
             [
              0.4444444444444444,
              "#bd3786"
             ],
             [
              0.5555555555555556,
              "#d8576b"
             ],
             [
              0.6666666666666666,
              "#ed7953"
             ],
             [
              0.7777777777777778,
              "#fb9f3a"
             ],
             [
              0.8888888888888888,
              "#fdca26"
             ],
             [
              1,
              "#f0f921"
             ]
            ],
            "type": "heatmapgl"
           }
          ],
          "histogram": [
           {
            "marker": {
             "pattern": {
              "fillmode": "overlay",
              "size": 10,
              "solidity": 0.2
             }
            },
            "type": "histogram"
           }
          ],
          "histogram2d": [
           {
            "colorbar": {
             "outlinewidth": 0,
             "ticks": ""
            },
            "colorscale": [
             [
              0,
              "#0d0887"
             ],
             [
              0.1111111111111111,
              "#46039f"
             ],
             [
              0.2222222222222222,
              "#7201a8"
             ],
             [
              0.3333333333333333,
              "#9c179e"
             ],
             [
              0.4444444444444444,
              "#bd3786"
             ],
             [
              0.5555555555555556,
              "#d8576b"
             ],
             [
              0.6666666666666666,
              "#ed7953"
             ],
             [
              0.7777777777777778,
              "#fb9f3a"
             ],
             [
              0.8888888888888888,
              "#fdca26"
             ],
             [
              1,
              "#f0f921"
             ]
            ],
            "type": "histogram2d"
           }
          ],
          "histogram2dcontour": [
           {
            "colorbar": {
             "outlinewidth": 0,
             "ticks": ""
            },
            "colorscale": [
             [
              0,
              "#0d0887"
             ],
             [
              0.1111111111111111,
              "#46039f"
             ],
             [
              0.2222222222222222,
              "#7201a8"
             ],
             [
              0.3333333333333333,
              "#9c179e"
             ],
             [
              0.4444444444444444,
              "#bd3786"
             ],
             [
              0.5555555555555556,
              "#d8576b"
             ],
             [
              0.6666666666666666,
              "#ed7953"
             ],
             [
              0.7777777777777778,
              "#fb9f3a"
             ],
             [
              0.8888888888888888,
              "#fdca26"
             ],
             [
              1,
              "#f0f921"
             ]
            ],
            "type": "histogram2dcontour"
           }
          ],
          "mesh3d": [
           {
            "colorbar": {
             "outlinewidth": 0,
             "ticks": ""
            },
            "type": "mesh3d"
           }
          ],
          "parcoords": [
           {
            "line": {
             "colorbar": {
              "outlinewidth": 0,
              "ticks": ""
             }
            },
            "type": "parcoords"
           }
          ],
          "pie": [
           {
            "automargin": true,
            "type": "pie"
           }
          ],
          "scatter": [
           {
            "fillpattern": {
             "fillmode": "overlay",
             "size": 10,
             "solidity": 0.2
            },
            "type": "scatter"
           }
          ],
          "scatter3d": [
           {
            "line": {
             "colorbar": {
              "outlinewidth": 0,
              "ticks": ""
             }
            },
            "marker": {
             "colorbar": {
              "outlinewidth": 0,
              "ticks": ""
             }
            },
            "type": "scatter3d"
           }
          ],
          "scattercarpet": [
           {
            "marker": {
             "colorbar": {
              "outlinewidth": 0,
              "ticks": ""
             }
            },
            "type": "scattercarpet"
           }
          ],
          "scattergeo": [
           {
            "marker": {
             "colorbar": {
              "outlinewidth": 0,
              "ticks": ""
             }
            },
            "type": "scattergeo"
           }
          ],
          "scattergl": [
           {
            "marker": {
             "colorbar": {
              "outlinewidth": 0,
              "ticks": ""
             }
            },
            "type": "scattergl"
           }
          ],
          "scattermapbox": [
           {
            "marker": {
             "colorbar": {
              "outlinewidth": 0,
              "ticks": ""
             }
            },
            "type": "scattermapbox"
           }
          ],
          "scatterpolar": [
           {
            "marker": {
             "colorbar": {
              "outlinewidth": 0,
              "ticks": ""
             }
            },
            "type": "scatterpolar"
           }
          ],
          "scatterpolargl": [
           {
            "marker": {
             "colorbar": {
              "outlinewidth": 0,
              "ticks": ""
             }
            },
            "type": "scatterpolargl"
           }
          ],
          "scatterternary": [
           {
            "marker": {
             "colorbar": {
              "outlinewidth": 0,
              "ticks": ""
             }
            },
            "type": "scatterternary"
           }
          ],
          "surface": [
           {
            "colorbar": {
             "outlinewidth": 0,
             "ticks": ""
            },
            "colorscale": [
             [
              0,
              "#0d0887"
             ],
             [
              0.1111111111111111,
              "#46039f"
             ],
             [
              0.2222222222222222,
              "#7201a8"
             ],
             [
              0.3333333333333333,
              "#9c179e"
             ],
             [
              0.4444444444444444,
              "#bd3786"
             ],
             [
              0.5555555555555556,
              "#d8576b"
             ],
             [
              0.6666666666666666,
              "#ed7953"
             ],
             [
              0.7777777777777778,
              "#fb9f3a"
             ],
             [
              0.8888888888888888,
              "#fdca26"
             ],
             [
              1,
              "#f0f921"
             ]
            ],
            "type": "surface"
           }
          ],
          "table": [
           {
            "cells": {
             "fill": {
              "color": "#EBF0F8"
             },
             "line": {
              "color": "white"
             }
            },
            "header": {
             "fill": {
              "color": "#C8D4E3"
             },
             "line": {
              "color": "white"
             }
            },
            "type": "table"
           }
          ]
         },
         "layout": {
          "annotationdefaults": {
           "arrowcolor": "#2a3f5f",
           "arrowhead": 0,
           "arrowwidth": 1
          },
          "autotypenumbers": "strict",
          "coloraxis": {
           "colorbar": {
            "outlinewidth": 0,
            "ticks": ""
           }
          },
          "colorscale": {
           "diverging": [
            [
             0,
             "#8e0152"
            ],
            [
             0.1,
             "#c51b7d"
            ],
            [
             0.2,
             "#de77ae"
            ],
            [
             0.3,
             "#f1b6da"
            ],
            [
             0.4,
             "#fde0ef"
            ],
            [
             0.5,
             "#f7f7f7"
            ],
            [
             0.6,
             "#e6f5d0"
            ],
            [
             0.7,
             "#b8e186"
            ],
            [
             0.8,
             "#7fbc41"
            ],
            [
             0.9,
             "#4d9221"
            ],
            [
             1,
             "#276419"
            ]
           ],
           "sequential": [
            [
             0,
             "#0d0887"
            ],
            [
             0.1111111111111111,
             "#46039f"
            ],
            [
             0.2222222222222222,
             "#7201a8"
            ],
            [
             0.3333333333333333,
             "#9c179e"
            ],
            [
             0.4444444444444444,
             "#bd3786"
            ],
            [
             0.5555555555555556,
             "#d8576b"
            ],
            [
             0.6666666666666666,
             "#ed7953"
            ],
            [
             0.7777777777777778,
             "#fb9f3a"
            ],
            [
             0.8888888888888888,
             "#fdca26"
            ],
            [
             1,
             "#f0f921"
            ]
           ],
           "sequentialminus": [
            [
             0,
             "#0d0887"
            ],
            [
             0.1111111111111111,
             "#46039f"
            ],
            [
             0.2222222222222222,
             "#7201a8"
            ],
            [
             0.3333333333333333,
             "#9c179e"
            ],
            [
             0.4444444444444444,
             "#bd3786"
            ],
            [
             0.5555555555555556,
             "#d8576b"
            ],
            [
             0.6666666666666666,
             "#ed7953"
            ],
            [
             0.7777777777777778,
             "#fb9f3a"
            ],
            [
             0.8888888888888888,
             "#fdca26"
            ],
            [
             1,
             "#f0f921"
            ]
           ]
          },
          "colorway": [
           "#636efa",
           "#EF553B",
           "#00cc96",
           "#ab63fa",
           "#FFA15A",
           "#19d3f3",
           "#FF6692",
           "#B6E880",
           "#FF97FF",
           "#FECB52"
          ],
          "font": {
           "color": "#2a3f5f"
          },
          "geo": {
           "bgcolor": "white",
           "lakecolor": "white",
           "landcolor": "#E5ECF6",
           "showlakes": true,
           "showland": true,
           "subunitcolor": "white"
          },
          "hoverlabel": {
           "align": "left"
          },
          "hovermode": "closest",
          "mapbox": {
           "style": "light"
          },
          "paper_bgcolor": "white",
          "plot_bgcolor": "#E5ECF6",
          "polar": {
           "angularaxis": {
            "gridcolor": "white",
            "linecolor": "white",
            "ticks": ""
           },
           "bgcolor": "#E5ECF6",
           "radialaxis": {
            "gridcolor": "white",
            "linecolor": "white",
            "ticks": ""
           }
          },
          "scene": {
           "xaxis": {
            "backgroundcolor": "#E5ECF6",
            "gridcolor": "white",
            "gridwidth": 2,
            "linecolor": "white",
            "showbackground": true,
            "ticks": "",
            "zerolinecolor": "white"
           },
           "yaxis": {
            "backgroundcolor": "#E5ECF6",
            "gridcolor": "white",
            "gridwidth": 2,
            "linecolor": "white",
            "showbackground": true,
            "ticks": "",
            "zerolinecolor": "white"
           },
           "zaxis": {
            "backgroundcolor": "#E5ECF6",
            "gridcolor": "white",
            "gridwidth": 2,
            "linecolor": "white",
            "showbackground": true,
            "ticks": "",
            "zerolinecolor": "white"
           }
          },
          "shapedefaults": {
           "line": {
            "color": "#2a3f5f"
           }
          },
          "ternary": {
           "aaxis": {
            "gridcolor": "white",
            "linecolor": "white",
            "ticks": ""
           },
           "baxis": {
            "gridcolor": "white",
            "linecolor": "white",
            "ticks": ""
           },
           "bgcolor": "#E5ECF6",
           "caxis": {
            "gridcolor": "white",
            "linecolor": "white",
            "ticks": ""
           }
          },
          "title": {
           "x": 0.05
          },
          "xaxis": {
           "automargin": true,
           "gridcolor": "white",
           "linecolor": "white",
           "ticks": "",
           "title": {
            "standoff": 15
           },
           "zerolinecolor": "white",
           "zerolinewidth": 2
          },
          "yaxis": {
           "automargin": true,
           "gridcolor": "white",
           "linecolor": "white",
           "ticks": "",
           "title": {
            "standoff": 15
           },
           "zerolinecolor": "white",
           "zerolinewidth": 2
          }
         }
        },
        "title": {
         "text": "Total Income Raised by State"
        }
       }
      }
     },
     "metadata": {},
     "output_type": "display_data"
    }
   ],
   "source": [
    "import pandas as pd \n",
    "import  plotly.express as px\n",
    "import plotly.graph_objects as go\n",
    "import zipfile\n",
    "zip_file_path = \"data.zip\"\n",
    "with zipfile.ZipFile(zip_file_path, 'r') as zip_ref:\n",
    "    zip_ref.extractall(\"extracted_data\") \n",
    "\n",
    "\n",
    "csv_file_path = \"extracted_data/2024_QTR1.csv\"\n",
    "df = pd.read_csv(csv_file_path)\n",
    "total_income_by_state = (\n",
    "    df.groupby(df[\"State or Country - Physical Location\"])[\"Total Amount Sold So Far\"]\n",
    "    .sum()\n",
    "    .reset_index()\n",
    ")\n",
    "\n",
    "total_income_by_state.columns = [\"State\", \"TotalIncome\" ]\n",
    "\n",
    "# Create the choropleth map\n",
    "fig_income = px.choropleth(\n",
    "    total_income_by_state,\n",
    "    locations=\"State\",\n",
    "    locationmode=\"USA-states\",\n",
    "    color=\"TotalIncome\",\n",
    "    scope=\"usa\",\n",
    "    color_continuous_scale=\"Viridis\",\n",
    "    title=\"Total Income Raised by State\",\n",
    "    labels={\"TotalIncome\": \"Total Income ($)\"}\n",
    ")\n",
    "\n",
    "fig_income.show()"
   ]
  },
  {
   "cell_type": "code",
   "execution_count": null,
   "metadata": {},
   "outputs": [],
   "source": [
    "print(len(xml_data_list))"
   ]
  },
  {
   "cell_type": "code",
   "execution_count": null,
   "metadata": {},
   "outputs": [],
   "source": [
    "df_main.iloc[8,25]"
   ]
  }
 ],
 "metadata": {
  "kernelspec": {
   "display_name": "Python 3",
   "language": "python",
   "name": "python3"
  },
  "language_info": {
   "codemirror_mode": {
    "name": "ipython",
    "version": 3
   },
   "file_extension": ".py",
   "mimetype": "text/x-python",
   "name": "python",
   "nbconvert_exporter": "python",
   "pygments_lexer": "ipython3",
   "version": "3.13.0"
  }
 },
 "nbformat": 4,
 "nbformat_minor": 4
}
