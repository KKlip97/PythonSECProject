{
 "cells": [
  {
   "cell_type": "code",
   "execution_count": null,
   "metadata": {},
   "outputs": [],
   "source": [
    "from sec_edgar_downloader import Downloader\n",
    "#needs to comply with sec privacy :(( )\n",
    "dl = Downloader(\"test\", \"test@test.com\")\n",
    "import pandas as pd \n",
    "import time\n",
    "import requests\n",
    "\n",
    "#sec offers an api to get the daily or quartely indexes, metadata for all fillings\n",
    "#there is no endpoint to specifically search by form type\n",
    "#the actual data can only be downloaded with an accesion number and cik\n",
    "#using cik fetched from daily index, fetch all fillings by company and select those with type D \n",
    "#download the actual file using url from the data line(the current data url returns the entire txt, we only need the actual xml file for the filing ) \n",
    "## Tom: added inputs\n",
    "## Tom: Maybe add this lateremail = input(\"Enter your email for SEC requests (e.g., example@example.com): \")?\n",
    "## Tom: It would be also nice to have the quarter variable derived from the other inputs. \n",
    "# //todo, save files to not fetch every time \n",
    "year = int(input(\"Enter the year in which you are interested (e.g., 2024). \"))\n",
    "quarter = int(input(\"Enter the quarter in which you are interested (e.g. 4). \"))\n",
    "month = int(input(\"Enter the month of interest in numerical format (e.g. 11).\"))\n",
    "day = int(input(\"Enter the day of interest in numerical format (e.g. 27).\"))\n",
    "date = f\"{year}{month}{day}\"\n",
    "base_url = 'https://www.sec.gov/Archives/edgar/daily-index'\n",
    "index_url = f'{base_url}/{year}/QTR{quarter}/company.{date}.idx'\n",
    "\n",
    "base_full_index_url ='https://www.sec.gov/Archives/edgar/full-index'\n",
    "full_index_url =  f'{base_full_index_url}/2024/QTR3/company.idx'\n",
    "\n",
    "headers = {\n",
    "    'User-Agent': 'Test (test@test.com)',\n",
    "    'Accept-Encoding': 'gzip, deflate',\n",
    "    'Host': 'www.sec.gov',\n",
    "    'Connection': 'keep-alive',\n",
    "}\n",
    "response = requests.get(index_url, headers=headers)\n",
    "#response = requests.get(full_index_url, headers=headers)\n",
    "\n",
    "if response.status_code == 403:\n",
    "    print(\"Access denied. Ensure you have a proper User-Agent header.\")\n",
    "    exit()\n",
    "\n",
    "response.raise_for_status() \n",
    "\n",
    "\n",
    "content = response.text\n",
    "\n",
    "print(content)\n",
    "lines = content.splitlines()\n",
    "\n",
    "\n",
    "form_d_filings = []\n",
    "\n",
    "\n",
    "\n",
    "header = [\"Company Name\", \"Form Type\", \"CIK\", \"Date Filed\", \"File Name\"]\n",
    "#data lines skip 3 for daily index, 7 for full index \n",
    "#daily index returns idx file with all the fillings for the day, fixed width format, parse it into pandas \n",
    "records = [] \n",
    "#daily index formatting \n",
    "\n",
    "data_lines= lines[3:]\n",
    "for line in data_lines:\n",
    "    if line.strip():  \n",
    "        company_name = line[:60].strip()\n",
    "        form_type = line[60:71].strip()\n",
    "        cik = line[71:82].strip()\n",
    "        date_filed = line[82:92].strip()\n",
    "        file_name = line[92:].strip()\n",
    "        records.append([company_name, form_type, cik, date_filed, file_name])\n",
    "\n",
    "\n",
    "#quarter index formatting \n",
    "'''\n",
    "data_lines=lines[8:]\n",
    "for line in data_lines:\n",
    "    if line.strip():  # Ignore empty lines\n",
    "        company_name = line[0:59].strip()\n",
    "        form_type = line[59:72].strip()\n",
    "        cik = line[72:87].strip()\n",
    "        date_filed = line[87:102].strip()\n",
    "        file_name = line[102:].strip()\n",
    "        \n",
    "        records.append([company_name, form_type, cik, date_filed, file_name])\n",
    "        '''\n",
    "print(records[1])\n",
    "df = pd.DataFrame(records, columns=header)\n",
    "print(response.text)\n",
    "print(len(records))\n",
    "\n",
    "form_d_df = df[df[\"Form Type\"] == \"D\"] \n",
    "row_dict = form_d_df.iloc[1].to_dict()  \n",
    "print(\"Row at index 1 as a dictionary:\")\n",
    "for key, value in row_dict.items():\n",
    "    print(f\"{key}: {value}\")\n",
    "#actual data can be downloaded with CIK and an accession number for the filling\n",
    "form_d_df['Acession_number'] = form_d_df['File Name'].str.split('/').str[-1].str.replace('-', '').str.replace('.txt', '', regex=False)\n",
    "\n",
    "\n",
    "base_url = \"https://www.sec.gov/Archives/edgar/data/\"\n",
    "headers = {\n",
    "    'User-Agent': 'Test (test@test.com)',\n",
    "    'Accept-Encoding': 'gzip, deflate',\n",
    "    'Host': 'www.sec.gov',\n",
    "    'Connection': 'keep-alive',\n",
    "}\n",
    "\n",
    "xml_data_list = []\n",
    "for index, row in form_d_df.iterrows():\n",
    "    print(\"working:\" + row['CIK'])\n",
    "    cik = row['CIK']\n",
    "    accession_number = row['Acession_number']\n",
    "    url = f\"{base_url}{cik}/{accession_number}/primary_doc.xml\"\n",
    "    try:\n",
    "        response = requests.get(url, headers=headers)\n",
    "        if response.status_code == 200:\n",
    "            xml_data_list.append(response.text)\n",
    "        else:\n",
    "            xml_data_list.append(f\"Failed for {url} with status code {response.status_code}\")\n",
    "    except Exception as e:\n",
    "        xml_data_list.append(f\"Error for {url}: {str(e)}\")\n",
    "print(len(form_d_df))\n",
    "\n",
    "#//todo parse xml file to pandas "
   ]
  },
  {
   "cell_type": "code",
   "execution_count": null,
   "metadata": {},
   "outputs": [],
   "source": [
    "# Parsing the XML file to extract the relevant information\n",
    "\n",
    "import xml.etree.ElementTree as ET\n",
    "import plotly.express as px\n",
    "import plotly.graph_objects as go\n",
    "# Definine parsing function\n",
    "def xml_parse(root):\n",
    "    def extract_text(element, path):\n",
    "        found = element.find(path)\n",
    "        return found.text if found is not None else None\n",
    "\n",
    "    # Parse primary issuer data\n",
    "    primary_issuer = root.find(\".//primaryIssuer\")\n",
    "    if primary_issuer is None:\n",
    "        return None\n",
    "    data_primary_issuer = {\n",
    "        \"Central Index Key\": extract_text(primary_issuer, \".//cik\"),\n",
    "        \"Name of the Entity\": extract_text(primary_issuer, \".//entityName\"),\n",
    "        \"Address\": extract_text(primary_issuer, \".//street1\"),\n",
    "        \"Address - Specification\": extract_text(primary_issuer, \".//street2\"),\n",
    "        \"City\": extract_text(primary_issuer, \".//city\"),\n",
    "        \"State or Country - Physical Location\": extract_text(primary_issuer, \".//stateOrCountry\"),\n",
    "        \"State or Country - Full - Physical Location\": extract_text(primary_issuer, \".//stateOrCountryDescription\"),\n",
    "        \"Zip Code / Postal Code\": extract_text(primary_issuer, \".//zipCode\"),\n",
    "        \"Issuer Phone Number\": extract_text(primary_issuer, \".//issuerPhoneNumber\"),\n",
    "        \"State or Country - Legal Jurisdiction\": extract_text(primary_issuer, \".//jurisdictionOfInc\"),\n",
    "        \"Previous Names Used by the Issuer\": extract_text(primary_issuer, \".//issuerPreviousNameList/value\"),\n",
    "        \"Previous Names from EDGAR\": extract_text(primary_issuer, \".//edgarPreviousNameList/value\"),\n",
    "        \"Type of the Entity\": extract_text(primary_issuer, \".//entityType\"),\n",
    "        \"Type of the Entity - Specification\": extract_text(primary_issuer, \".//entityTypeOtherDesc\"),\n",
    "    }\n",
    "\n",
    "    # Parse related persons data\n",
    "    related_persons = root.findall(\".//relatedPersonsList/relatedPersonInfo\")\n",
    "    data_related_persons = {}\n",
    "    for i, related_person in enumerate(related_persons, start=1):\n",
    "        data_related_persons[f\"First Name - Person {i}\"] = extract_text(related_person, \".//relatedPersonName/firstName\"),\n",
    "        data_related_persons[f\"Last Name - Person {i}\"] = extract_text(related_person, \".//relatedPersonName/lastName\"),\n",
    "        data_related_persons[f\"Associated Address - Person {i}\"] = extract_text(related_person, \".//relatedPersonAddress/street1\"),\n",
    "        data_related_persons[f\"Associated Address - Specification - Person {i}\"] = extract_text(related_person, \".//relatedPersonAddress/street2\"),\n",
    "        data_related_persons[f\"Associated City - Person {i}\"] = extract_text(related_person, \".//relatedPersonAddress/city\"),\n",
    "        data_related_persons[f\"Associated State or Country - Person {i}\"] = extract_text(related_person, \".//relatedPersonAddress/stateOrCountry\"),\n",
    "        data_related_persons[f\"Associated State or Country - Full - Person {i}\"] = extract_text(related_person, \".//relatedPersonAddress/stateOrCountryDescription\"),\n",
    "        data_related_persons[f\"Associated Zip Code - Person {i}\"] = extract_text(related_person, \".//relatedPersonAddress/zipCode\"),\n",
    "\n",
    "        relationships = related_person.findall(\".//relatedPersonRelationshipList/relationship\")\n",
    "        for j, relationship in enumerate(relationships, start=1):\n",
    "            data_related_persons[f\"Relationship {j} with the Entity - Person {i}\"] = relationship.text if relationship is not None else None\n",
    "\n",
    "        data_related_persons[f\"Clarification of the relationship - Person {i}\"] = extract_text(related_person, \".//relationshipClarification\"),\n",
    "\n",
    "    # Parse offering data\n",
    "    offering_data = root.find(\".//offeringData\")\n",
    "    data_offering_data = {\n",
    "        \"Industry\": extract_text(offering_data, \".//industryGroup/industryGroupType\"),\n",
    "        \"Revenue Range of the Entity\": extract_text(offering_data, \".//issuerSize/revenueRange\"),\n",
    "        \"Federal Exemption or Exclusions Claimed by the Entity\": \", \".join([item.text for item in offering_data.findall(\".//federalExemptionsExclusions/item\") if item is not None]) if offering_data is not None else None,\n",
    "        \"Is the Entry an Amendment to Another Filing?\": extract_text(offering_data, \".//typeOfFiling/newOrAmendment/isAmendment\"),\n",
    "        \"Date of the First Sale Under this Filing\": extract_text(offering_data, \".//typeOfFiling/dateOfFirstSale/value\"),\n",
    "        \"Is the Offering Duration Intended to be More Than a Year?\": extract_text(offering_data, \".//durationOfOffering/moreThanOneYear\"),\n",
    "        \"Is the Entity Offering Equity\": extract_text(offering_data, \".//typesOfSecuritiesOffered/isEquityType\"),\n",
    "        \"Is the Entity Creating or Managing a Pooled Fund\": extract_text(offering_data, \".//typesOfSecuritiesOffered/isPooledInvestmentFundType\"),\n",
    "        \"Is the Offering Part of a Business Combination Transaction?\": extract_text(offering_data, \".//isPooledInvestmentFundType/isBusinessCombinationTransaction\"),\n",
    "        \"Is the Offering Part of a Business Combination Transaction? - Clarification\": extract_text(offering_data, \".//businessCombinationTransaction/clarificationOfResponse\"),\n",
    "        \"Minimum Investment Amount Accepted\": extract_text(offering_data, \".//minimumInvestmentAccepted\"),\n",
    "        #\"Entities Compensated for Selling the Securities\": extract_text(offering_data, \".//salesCompensationList\"),\n",
    "        # The line above is commented out because we don't see much use in it\n",
    "        \"Total Amount Offered\": extract_text(offering_data, \".//offeringSalesAmounts/totalOfferingAmount\"),\n",
    "        \"Total Amount Sold So Far\": extract_text(offering_data, \".//offeringSalesAmounts/totalAmountSold\"),\n",
    "        \"Total Amount Remaining to be sold\": extract_text(offering_data, \".//offeringSalesAmounts/totalRemaining\"),\n",
    "        \"Clarifications Regarding the Offering and Sales amounts\": extract_text(offering_data, \".//offeringSalesAmounts/clarificationOfResponse\"),\n",
    "        \"Are Non-accredited Investors Participating in the Offering?\": extract_text(offering_data, \".//investors/hasNonAccreditedInvestors\"),\n",
    "        \"Number of Investors Who Already Invested Under Current Offering\": extract_text(offering_data, \".//investors/totalNumberAlreadyInvested\"),\n",
    "        \"Commision Amount Paid for Sales\": extract_text(offering_data, \".//salesCommissionsFindersFees/salesCommissions/dollarAmount\"),\n",
    "        \"Finder's Fees Amount Paid\": extract_text(offering_data, \".//salesCommissionsFindersFees/findersFees/dollarAmount\"),\n",
    "        \"Clarification Regarding the Finder's Fees Amount Paid\": extract_text(offering_data, \".//salesCommissionsFindersFees/clarificationOfResponse\"),\n",
    "        \"Amount of the Raised Capital Already Used for a Purpose\": extract_text(offering_data, \".//useOfProceeds/grossProceedsUsed/dollarAmount\"),\n",
    "        \"Clarification Regarding the Amount of the Raised Capital Already Used for a Purpose\": extract_text(offering_data, \".//useOfProceeds/clarificationOfResponse\"),\n",
    "        \"Name of the Entity Representative Signing the Filing\": extract_text(offering_data, \".//signatureBlock/authorizedRepresentative\"),\n",
    "        \"Name of the Issuer Entity\": extract_text(offering_data, \".//signatureBlock/signature/issuerName\"),\n",
    "        \"Name of the Person Signing\": extract_text(offering_data, \".//signatureBlock/signature/signatureName\"),\n",
    "        \"Name of the Person Signing - Affirmation\": extract_text(offering_data, \".//signatureBlock/signature/nameOfSigner\"),\n",
    "        \"Title of the Person Signing\": extract_text(offering_data, \".//signatureBlock/signature/signatureTitle\"),\n",
    "        \"Date the Form Was Signed\": extract_text(offering_data, \".//signatureBlock/signature/signatureDate\")\n",
    "    }\n",
    "    # Combine all data\n",
    "    data = {**data_primary_issuer, **data_related_persons, **data_offering_data}\n",
    "    return data\n",
    "\n",
    "data_fin = []\n",
    "\n",
    "for information in xml_data_list:\n",
    "    print(information)\n",
    "    root = ET.fromstring(information)\n",
    "    data_fin.append(xml_parse(root))\n",
    "\n",
    "df_main = pd.DataFrame(data_fin)\n",
    "#pd.set_option('display.max_columns', 500)\n",
    "# A very inefficient way to reorganize the columns\n",
    "#df_main.reindex(([\"Central Index Key\", \"Name of the Entity\", \"Address\", \"Address - Specification\", \"City\", \"State or Country - Physical Location\", \"State or Country - Full - Physical Location\", \"Zip Code / Postal Code\", \"Issuer Phone Number\", \"State or Country - Legal Jurisdiction\", \"Previous Names Used by the Issuer\", \"Previous Names from EDGAR\", \"Type of the Entity\", \"Type of the Entity - Specification\", \"Industry\", \"Revenue Range of the Entity\", \"Federal Exemption or Exclusions Claimed by the Entity\", \"Is the Entry an Amendment to Another Filing?\", \"Date of the First Sale Under this Filing\", \"Is the Offering Duration Intended to be More Than a Year?\", \"Is the Entity Offering Equity\", \"Is the Entity Creating or Managing a Pooled Fund\", \"Is the Offering Part of a Business Combination Transaction?\", \"Is the Offering Part of a Business Combination Transaction? - Clarification\", \"Minimum Investment Amount Accepted\", \"Entities Compensated for Selling the Securities\", \"Total Amount Offered\", \"Total Amount Sold So Far\", \"Total Amount Remaining to be sold\", \"Clarifications Regarding the Offering and Sales amounts\", \"Are Non-accredited Investors Participating in the Offering?\", \"Number of Investors Who Already Invested Under Current Offering\", \"Commision Amount Paid for Sales\", \"Finder's Fees Amount Paid\", \"Clarification Regarding the Finder's Fees Amount Paid\", \"Amount of the Raised Capital Already Used for a Purpose\", \"Clarification Regarding the Amount of the Raised Capital Already Used for a Purpose\", \"Name of the Entity Representative Signing the Filing\", \"Name of the Issuer Entity\", \"Name of the Person Signing\", \"Name of the Person Signing - Affirmation\", \"Title of the Person Signing\", \"Date the Form Was Signed\", \"First Name - Person 1\", \"Last Name - Person 1\", \"Associated Address - Person 1\", \"Associated Address - Specification - Person 1\", \"Associated City - Person 1\", \"Associated State or Country - Person 1\", \"Associated State or Country - Full - Person 1\", \"Associated Zip Code - Person 1\", \"Relationship 1 with the Entity - Person 1\", \"Relationship 2 with the Entity - Person 1\", \"Relationship 3 with the Entity - Person 1\", \"Clarification of the relationship - Person 1\", \"First Name - Person 2\", \"Last Name - Person 2\", \"Associated Address - Person 2\", \"Associated Address - Specification - Person 2\", \"Associated City - Person 2\", \"Associated State or Country - Person 2\", \"Associated State or Country - Full - Person 2\", \"Associated Zip Code - Person 2\", \"Relationship 1 with the Entity - Person 2\", \"Relationship 2 with the Entity - Person 2\", \"Clarification of the relationship - Person 2\", \"First Name - Person 3\", \"Last Name - Person 3\", \"Associated Address - Person 3\", \"Associated Address - Specification - Person 3\", \"Associated City - Person 3\", \"Associated State or Country - Person 3\", \"Associated State or Country - Full - Person 3\", \"Associated Zip Code - Person 3\", \"Relationship 1 with the Entity - Person 3\", \"Relationship 2 with the Entity - Person 3\", \"Clarification of the relationship - Person 3\", \"First Name - Person 4\", \"Last Name - Person 4\", \"Associated Address - Person 4\", \"Associated Address - Specification - Person 4\", \"Associated City - Person 4\", \"Associated State or Country - Person 4\", \"Associated State or Country - Full - Person 4\", \"Associated Zip Code - Person 4\", \"Relationship 1 with the Entity - Person 4\", \"Clarification of the relationship - Person 4\", \"First Name - Person 5\", \"Last Name - Person 5\", \"Associated Address - Person 5\", \"Associated Address - Specification - Person 5\", \"Associated City - Person 5\", \"Associated State or Country - Person 5\", \"Associated State or Country - Full - Person 5\", \"Associated Zip Code - Person 5\", \"Relationship 1 with the Entity - Person 5\", \"Clarification of the relationship - Person 5\"]), axis=1)\n",
    "\n",
    "# Cleaning the data\n",
    "df_main = df_main.fillna(\"N/A\")\n",
    "for column in df_main.columns:\n",
    "    df_main[column] = df_main[column].apply(lambda x: x[0] if isinstance(x, tuple) else x)\n",
    "\n",
    "df_main = df_main.replace(\"None\", \"N/A\")\n",
    "\n",
    "redundant_strings = [\"/s/\", \"/bem/\", \"c/o\", \"n/a\"]\n",
    "for x in redundant_strings:\n",
    "    df_main = df_main.replace(x, \"\", regex=True)\n",
    "\n",
    "df_main = df_main.replace(\"\", \"N/A\")\n",
    "df_main = df_main.fillna(\"N/A\")\n",
    "\n",
    "\n",
    "\n"
   ]
  },
  {
   "cell_type": "code",
   "execution_count": 19,
   "metadata": {},
   "outputs": [
    {
     "name": "stderr",
     "output_type": "stream",
     "text": [
      "/var/folders/d2/m57xcgf11tb1brc3mk8jsgjm0000gn/T/ipykernel_91254/861254386.py:47: DtypeWarning:\n",
      "\n",
      "Columns (80,156,166,176,178,186,188,196,198,206,208,209,210,211,212,213,214,215,216,217,218,219,220,221,222,223,224,225,226,227,228,229,230,231,232,233,234,235,236,237,238,239,240,241,242,243,244,245,246,247,248,249,250,251,252,253,254,255,256,257,258,259,260,261,262,263,264,265,266,267,268,269,270,271,272,273,274,275,276,277,278,279,280,281,282,283,284,285,286,287,288,289,290,291,292,293,294,295,296,297,298,299,300,301,302,303,304,305,306,307,308,309,310,311,312,313,314,315,316,317,318,323,324,325,326,328,329,330,331,332,333,334,335,336,337,338,339,340,341,342,343,344,345,346,347,348,349,350,351,352,353,354,355,356,357,358,359,360,361,362,363,364,365,366,367,368,369,370,371,372,373,374,375,376,377,378,379,380,381,382,383,384,385,386,387,388,389,390,391,392,393,394,395,396,397,398,399,400,401,402,403,404,405,406,407,408,409,410,411,412,413,414,415,416,417,418,419,420,421,422,423,424,425,426,427,428,429,430,431,432,433,434,435,436,437,438,439,440,441,442,443,444,445,446,447,448,449,450,451,452,453,454,455,456,457,458,459,460,461,462,463,464,465,466,467,468,469,470,471,472,473,474,475,476,477,478,479,480,481,482,483,484,485,486,487,488,489,490,491,492,493,494,495,496,497,498,499,500,501,502,503,504,505,506,507,508,509,510,511,512,513,514,515,516,517,518,519,520,521,522,523,524,525,526,527,528,529,530,531,532,533,534,535,536,537,538,539,540,541,542,543,544,545,546,547,548,549,550,551,552,553,554,555,556,557,558,559,560,561,562,563,564,565,566,567,568,569,570,571,572,573,574,575,576,577,578,579,580,581,582,583,584,585,586,587,588,589,590,591,592,593,594,595,596,597,598,599,600,601,602,603,604,605,606,607,608,609,610,611,612,613,614,615,616,617,618,619,620,621,622,623,624,625,626,627,628,629,630,631,632,633,634,635,636,637,638,639,640,641,642,643,644,645,646,647,648,649,650,651,652,654,655,656,657,658,659,660,661,662,664,665,666,667,668,669,670,671,672,674,675,676,677,678,679,680,681,682,684,685,686,687,688,689,690,691,692,694,695,696,697,698,699,700,701,702,704,705,706,707,708,709,710,711,712,714,715,716,717,718,719,720,721,722,724,725,726,727,728,729,730,731,732,734,735,736,737,738,739,740,741,742,744,745,746,747,748,749,750,751,752,754,755,756,757,758,759,760,761,762) have mixed types. Specify dtype option on import or set low_memory=False.\n",
      "\n",
      "/var/folders/d2/m57xcgf11tb1brc3mk8jsgjm0000gn/T/ipykernel_91254/861254386.py:47: DtypeWarning:\n",
      "\n",
      "Columns (225,227,235,245,247,251,255,257,265,267,275,277,285,287,288,289,290,291,292,293,294,295,296,297,301,302,303,304,305,306,307,308,309,310,311,312,313,314,315,316,317,318,319,320,321,322,323,324,325,326,327,328,329,330,331,332,333,334,335,336,337,338,339,340,341,342,343,344,345,346,347,348,349,350,352,353,354,356,357,358,359,360,361,362,363,364,366,367,368,370,371,372,373,374,376,377,378,380,381,382,383,384,385,386,387,388,389,390,391,392,393,394,395,396,397,398) have mixed types. Specify dtype option on import or set low_memory=False.\n",
      "\n",
      "/var/folders/d2/m57xcgf11tb1brc3mk8jsgjm0000gn/T/ipykernel_91254/861254386.py:47: DtypeWarning:\n",
      "\n",
      "Columns (76,186,197,207,217,227,237,247,257,267,269,273,277,279,283,287,289,293,297,299,300,301,302,303,304,305,306,307,308,309,310,311,312,313,314,315,316,317,318,319,320,321,322,323,324,325,326,327,328,329,330,331,332,333,334,335,336,337,338,339,340,341,342,343,344,345,346,347,348,349,350,351,352,353,354,355,356,357,358,359,360,361,362,363,364,365,366,367,368,369,370,371,372,373,374,375,376,377,378,379,380,381,382,383,384,385,386,387,388,389,390,391,392,393,394,395,396,397,398,399,400,401,402,403,404,405,406,407,408,409,410,411,412,413,414,415,416,417,418,419,420,421,422,423,424,425,426,427,428,429,430,431,432,433,434,435,436,437,438,439,440,441,442,443,444,445,446,447,448,449,450,451,452,453,454,455,456,457,458,459,460,461,462,463,464,465,466,467,468,469,470,471,472,473,474,475,476,477,478,479,480,481,482,483,484,485,486,487,488,489,490,491,492,493,494,495,496,497,498,499,500,501,502,503,504,505,506,507,508,509,510,511,512,513,514,515,516,517,518,519,520,521,522,523,524,525,526,527,528,529,530,531,532,533,534,535,536,537,538,539,540,541,542,543,544,545,546,547,548,549,550,551,552,553,554,555,556,557,558,559,560,561,562,563,564,565,566,567,568,569,570,571,572,573,574,575,576,577,578,579,580,581,582,583,584,585,586,587,588,589,590,591,592,593,594,595,596,597,598,599,600,601,602,603,604,605,606,607,608,609,610,611,612,613,614,615,616,617,618,619,620,621,622,623,624,625,626,627,628,629,630,631,632,633,634,635,636,637,638,639,641,644,646,647,648,649,650,651,652,653,654,655,657,658,659,660,661,662,663,664,665,667,668,669,670,671,672,673,674,675,677,678,679,680,681,682,683,684,685,687,688,689,690,691,692,693,694,695,697,698,699,700,701,702,703,704,705,707,708,709,710,711,712,713,714,715,717,718,719,720,721,722,723,724,725,727,728,729,730,731,732,733,734,735,737,738,739,740,741,742,743,744,745,746,747,748,749,750,751,752,753,754) have mixed types. Specify dtype option on import or set low_memory=False.\n",
      "\n",
      "/var/folders/d2/m57xcgf11tb1brc3mk8jsgjm0000gn/T/ipykernel_91254/861254386.py:47: DtypeWarning:\n",
      "\n",
      "Columns (46,169,181,191,202,212,218,222,228,232,238,242,244,245,246,247,248,249,250,251,252,253,254,255,256,257,258,259,260,261,262,263,264,266,267,268,269,270,271,272,273,274,275,276,277,278,279,280,281,282,284,285,286,287,288,289,290,291,292,294,295,297,298,299,300,301,302,303,304,305,307,308,309,310,311,312,313,314,315,317,318,319,320,321,322,323,324,325,326,327,328,329,330,331,333,334,335,337,338,339,340,341,342,343,344,345,346,347,348,349,350,351,352,353,354,355,356,357,358,360,361,362,364,365,366,367,368,370,371,372,374,375,376,377,378,380,381,382,384,385,386,387,388,390,391,392,394,395,396,397,398,400,401,402,404,405,406,407,408,410,411,412,414,415,416,417,418,420,421,422,424,425,426,427,428,430,431,432,434,435,436,437,438,440,441,442,444,445,446,447,448,450,451,452,454,455,456,457,458,460,461,462,464,465,466,467,468,470,471,472,474,475,476,477,478,480,481,482,484,485,486,487,488,490,491,492,494,495,496,497,498,500,501,502,504,505,506,507,508,510,511,512,514,515,516,517,518,520,521,522,524,525,526,527,528,530,531,532,534,535,536,537,538,540,541,542,544,545,546,547,548,550,551,552,554,555,556,557,558,559,560,561,562,563,564,565,566,567,568,569,570,571,572,573,574,575,576,577,578) have mixed types. Specify dtype option on import or set low_memory=False.\n",
      "\n",
      "/var/folders/d2/m57xcgf11tb1brc3mk8jsgjm0000gn/T/ipykernel_91254/861254386.py:47: DtypeWarning:\n",
      "\n",
      "Columns (56,182,192,202,212,218,222,228,232,234,238,242,244,248,252,254,255,256,257,258,259,260,261,262,263,264,265,266,267,268,269,270,271,272,273,274,285,286,287,288,289,290,291,292,293,294,295,296,297,298,299,300,301,302,303,304,305,306,307,308,309,310,311,312,313,314,315,316,317,318,319,320,321,322,323,324,325,326,327,328,329,330,331,332,333,334,337,338,340,341,342,343,344,345,346,347,348,349,350,351,352,353,354,355,356,357,358,359,360,361,362,363,364,365,366,367,368,369,370,371,372,374,375,376,377,378,379,380,381,382,384,385,386,387,388,389,390,391,392,394,395,396,397,398,399,400,401,402,404,405,406,407,408,409,410,411,412,414,415,416,417,418,419,420,421,422,424,425,426,427,428,429,430,431,432,434,435,436,437,438,439,440,441,442,444,445,446,447,448,449,450,451,452,454,455,456,457,458,459,460,461,462,464,465,466,467,468,469,470,471,472,474,475,476,477,478,479,480,481,482,484,485,486,487,488,489,490,491,492,494,495,496,497,498,499,500,501,502,504,505,506,507,508,509,510,511,512,514,515,516,517,518,519,520,521,522,524,525,526,527,528,529,530,531,532,534,535,536,537,538,539,540,541,542,544,545,546,547,548,549,550,551,552,554,555,556,557,558,559,560,561,562,564,565,566,567,568,569,570,571,572,574,575,576,577,578,579,580,581,582,584,585,586,587,588,589,590,591,592,594,595,596,597,598,599,600,601,602,604,605,606,607,608,609,610,611,612,614,615,616,617,618,619,620,621,622,624,625,626,627,628,629,630,631,632,634,635,636,637,638,639,640,641,642,644,645,646,647,648,649,650,651,652,654,655,656,657,658,659,660,661,662,664,665,666,667,668,669,670,671,672,674,675,676,677,678,679,680,681,682,684,685,686,687,688,689,690,691,692,694,695,696,697,698,699,700,701,702,704,705,706,707,708,709,710,711,712,714,715,716,717,718,719,720,721,722,724,725,726,727,728,729,730,731,732,734,735,736,737,738,739,740,741,742,744,745,746,747,748,749,750,751,752,754,755,756,757,758,759,760,761,762,763,764,765,766,767) have mixed types. Specify dtype option on import or set low_memory=False.\n",
      "\n",
      "/var/folders/d2/m57xcgf11tb1brc3mk8jsgjm0000gn/T/ipykernel_91254/861254386.py:47: DtypeWarning:\n",
      "\n",
      "Columns (46,169,189,199,209,219,229,235,249,252,253,254,255,256,257,258,259,260,261,262,263,264,265,266,267,268,269,270,271,275,276,277,278,279,280,281,282,283,284,285,286,287,288,289,290,291,292,293,294,295,296,297,298,299,300,301,302,303,304,305,306,307,308,309,310,311,312,313,314,315,316,317,318,319,320,321,322,323,324,325,326,327,328,329,330,331,332,333,334,335,336,337,338,340,341,342,343,344,345,346,347,348,350,351,352,353,354,355,356,357,358,360,361,362,363,364,365,366,367,368,370,371,372,373,374,375,376,377,378,380,381,382,383,384,385,386,387,388,390,391,392,393,394,395,396,397,398,400,401,402,403,404,405,406,407,408,410,411,412,413,414,415,416,417,418,420,421,422,423,424,425,426,427,428,429,430,431,432,433,435,436,437,438,439,440,441,442,443,445,446,447,448,449,450,451,452,453,455,456,457,458,459,460,461,462,463,465,466,467,468,469,470,471,472,473,475,476,477,478,479,480,481,482,483,485,486,487,488,489,490,491,492,493,495,496,497,498,499,500,501,502,503,505,506,507,508,509,510,511,512,513,515,516,517,518,519,520,521,522,523,525,526,527,528,529,530,531,532,533,535,536,537,538,539,540,541,542,543,545,546,547,548,549,550,551,552,553,555,556,557,558,559,560,561,562,563,565,566,567,568,569,570,571,572,573,575,576,577,578,579,580,581,582,583,585,586,587,588,589,590,591,592,593,595,596,597,598,599,600,601,602,603,605,606,607,608,609,610,611,612,613,615,616,617,618,619,620,621,622,623,625,626,627,628,629,630,631,632,633,634,635,636,637,638,639,640,641,642,643,644,645,646,647,649,650,651,653,654,655,656,657,659,660,661,663,664,665,666,667,669,670,671,673,674,675,676,677,679,680,681,683,684,685,686,687,689,690,691,693,694,695,696,697,699,700,701,703,704,705,706,707,709,710,711,713,714,715,716,717,718,719,720,721,722,723,724,725,726,727,729,730,731,733,734,735,736,737,739,740,741,743,744) have mixed types. Specify dtype option on import or set low_memory=False.\n",
      "\n",
      "/var/folders/d2/m57xcgf11tb1brc3mk8jsgjm0000gn/T/ipykernel_91254/861254386.py:47: DtypeWarning:\n",
      "\n",
      "Columns (56,148,189,199,205,209,215,219,225,229,231,235,239,241,245,249,251,254,255,256,260,264,266,270,274,276,280,284,286,287,288,289,290,291,292,293,294,295,296,297,298,299,300,301,302,303,304,305,306,307,308,309,310,311,312,313,314,315,316,317,318,319,320,321,322,323,324,325,326,327,328,329,330,331,332,333,334,335,336,337,338,339,340,341,342,343,344,345,346,347,348,349,350,351,352,353,354,355,356,357,358,359,360,361,362,363,364,365,366,367,368,369,370,371,372,373,374,375,376,377,378,379,380,381,382,383,384,385,386,387,388,389,390,391,392,393,394,395,396,397,398,399,400,401,402,403,404,405,406,407,408,409,410,411,412,413,414,415,416,417,418,419,420,421,422,423,424,425,426,427,428,429,430,431,432,433,434,435,436,438,439,440,441,442,443,444,445,446,447,448,449,450,451,452,453,454,455,456,457,458,459,460,461,462,463,464,465,466,467,468,469,470,471,472,473,474,475,476,477,478,479,480,481,482,483,484,485,486,487,488,489,490,491,492,493,494,495,496,497,498,499,500,501,502,503,504,505,506,507,508,509,510,511,512,513,514,515,516,517,518,519,520,521,522,523,524,525,526,527,528,529,530,531,532,533,534,535,536,537,538,539,540,541,542,543,544,545,546,547,548,549,550,551,552,553,554,555,556,557,558,559,560,561,562,563,564,565,566,567,568,569,570,571,572,573,574,575,576,577,578,579,580,581,582,583,584,585,586,587,588,589,590,591,592,593,594,595,596,597,598,599,600,601,602,603,604,605,606,607,608,609,610,611,612,613,614,615,616,617,618,619,620,621,622,623,624,625,626,627,628,629,630,631,632,633,634,635,636,637,638,639,640,641,642,643,644,645,646,647,648,649,650,651,652,653,654,655,656,657,658,659,660,661,662,663,664,665,666,667,668,669,670,671,672,673,674,675,676,677,678,679,680,681,682,683,684,685,686,687,688,689,690,691,692,693,694,695,696,697,698,699,700,701,702,703,704,705,706,707,708,709,710,711,712,713,714,715,716,717,718,719,720,721,722,723,724,725,726,727,728,729,730,731,732,733,734,735,736,737,738,739,740,741,742,743,744,745,746,747,748,749,750,751,752,753,754,755,756,757,758,759,760,761,762,763,764,765,766,767,768,769,770,771,772,773,774,775,776,777,778,779,780,781,782,783,784,785,786,787,788,789,790,791,792,793,794,795,796,797,798,799,800,801,802,803,804,805) have mixed types. Specify dtype option on import or set low_memory=False.\n",
      "\n",
      "/var/folders/d2/m57xcgf11tb1brc3mk8jsgjm0000gn/T/ipykernel_91254/861254386.py:47: DtypeWarning:\n",
      "\n",
      "Columns (78,169,179,189,199,201,203,204,212,214,222,224,232,234,242,244,252,254,258,262,264,268,272,274,278,282,284,288,292,294,295,297,298,299,301,302,303,304,305,306,307,308,309,310,311,312,313,314,315,316,317,318,319,320,321,322,323,324,325,326,327,328,329,330,331,332,333,334,335,336,337,338,339,340,341,342,343,344,345,346,347,348,349,350,351,352,353,354,355,356,357,358,359,360,361,362,363,364,365,366,367,368,369,370,371,372,373,374,375,376,377,378,379,380,381,382,383,384,385,386,387,388,389,390,391,392,393,394,395,396,397,398,399,400,401,402,403,404,405,406,407,408,409,410,411,412,413,414,415,416,417,418,419,420,421,422,423,424,425,426,427,428,429,430,431,432,433,434,435,436,437,438,439,440,441,442,443,444,445,446,447,448,449,450,451,452,453,454,455,456,457,458,459,460,461,462,463,464,465,466,467,468,469,470,471,472,473,474,475,476,477,478,479,480,481,482,483,484,485,486,487,488,489,490,491,492,493,494,495,496,497,498,499,500,501,502,503,504,505,506,507,508,509,510,511,512,513,514,515,516,517,518,519,520,521,522,523,524,525,526,527,528,529,530,531,532,533,534,535,536,537,538,539,540,541,542,543,544,545,546,547,548,549,550,551,552,553,554,555,556,557,558,559,560,561,562,563,564,565,566,567,568,569,570,571,572,573,574,575,576,577,578,579,580,581,582,583,584,585,586,587,588,589,590,591,592,593,594,595,596,597,598,599,600,601,602,603,604,605,606,607,608,609,610,611,612,613,614,615,616,617,618,619,620,621,622,623,624,625,626,627,628,629,630,631,632,633,634,635,636,637,638,639,640,641,642,643,644,645,646,647,648,649,650,651,652,653,654,655,656,657,658,659,660,661,662,663,664,665,666,667,668,669,670,671,672,673,674,675,676,677,678,679,680,681,682,683,684,685,686,687,688,689,690,691,692,693,694,695,696,697,698,699,700,701,702,703,704,705,706,707,708,709,710,711,712,713,714,715,716,717,718,719,720,721,722,723,724,725,726,727,728,729,730,731,732,733,734,735,736,737,738,739,740,741,742,743,744,745,746,747,748,749,750,751,752,753,754,755,756,757,758,759,760,761,762,763,764,765,766,767,768,769,770,771,772,773,774,775,776,777,778,779,780,781,782,783,784,785,786,787,788,789,790,791,792) have mixed types. Specify dtype option on import or set low_memory=False.\n",
      "\n",
      "/var/folders/d2/m57xcgf11tb1brc3mk8jsgjm0000gn/T/ipykernel_91254/861254386.py:47: DtypeWarning:\n",
      "\n",
      "Columns (126,163,174,185,187,196,198,206,208,216,218,226,228,236,239,243,247,249,253,257,259,260,261,262,263,264,265,266,267,268,269,270,271,272,273,274,275,276,277,278,279,280,281,282,283,284,285,286,287,288,289,290,291,292,293,294,295,296,297,298,299,300,301,302,303,304,305,306,307,308,309,310,311,312,313,314,315,316,317,318,319,320,321,322,323,324,325,326,327,328,329,330,331,332,333,334,335,336,337,338,339,340,341,342,343,344,345,346,347,348,349,350,351,352,353,354,355,356,357,358,359,360,361,362,363,364,365,366,367,368,369,370,371,372,373,374,375,376,377,378,379,380,381,382,383,384,385,386,387,388,389,390,391,392,393,394,395,396,397,398,399,400,401,402,403,404,405,406,407,408,409,410,411,412,413,414,415,416,417,418,419,420,421,422,423,424,425,426,427,428,429,430,431,432,433,434,435,436,437,438,439,440,441,442,443,444,445,446,447,448,449,450,451,452,453,454,455,456,457,458,459,460,461,462,463,464,465,466,467,468,469,470,471,472,473,474,475,476,477,478,479,480,481,482,483,484,485,486,487,488,489,490,491,492,493,494,495,496,497,498,499,500,501,502,503,504,505,506,507,508,509,510,511,512,513,514,515,516,517,518,519,520,521,522,523,524,525,526,527,528,529,530,531,532,533,534,535,536,537,538,539,540,541,542,543,544,545,546,547,548,549,550,551,552,553,554,555,556,557,558,559,560,561,562,563,564,565,566,567,568,569,570,571,572,573,574,575,576,577,578,579,580,581,582,583,584,585,586,587,588,589,590,591,592,593,594,595,596,597,598,599,600,601,602,603,604,605,606,607,608,609,610,611,612,613,614,615,616,617,618,619,620,621,622,623,624,625,626,627,628,629,630,631,632,633,634,635,636,637,638,639,640,641,642,643,644,645,646,647,648,649,650,651,652,653,654,655,656,657,658,659,660,661,662,663,664,665,666,667,668,669,670,671,672,673,674,675,676,677,678,679,680,681,682,683,684,685,686,687,688,689,690,691,692,693,694,695,696,697,698,699,700,701,702,703,704,705,706,707,708,709,710,711,712,713,714,715,716,717,718,719,720,721,722,723,724,725,726,727,728,729,730,731,732,733,734,735,736,737,738,739,740,741,742,743,744,745,746,747,748,749,750,751,752,753,754,755,756,757,758,759,760,761,762,763,764,765,766,767,768,769,770,771,772,773,774,775,776,777,778,779,780,781,782,783,784,785,786,787,788,789,790,791,792,793,794,795,796,797,798,799,800,801,802,803,804,805,806,807,808,809,810,811,812,813,814,815,816,817,818) have mixed types. Specify dtype option on import or set low_memory=False.\n",
      "\n",
      "/var/folders/d2/m57xcgf11tb1brc3mk8jsgjm0000gn/T/ipykernel_91254/861254386.py:47: DtypeWarning:\n",
      "\n",
      "Columns (76,89,121,143,154,173,175,183,185,193,195,203,205,213,215,223,225,229,233,235,239,243,245,247,248,249,250,251,252,253,254,256,257,258,259,260,261,262,263,264,266,267,268,269,270,271,272,273,274,276,277,278,279,280,281,282,283,284,286,287,288,289,290,291,292,293,294,295,296,297,298,299,301,302,303,305,306,307,308,309,311,312,313,315,316,317,318,319,321,322,323,325,326,327,328,329,331,332,333,335,336,337,338,339,341,342,343,345,346,347,348,349,351,352,353,355,356,357,358,359,361,362,363,365,366,367,368,369,371,372,373,375,376,377,378,379,381,382,383,385,386,387,388,389,391,392,393,395,396,397,398,399,401,402,403,405,406,407,408,409,411,412,413,415,416,417,418,419,421,422,423,425,426,427,428,429,431,432,433,435,436,437,438,439,441,442,443,445,446,447,448,449,451,452,453,455,456,457,458,459,461,462,463,465,466,467,468,469,471,472,473,475,476,477,478,479,481,482,483,485,486,487,488,489,491,492,493,495,496,497,498,499,501,502,503,505,506,507,508,509,511,512,513,515,516,517,518,519,521,522,523,525,526,527,528,529,531,532,533,535,536,537,538,539,541,542,543,545,546,547,548,549,551,552,553,555,556,557,558,559,561,562,563,565,566,567,568,569,571,572,573,575,576,577,578,579,581,582,583,585,586,587,588,589,591,592,593,595,596) have mixed types. Specify dtype option on import or set low_memory=False.\n",
      "\n",
      "/var/folders/d2/m57xcgf11tb1brc3mk8jsgjm0000gn/T/ipykernel_91254/861254386.py:47: DtypeWarning:\n",
      "\n",
      "Columns (178,187,199,209,219,229,239,241,249,251,256,257,258,259,260,261,262,263,264,265,266,267,268,269,270,271,272,273,274,275,276,277,278,279,280,281,282,283,284,285,286,287,288,289,290,291,292,293,294,295,296,297,298,299,300,301,302,303,304,305,306,307,308,309,310,311,312,313,314,315,316,317,318,319,320,321,322,323,324,325,326,327,330,331,332,334,335,336,337,338,339,340,341,342,343,344,345,346,347,348,349,350,351,352,354,356) have mixed types. Specify dtype option on import or set low_memory=False.\n",
      "\n",
      "/var/folders/d2/m57xcgf11tb1brc3mk8jsgjm0000gn/T/ipykernel_91254/861254386.py:47: DtypeWarning:\n",
      "\n",
      "Columns (57,167,177,187,189,197,199,207,209,217,219,227,229,233,234,235,236,237,238,239,240,241,242,243,244,245,246,247,248,249,250,251,252,253,254,255,256,257,258,259,260,261,262,263,264,265,266,267,268,269,270,271,272,273,274,275,276,277,278,279,280,281,282,283,284,285,286,287,288,289,290,291,292,293,294,295,296,297,298,299,300,301,302,303,304,305,306,307,308,309,310,311,312,313,314,315,316,317,318,319,320,321,322,325,326,327,328,329,330,331,332,333,335,336,337,338,339,340,341,342,343,345,346,347,348,349,350,351,352,353,355,356,357,358,359,360,361,362,363,364,365,366,367,368,369,370,371,372,373,374,375,376,377,378,379,380,382,383,384,385,386,388,389,390,392,393,394,395,396,398,399,400,402,403,404,405,406,408,409,410,412,413,414,415,416,418,419,420,422,423,424,425,426,428,429,430,432,433,434,435,436,438,439,440,442,443,444,445,446,448,449,450,452,453,454,455,456,458,459,460,462,463,464,465,466,468,469,470,472,473,474,475,476,478,479,480,482,483,484,485,486,488,489,490,492,493,494,495,496,498,499,500,502,503,504,505,506,508,509,510,512,513,514,515,516,518,519,520,522,523,524,525,526,528,529,530,532,533,534,535,536,538,539,540,542,543,544,545,546,548,549,550,552,553,554,555,556,557,558,559,560,561,562,563,564,565,566,567,568,569,570,571,572,573,574,575,576,577,578,579,580,581,582,583,584,585,586,587,588,589,590,591) have mixed types. Specify dtype option on import or set low_memory=False.\n",
      "\n",
      "/var/folders/d2/m57xcgf11tb1brc3mk8jsgjm0000gn/T/ipykernel_91254/861254386.py:47: DtypeWarning:\n",
      "\n",
      "Columns (46,141,151,161,163,172,182,192,202,212,214,222,224,230,232,237,240,244,248,250,254,258,260,264,268,270,274,278,280,284,288,290,294,298,300,301,302,303,304,305,306,307,308,309,310,311,312,313,314,315,316,317,318,319,320,321,322,323,324,325,326,327,328,329,330,331,332,333,334,335,336,337,338,339,340,341,342,343,344,345,346,347,348,349,350,351,352,353,354,355,356,357,358,359,360,361,362,363,364,365,366,367,368,369,370,371,372,373,374,375,376,377,378,379,380,381,382,383,384,385,386,387,388,389,390,391,392,393,394,395,396,397,398,399,400,401,402,403,404,405,406,407,408,409,410,411,412,413,414,415,416,417,418,419,420,421,422,423,424,425,426,427,428,429,430,431,432,433,434,435,436,437,438,439,440,441,442,443,444,445,446,447,448,449,450,451,452,453,454,455,456,457,458,459,460,461,462,463,464,465,466,467,468,469,470,471,472,473,474,475,476,477,478,479,480,481,482,483,485,486,487,488,489,490,491,492,493,495,496,497,498,499,500,501,502,503,505,506,507,508,509,510,511,512,513,514,515,516,517,518,519,520,521,522,523,525,526,527,528,529,530,531,532,533,534,535,536,537,538,539,540,541,542,543,544,545,546,547,548,549,550,551,552,553,555,556,557,558,559,560,561,562,563,564,566,567,568,569,570,571,572,573,574,576,577,578,579,580,581,582,583,584,586,587,588,589,590,591,592,593,594,596,597,598,599,600,601,602,603,604,606,607,608,609,610,611,612,613,614,616,617,618,619,620,621,622,623,624,626,627,628,629,630,631,632,633,634,636,637,638,639,640,641,642,643,644,646,647,648,649,650,651,652,653,654,656,657,658,659,660,661,662,663,664,666,667,668,669,670,671,672,673,674,676,677,678,679,680,681,682,683,684,686,687,688,689,690,691,692,693,694,696,697,698,699,700,701,702,703,704,706,707,708,709,710,711,712,713,714,716,717,718,719,720,721,722,723,724,726,727,728,729,730,731,732,733,734,736,737,738,739,740,741,742,743,744,746,747,748,749,750,751,752,753,754,756,757,758,759,760,761,762,763,764,765,766,767,768,769,770,771,772,773,774,775,776,777,778) have mixed types. Specify dtype option on import or set low_memory=False.\n",
      "\n",
      "/var/folders/d2/m57xcgf11tb1brc3mk8jsgjm0000gn/T/ipykernel_91254/861254386.py:47: DtypeWarning:\n",
      "\n",
      "Columns (150,151,189,195,199,201,205,209,211,215,219,221,225,229,231,235,239,241,245,249,251,255,259,261,265,269,271,272,273,274,275,276,277,278,279,280,281,285,286,287,288,289,290,291,292,293,294,295,296,297,298,299,300,301,302,303,304,305,306,307,308,309,310,311,312,313,314,315,316,317,318,319,320,321,322,323,324,325,326,327,328,329,330,331,332,333,334,335,336,337,338,339,340,341,342,343,344,345,346,347,348,349,350,351,352,353,354,355,356,357,358,359,360,361,362,363,364,365,366,367,368,369,370,371,372,373,374,375,376,377,378,379,380,381,382,383,384,385,386,387,388,389,390,391,392,393,394,395,396,397,398,399,400,401,402,403,404,405,406,407,408,409,410,411,412,413,414,415,416,417,418,419,421,422,423,424,425,426,427,428,429,431,432,433,434,435,436,437,438,439,441,442,443,444,445,446,447,448,449,451,452,453,454,455,456,457,458,459,461,462,463,464,465,466,467,468,469,471,472,473,474,475,476,477,478,479,481,482,483,484,485,486,487,488,489,491,492,493,494,495,496,497,498,499,501,502,503,504,505,506,507,508,509,511,512,513,514,515,516,517,518,519,521,522,523,524,525,526,527,528,529,531,532,533,534,535,536,537,538,539,541,542,543,544,545,546,547,548,549,551,552,553,554,555,556,557,558,559,561,562,563,564,565,566,567,568,569,571,572,573,574,575,576,577,578,579,580,581,582,583,584,585,586,587,588,589,590,591,592,593,594,595,596,597,598,599,601,602,603,604,605,606,607,608,609,611,612,613,614,615,616,617,618,619,621,622,623,624,625,626,627,628,629,631,632,633,634,635,636,637,638,639,641,642,643,644,645,646,647,648,649,651,652,653,654,655,656,657,658,659,661,662,663,664,665,666,667,668,669,671,672,673,674,675,676,677,678,679,681,682,683,684,685,686,687,688,689,691,692,693,694,695,696,697,698,699,701,702,703,704,705,706,707,708,709,711,712,713,714,715,716,717,718,719,721,722,723,724,725,726,727,728,729,731,732,733,734,735,736,737,738,739,741,742,743,744,745,746,747,748,749,751,752,753,754,755,756,757,758,759,761,762,763,764,765,766,767,768,769,771,772,773,774,775,776,777,778,779,781,782,783,784,785,786,787,788,789,791,792,793,794,795,796,797,798,799,801,802,803,804,805,806,807,808,809,811,812,813,814,815,816,817,818,819,821,822,823,824,825,826,827,828,829,830,831,832,833,834,835,836,837,838,839,840,841,842,843,844,845,846,847,848,849) have mixed types. Specify dtype option on import or set low_memory=False.\n",
      "\n",
      "/var/folders/d2/m57xcgf11tb1brc3mk8jsgjm0000gn/T/ipykernel_91254/861254386.py:47: DtypeWarning:\n",
      "\n",
      "Columns (121,123,192,203,213,223,225,226,227,228,229,230,231,232,233,234,235,237,239,240,241,242,243,244,245,246,247,248,249,250,251,252,253,254,255,256,257,258,259,260,261,262,263,264,265,266,267,268,269,270,271,272,273,274,275,276,277,278,279,280,281,282,283,284,285,286,287,288,289,290,291,292,293,294,295,296,297,298,299,300,301,302,303,304,305,306,307,308,309,310,311,312,313,314,315,316,317,318,319,320,321,322,323,324,325,326,327,328,329,330,331,332,333,334,335,336,337,338,339,340,341,342,343,344,345,346,347,348,349,350,351,352,353,354,355,356,357,358,359,360,361,362,363,364,365,366,367,368,369,370,371,372,373,374,375,376,377,378,379,380,381,382,383,384,385,386,387,388,389,390,391,392,393,394,395,396,397,398,399,400,401,402,403,404,405,406,407,408,409,410,411,412,413,414,415,416,417,418,419,420,421,422,423,424,425,426,427,428,429,430,431,432,433,434,435,436,437,438,439,440,441,442,443,444,445,446,447,448,449,450,451,452,453,454,455,456,457,458,459,460,461,462,463,464,465,466,467,468,469,470,471,472,473,474,475,476,477,478,479,480,481,482,483,484,485,486,487,488,489,490,491,492,493,494,495,496,497,498,499,500,501,502,503,504,505,506,507,508,509,510,511,512,513,514,515,516,518,519,520,521,522,523,524,525,526,528,529,530,531,532,533,534,535,536,538,539,540,541,542,543,544,545,546,548,549,550,551,552,553,554,555,556,558,559,560,561,562,563,564,565,566,568,569,570,571,572,573,574,575,576,578,579,580,581,582,583,584,585,586,588,589,590,591,592,593,594,595,596,598,599,600,601,602,603,604,605,606,608,609,610,611,612,613,614,615,616,618,619,620,621,622,623,624,625,626,628,629,630,631,632,633,634,635,636,638,639,640,641,642,643,644,645,646,648,649,650,651,652,653,654,655,656,658,659,660,661,662,663,664,665,666,668,669,670,671,672,673,674,675,676,678,679,680,681,682,683,684,685,686,687,688,689,690,691,692,693,694,695,696,697) have mixed types. Specify dtype option on import or set low_memory=False.\n",
      "\n",
      "/var/folders/d2/m57xcgf11tb1brc3mk8jsgjm0000gn/T/ipykernel_91254/861254386.py:47: DtypeWarning:\n",
      "\n",
      "Columns (56,99,109,121,123,131,133,138,139,148,150,151,159,161,169,171,179,181,189,191,193,195,203,205,213,215,216,217,218,219,220,221,222,223,224,225,226,227,228,229,230,231,232,233,234,235,236,237,238,239,240,241,242,243,244,245,246,247,248,249,250,251,252,253,254,255,256,257,258,259,260,261,262,263,264,265,266,267,268,269,270,271,272,273,274,275,276,277,278,279,280,281,282,284,285,286,287,288,289,290,291,292,294,295,296,297,298,299,300,301,302,304,305,306,307,308,309,310,311,312,314,315,316,317,318,319,320,321,322,324,325,326,327,328,329,330,331,332,334,335,336,337,338,339,340,341,342,344,345,346,347,348,349,350,351,352,354,355,356,357,358,359,360,361,362,364,365,366,367,368,369,370,371,372,374,375,376,377,378,379,380,381,382,384,385,386,387,388,389,390,391,392,394,395,396,397,398,399,400,401,402,403,404,405,406,407,408,409,410,411,412,413,414,415,416,418,419,420,422,423,424,425,426,428,429,430,432,433,434,435,436,438,439,440,442,443,444,445,446,448,449,450,452,453,454,455,456,458,459,460,462,463,464,465,466,468,469,470,472,473,474,475,476,478,479,480,482,483,484,485,486,487,488,490,491,492,494,495,496,497,498,500,501,502,504,505,506,507,508,510,511,512,514,515,516,517,518,520,521,522,524,525,526,527,528,530,531,532,534,535,536,537,538,540,541,542,544,545,546,547,548,550,551,552,554,555,556,557,558,560,561,562,564,565,566,567,568,570,571,572,574,575,576) have mixed types. Specify dtype option on import or set low_memory=False.\n",
      "\n",
      "/var/folders/d2/m57xcgf11tb1brc3mk8jsgjm0000gn/T/ipykernel_91254/861254386.py:47: DtypeWarning:\n",
      "\n",
      "Columns (169,179,189,199,209,220,223,224,225,226,227,228,229,230,231,232,233,235,236,237,238,239,240,241,242,243,244,245,246,247,248,249,250,251,252,253,254,255,256,257,258,259,260,261,262,263,264,265,266,267,268,269,270,271,272,273,274,275,276,277,278,279,280,281,282,283,284,285,286,287,288,289,290,291,292,293,294,295,296,297,298,299,300,301,302,303,304,305,306,307,308,309,310,311,312,313,314,315,316,317,318,319,320,321,322,323,324,325,326,327,328,329,330,331,332,333,334,335,336,337,338,339,340,341,342,343,344,345,346,347,348,349,350,351,352,353,354,355,356,357,358,359,360,361,362,363,364,365,366,367,368,369,370,371,372,373,374,375,376,377,378,379,380,381,382,383,384,385,386,387,388,389,390,391,392,393,394,395,396,397,398,399,400,401,402,403,404,405,406,407,408,409,410,411,412,413,414,415,416,417,418,419,420,421,422,423,424,425,426,427,428,429,430,431,432,433,434,435,436,437,438,439,440,441,442,443,444,445,446,447,448,449,450,451,452,453,454,455,456,457,458,459,460,461,462,463,464,465,466,467,468,469,470,471,472,473,474,475,476,477,478,479,480,481,482,483,484,485,486,487,488,489,490,491,492,493,494,495,496,497,498,499,500,501,502,503,504,505,506,507,508,509,510,511,512,513,514,515,516,517,518,519,520,521,522,523,525,526,527,529,530,531,532,533,534,535,536,537,539,540,541,542,543,544,545,546,547,549,550,551,552,553,554,555,556,557,558,559,560,561,562,563,564,565,566,567,568,569,570,571,572,573,574,575,576,577,579,580,581,582,583,584,585,586,587,589,590,591,592,593,594,595,596,597,599,600,601,602,603,604,605,606,607,609,610,611,612,613,614,615,616,617,619,620,621,622,623,624,625,626,627,629,630,631,632,633,634,635,636,637,639,640,641,642,643,644,645,646,647,649,650,651,652,653,654,655,656,657,659,660,661,662,663,664,665,666,667,669,670,671,672,673,674,675,676,677,679,680,681,682,683,684,685,686,687,689,690,691,692,693,694,695,696,697,699,700,701,702,703,704,705,706,707,709,710,711,712,713,714,715,716,717,719,720,721,722,723,724,725,726,727,729,730,731,732,733,734,735,736,737,739,740,741,742,743,744,745,746,747,748,749,750,751,752,753,755,756,757,758,759,760,761,762,763,765,766,767,768,769,770,771,772,773,775,776,777,778,779,780,781,782,783,785,786,787,788,789,790,791,792,793,795,796,797,798,799,800,801,802,803,805,806,807,808,809,810,811,812,813,815,816,817,818,819,820,821,822,823,825,826,827,828,829,830,831,832,833,835,836,837,838,839,840,841,842,843,845,846,847,848,849,850,851,852,853,855,856,857,858,859,860,861,862,863,865,866,867,868,869,870,871,872,873,875,876,877,878,879,880,881,882,883,885,886,887,888,889,890) have mixed types. Specify dtype option on import or set low_memory=False.\n",
      "\n",
      "/var/folders/d2/m57xcgf11tb1brc3mk8jsgjm0000gn/T/ipykernel_91254/861254386.py:47: DtypeWarning:\n",
      "\n",
      "Columns (99,137,150,161,171,173,181,183,191,193,201,203,207,211,213,217,221,223,227,231,233,237,241,243,247,251,253,257,261,263,264,265,266,267,268,269,270,271,272,273,274,275,276,277,278,279,280,281,282,283,284,285,286,287,288,289,290,291,292,293,294,295,296,297,298,299,300,301,302,303,304,305,306,307,308,309,310,311,312,313,314,315,316,317,318,319,320,321,322,323,324,325,326,327,328,329,330,331,332,333,334,335,336,337,338,339,340,341,342,343,344,345,346,347,348,349,350,351,352,353,354,355,356,357,358,359,360,361,362,363,364,365,366,367,368,369,370,371,372,373,374,375,376,377,378,379,380,381,382,383,384,385,386,387,388,389,390,391,392,393,394,395,396,397,398,399,400,401,402,403,404,405,406,407,408,409,410,411,412,413,416,417,418,419,420,421,422,423,424,425,426,427,428,429,430,431,432,433,434,435,436,437,438,439,440,441,442,443,444,445,446,447,448,449,450,451,452,453,454,455,456,457,458,459,460,461,462,463,464,465,466,467,468,469,470,471,472,473,474,475,476,477,478,479,480,481,482,483,484,485,486,487,488,489,490,491,492,493,494,495,496,497,498,499,500,501,502,503,504,505,506,507,508,509,510,511,512,513,514,515,516,517,518,519,520,521,522,523,524,525,526,527,528,529,530,531,532,533,534,535,536,537,538,539,540,541,542,543,544,545,546,547,548,549,550,551,553,554,555,556,557,558,559,561,562,563,564,565,566,567,568,569,571,572,573,574,575,576,577,578,579,581,582,583,584,585,586,587,588,589,591,592,593,594,595,596,597,598,599,601,602,603,604,605,606,607,608,609,610,611,612,613,614,615,616,617,618,619,620,621,622,623,624,625,626,627,628,629,631,632,633,634,635,636,637,638,639,641,642,643,644,645,646,647,648,649,651,652,653,654,655,656,657,658,659,661,662,663,664,665,666,667,668,669,671,672,673,674,675,676,677,678,679,681,682,683,684,685,686,687,688,689,691,692,693,694,695,696,697,698,699,701,702,703,704,705,706,707) have mixed types. Specify dtype option on import or set low_memory=False.\n",
      "\n",
      "/var/folders/d2/m57xcgf11tb1brc3mk8jsgjm0000gn/T/ipykernel_91254/861254386.py:47: DtypeWarning:\n",
      "\n",
      "Columns (171,179,181,189,191,199,201,209,211,215,219,221,225,229,231,232,233,234,235,236,237,238,239,240,241,242,243,244,245,246,247,248,249,250,251,252,253,254,255,256,257,258,259,260,261,262,263,264,265,266,267,268,269,270,271,272,273,274,275,276,277,278,279,280,281,282,283,284,285,286,287,288,289,290,291,292,293,294,295,296,297,298,299,300,301,303,304,306,307,308,309,310,311,312,313,314,315,316,317,318,319,320,321,322,323,324,325,326,327,328,329,330,331,332,333,334,335,336,337,338,339,340,341,342,343,344,345,346,347,348,349,350,351,352,353,354,355,356,357,358,359,360,361,362,363,364,365,366,367,369,370,371,373,374,375,376,377,379,380,381,383,384,385,386,387,389,390,391,393,394,395,396,397,399,400,401,403,404,405,406,407,409,410,411,413,414,415,416,417,419,420,421,423,424,425,426,427,429,430,431,433,434,435,436,437,439,440,441,443,444,445,446,447,449,450,451,453,454,455,456,457,459,460,461,463,464,465,466,467,469,470,471,473,474,475,476,477,479,480,481,483,484,485,486,487,489,490,491,493,494,495,496,497,499,500,501,503,504,505,506,507,509,510,511,513,514,515,516,517,519,520,521,523,524,525,526,527,529,530,531,533,534,535,536,537,539,540,541,543,544,545,546,547,549,550,551,553,554,555,556,557,559,560,561,563,564,565,566,567,569,570,571,573,574,575,576,577,579,580,581,583,584,585,586,587,589,590,591,593,594,595,596,597,599,600,601,603,604,605,606,607,609,610,611,613,614,615,616,617,618,619,620,621,622,623,624,625,626,627,628,629,630,631,632,633,634,635) have mixed types. Specify dtype option on import or set low_memory=False.\n",
      "\n",
      "/var/folders/d2/m57xcgf11tb1brc3mk8jsgjm0000gn/T/ipykernel_91254/861254386.py:47: DtypeWarning:\n",
      "\n",
      "Columns (131,172,180,182,190,192,200,202,210,212,220,222,226,230,232,236,240,242,246,250,252,256,260,262,263,264,265,266,267,268,269,270,271,272,275,276,277,278,279,280,281,282,283,284,285,286,287,288,289,290,291,292,293,294,295,296,297,298,299,300,301,303,304,305,306,307,308,309,310,311,312,313,314,315,316,317,318,319,320,321,322,323,324,325,326,327,328,329,330,331,332,333,334,335,336,337,338,339,340,341,342,343,344,345,346,347,348,349,350,351,352,353,354,355,356,357,358,359,360,361,363,364,365,366,367,368,369,370,371,373,374,375,376,377,378,379,380,381,383,384,385,386,387,388,389,390,391,393,394,395,396,397,398,399,400,401,403,404,405,406,407,408,409,410,411,413,414,415,416,417,418,419,420,421,423,424,425,426,427,428,429,430,431,433,434,435,436,437,438,439,440,441,443,444,445,446,447,448,449,450,451,453,454,455,456,457,458,459,460,461,463,464,465,466,467,468,469,470,471,473,474,475,476,477,478,479,480,481,483,484,485,486,487,488,489,490,491,493,494,495,496,497,498,499,500,501,503,504,505,506,507,508,509,510,511,513,514,515,516,517,518,519,520,521,523,524,525,526,527,528,529,530,531,533,534,535,536,537,538,539,540,541,543,544,545,546,547,548,549,550,551,553,554,555,556,557,558,559,560,561,563,564,565,566,567,568,569,570,571,573,574,575,576,577,578,579,580,581,583,584,585,586,587,588,589,590,591,593,594,595,596,597,598,599,600,601,603,604,605,606,607,608,609,610,611,613,614,615,616,617,618,619,620,621,623,624,625,626,627,628,629,630,631,633,634,635,636,637,638,639,640,641,643,644,645,646,647,648,649,650,651,653,654,655,656,657,658,659,660,661,663,664,665,666,667,668,669,670,671,673,674,675,676,677,678,679,680,681,683,684,685,686,687,688,689,690,691,693,694,695,696,697,698,699,700,701,703,704,705,706,707,708,709,710,711,712,713,714,715,716) have mixed types. Specify dtype option on import or set low_memory=False.\n",
      "\n",
      "/var/folders/d2/m57xcgf11tb1brc3mk8jsgjm0000gn/T/ipykernel_91254/861254386.py:47: DtypeWarning:\n",
      "\n",
      "Columns (140,150,159,163,164,172,182,184,188,192,194,199,203,205,209,213,215,216,217,218,219,220,221,222,223,224,225,226,227,228,229,230,231,232,233,234,235,236,237,238,239,240,241,242,243,244,245,246,247,248,249,250,251,252,253,254,255,256,257,258,259,260,261,262,263,264,265,266,267,268,269,270,271,272,273,274,275,276,277,278,279,280,281,282,283,284,285,286,287,288,289,290,291,292,293,294,295,296,297,298,299,300,301,302,303,304,305,306,307,308,309,310,311,312,313,315,316,317,318,319,320,321,322,323,324,325,326,327,328,329,330,331,332,333,334,335,336,337,338,339,340,341,342,343,345,346,347,348,349,350,351,352,353,355,356,357,358,359,360,361,362,363,364,365,366,367,368,369,370,371,372,373,374,375,376,377,378,379,380,381,382,383,385,386,387,388,389,390,391,392,393,394,395,396,397,398,399,400,401,402,403,405,406,407,408,409,410,411,412,413,414,415,416,417,418,419,420,421,422,423,424,425,426,427,428,429,430,431,432,433,435,436,437,438,439,440,441,442,443,445,446,447,448,449,450,451,452,453,455,456,457,458,459,460,461,462,463,465,466,467,468,469,470,471,472,473,475,476,477,478,479,480,481,482,483,485,486,487,488,489,490,491,492,493,495,496,497,498,499,500,501,502,503,505,506,507,508,509,510,511,512,513,515,516,517,518,519,520,521,522,523,525,526,527,528,529,530,531,532,533,535,536,537,538,539,540,541,542,543,545,546,547,548,549,550,551,552,553,555,556,557,558,559,560,561,562,563,565,566,567,568,569,570,571,572,573,575,576,577,578,579,580,581,582,583,585,586,587,588,589,590,591,592,593,595,596,597,598,599,600,601,602,603,605,606,607,608,609,610,611,612,613,615,616,617,618,619,620,621,622,623,625,626,627,628,629,630,631,632,633,634,635,636,637,638,639,640,641,642,643,645,646,647,648,649,650,651,652,653,654,655,656,657,658,659,660,661,662,663,664,665,666,667,668,669,670,671,672,673,675,676,677,678,679,680,681,682,683,685,686,687,688,689,690,691,692,693,695,696,697,698,699,700,701,702,703,705,706,707,708,709,710,711,712,713,715,716,717,718,719,720,721,722,723,725,726,727,728,729,730,731,732,733,735,736,737,738,739,740,741,742,743,745,746,747,748,749,750,751,752,753,755,756,757,758,759,760,761,762,763,765,766,767,768,769,770,771,772,773,775,776,777,778,779,780,781,782,783,785,786,787,788,789,790,791,792,793,795,796,797,798,799,800,801,802,803,805,806,807,808,809,810,811,812,813,815,816,817,818,819,820,821,822,823,825,826,827,828,829,830,831,832,833,835,836,837,838,839,840,841,842,843,845,846,847,848,849,850,851,852,853,855,856,857,858,859,860,861,862,863,865,866,867,868,869,870,871,872,873,875,876,877,878,879,880,881,882,883,884,885,886,887) have mixed types. Specify dtype option on import or set low_memory=False.\n",
      "\n",
      "/var/folders/d2/m57xcgf11tb1brc3mk8jsgjm0000gn/T/ipykernel_91254/861254386.py:47: DtypeWarning:\n",
      "\n",
      "Columns (143,161,171,181,191,201,211,221,231,234,235,236,237,238,239,240,241,242,243,244,245,246,247,248,249,250,251,253,254,255,256,257,258,259,260,261,263,264,265,266,267,268,269,270,271,273,274,275,276,277,278,279,280,281,282,283,284,285,286,287,288,289,290,291,292,294,295,296,297,298,299,300,301,302,304,305,306,307,308,309,310,311,312,314,315,316,317,318,319,320,321,322,324,325,326,327,328,329,330,331,332,334,335,336,337,338,339,340,341,342,344,345,346,347,348,349,350,351,352,354,355,356,357,358,359,360,361,362,364,365,366,367,368,369,370,371,372,373,374,375,376,377,378,379,380,381,382,383,385,386,387,388,389,390,391,392,393,395,396,397,398,399,400,401,402,403,405,406,407,408,409,410,411,412,413,415,416,417,418,419,420,421,422,423,425,426,427,428,429,430,431,432,433,435,436,437,438,439,440,441,442,443,445,446,447,448,449,450,451,452,453,455,456,457,458,459,460,461,462,463,465,466,467,468,469,470,471,472,473,475,476,477,478,479,480,481,482,483,485,486,487,488,489,490,491,492,493,495,496,497,498,499,500,501,502,503,505,506,507,508,509,510,511,512,513,515,516,517,518,519,520,521,522,523,525,526,527,528,529,530,531,532,533,535,536,537,538,539,540,541,542,543,545,546,547,548,549,550,551,552,553,555,556,557,558,559,560,561,562,563,565,566,567,568,569,570,571,572,573,575,576,577,578,579,580,581,582,583,585,586,587,588,589,590,591,592,593,595,596,597,598,599,600,601,602,603,605,606,607,608,609,610,611,612,613,615,616,617,618,619,620,621,622,623,625,626,627,628,629,631,632,633,635,636,637,638,639,641,642,643,645,646,647,648,649,651,652,653,655,656,657,658,659,661,662,663,665,666,667,668,669,670,671,672,673,674,675,676,677,678,679,680,681,682,683,684,685,686) have mixed types. Specify dtype option on import or set low_memory=False.\n",
      "\n",
      "/var/folders/d2/m57xcgf11tb1brc3mk8jsgjm0000gn/T/ipykernel_91254/861254386.py:47: DtypeWarning:\n",
      "\n",
      "Columns (153,164,165,166,196,206,210,216,220,224,226,227,228,229,230,231,232,233,234,235,236,237,238,239,240,241,242,243,244,245,246,247,248,249,250,251,252,253,254,255,256,257,258,259,260,261,262,263,264,265,266,267,268,269,270,271,272,273,274,275,276,277,278,279,280,281,282,283,284,285,287,288,289,291,292,293,295,297,298,299,301,302,303,305,307,308,309,311,312,313,315,317,318,319,321,322,323,325,327,328,329,331,332,333,335,337,338,341,342,343) have mixed types. Specify dtype option on import or set low_memory=False.\n",
      "\n",
      "/var/folders/d2/m57xcgf11tb1brc3mk8jsgjm0000gn/T/ipykernel_91254/861254386.py:47: DtypeWarning:\n",
      "\n",
      "Columns (139,173,175,184,186,195,197,206,208,217,219,228,230,231,239,241,242,243,244,245,246,247,248,249,250,251,253,254,255,256,257,258,259,260,261,262,263,264,265,266,267,268,269,270,271,272,273,274,275,276,277,278,279,280,281,282,283,284,285,286,287,288,289,290,291,292,293,294,295,296,297,298,299,300,301,302,304,305,306,307,308,309,310,311,312,314,315,316,317,318,319,320,321,322,324,325,326,327,328,329,330,331,332,334,335,336,337,338,339,340,341,342,343,344,345,346,347,348,349,350,351,352,353,355,356,357,358,359,361,362,363,365,366,367,368,369,371,372,373,374,375,376,377,378,379,380,381,382,383,384,385,386,387,388,389,390,391,392,393,394,395,396,397,398,399,401,402,403,405,406,407,408,409,411,412,413,415,416,417,418,419,421,422,423,425,426,427,428,429,431,432,433,435,436,437,438,439,441,442,443,445,446,447,448,449,451,452,453,455,456,457,458,459,461,462,463,465,466,467,468,469,471,472,473,475,476,477,478,479,481,482,483,485,486,487,488,489,491,492,493,495,496,497,498,499,501,502,503,505,506,507,508,509,511,512,513,515,516,517,518,519,521,522,523,525,526,527,528,529,531,532,533,535,536,537,538,539,541,542,543,545,546,547,548,549,551,552,553,555,556,557,558,559,561,562,563,565,566,567,568,569,571,572,573,575,576,577,578,579,581,582,583,585,586,587,588,589,591,592,593,595,596,597,598,599,601,602,603,605,606,607,608,609,611,612,613,615,616,617,618,619,621,622,623,625,626,627,628,629,631,632,633,635,636,637,638,639,641,642,643,645,646,647,648,649,651,652,653,655,656,657,658,659,661,662,663,665,666,667,668,669,671,672,673,675,676,677,678,679) have mixed types. Specify dtype option on import or set low_memory=False.\n",
      "\n",
      "/var/folders/d2/m57xcgf11tb1brc3mk8jsgjm0000gn/T/ipykernel_91254/861254386.py:47: DtypeWarning:\n",
      "\n",
      "Columns (34,47,104,114,122,124,128,132,134,138,142,144,148,154,158,162,164,165,166,167,168,169,170,171,172,173,174,177,179,180,181,182,183,184,185,186,187,188,189,190,191,192,193,194,195,196,197,198,199,200,202,203,204,205,206,207,208,209,210,211,212,213,214,215,216,217,218,219,220,221,222,223,224,225,226,227,228,229,230,231,232,233,234,235,236,237,238,239,240,241,242,243,244,245,246,247,248,249,250,251,252,253,254,255,256,257,258,259,260,261,262,263,264,265,266,267,268,269,270,271,272,273,274,275,276,277,278,279,280,281,282,283,284,285,286,287,288,289,290,291,292,293,294,295,296,297,298,299,301,302,303,304,305,306,307,308,309,311,312,313,314,315,316,317,318,319,321,322,323,324,325,326,327,328,329,331,332,333,334,335,336,337,338,339,341,342,343,344,345,346,347,348,349,351,352,353,354,355,356,357,358,359,361,362,363,364,365,366,367,368,369,371,372,373,374,375,376,377,378,379,381,382,383,384,385,386,387,388,389,391,392,393,394,395,396,397,398,399,401,402,403,404,405,406,407,408,409,411,412,413,414,415,416,417,418,419,421,422,423,424,425,426,427,428,429,431,432,433,434,435,436,437,438,439,440,441,442,443,444,445,446,447,448,449,451,452,453,454,455,456,457,458,459,461,462,463,464,465,466,467,468,469,471,472,473,474,475,476,477,478,479,481,482,483,484,485,486,487,488,489,491,492,493,494,495,496,497,498,499,501,502,503,504,505,506,507,508,509,511,512,513,514,515,516,517,518,519,521,522,523,524,525,526,527,528,529,531,532,533,534,535,536,537,538,539,541,542,543,544,545,546,547,548,549,551,552,553,554,555,556,557,558,559,561,562,563,564,565,566,567,568,569,571,572,573,574,575,576,577,578,579,581,582,583,584,585,586,587,588,589,591,592,593,594,595,596,597,598,599,601,602,603,604,605,606,607,608,609,611,612,613,614,615,616,617,618,619,621,622,623,624,625,626,627,628,629,631,632,633,634,635,636,637,638,639,641,642,643,644,645,646,647,648,649,651,652,653,654,655,656,657,658,659,661,662,663,664,665,666,667,668,669,670,671,672,673,674,675,676,677,678,679,680,681,682,683,684,685,686,687,688,689,691,692,693,694,695,696,697,698,699,701,702,703,704,705,706,707,708,709,711,712,713,714,715,716,717,718,719,721,722,723,724,725,726,727,728,729,731,732,733,734,735,736,737,738,739,741,742,743,744,745,746,747,748,749,751,752,753,754,755,756,757,758,759,761,762,763,764,765,766,767,768,769,771,772,773,774,775,776,777,778,779,781,782,783,784,785,786,787,788,789,791,792,793,794,795,796,797,798,799,801,802,803,804,805,806,807,808,809,811,812,813,814,815,816,817,818,819,821,822,823,824,825,826) have mixed types. Specify dtype option on import or set low_memory=False.\n",
      "\n",
      "/var/folders/d2/m57xcgf11tb1brc3mk8jsgjm0000gn/T/ipykernel_91254/861254386.py:47: DtypeWarning:\n",
      "\n",
      "Columns (170,180,190,205,206,207,208,217,227,237,247,253,257,259,263,267,269,270,271,272,273,274,275,276,277,278,279,280,281,282,283,284,285,286,287,288,289,290,291,292,293,294,295,296,297,298,299,300,301,302,303,304,305,306,307,308,309,310,311,312,313,314,315,316,317,318,319,320,321,322,323,324,325,326,327,328,329,330,331,332,333,334,335,336,337,338,339,340,341,342,343,344,345,346,347,348,349,350,351,352,353,354,355,356,357,358,359,360,361,362,363,364,365,366,367,368,369,370,371,372,373,374,375,376,377,378,379,380,381,382,383,384,385,386,387,388,389,390,391,392,393,394,395,396,397,398,399,400,401,402,403,404,405,406,407,408,409,410,411,412,413,414,415,416,417,418,419,420,421,422,423,424,425,426,427,428,429,430,431,432,433,434,435,436,437,438,439,440,441,442,443,444,445,446,447,448,449,450,451,452,453,454,455,456,457,458,459,460,461,462,463,464,465,466,467,468,469,470,471,472,473,474,475,476,477,478,479,480,481,482,483,484,485,486,487,488,489,490,491,492,493,494,495,496,497,498,499,500,501,502,503,504,505,506,507,508,509,510,511,512,513,514,515,516,517,518,519,520,521,522,523,524,525,526,527,528,529,530,531,532,533,534,535,536,537,538,539,540,541,542,543,544,545,546,547,548,549,550,551,552,553,554,555,556,557,558,559,560,561,562,563,564,565,566,567,568,569,570,571,572,573,574,575,576,577,578,579,580,581,582,583,584,585,586,587,588,589,590,591,592,593,594,595,596,597,598,599,600,601,602,603,604,605,606,607,608,609,610,611,612,613,614,615,616,617,618,619,620,621,622,623,624,625,626,627,628,629,630,631,632,633,634,635,636,637,638,639,640,641,642,643,644,645,646,647,648,649,650,651,652,653,654,655,656,657,658,659,660,661,662,663,664,665,666,667,668,669,670,671,672,673,674,675,676,677,678,679,680,681,682,683,684,685,686,687,688,689,690,691,692,693,694,695,696,697,698,699,700,701,702,703,704,705,706,707,708,709,710,711,712,713,714,715,716,717,718,719,720,721,722,723,724,725,726,727,728,729,730,731,732,733,734,735,736,737,738,739,740,741,742,743,744,745,746,747,748,749,750,751,752,753,754,755,756,757,758,759,760,761,762,763,764,765,766,767,768,769,770,771,772,773,774,775,776,777,778,779,780,781,782,783,784,785,786,787,788,789,790,791,792,793,794,795,796,797,798,799,800,801,802,803,804,805,806,807,808,809,810,811,812,813,814,815,816,817,818,819,820,821,822,823,825,826,827,828,829,830,831,832,833,835,836,837,838,839,840,841,842,843,844,845,846,847,848,849,850,851,852,853,854,855,856,857,858,859,860,861,862,863,864,865,866,867,868,869,870,871,872,873,874,875,876,877,878,879,880,881,882,883,884,885,886,887,888,889,890,891,892,893) have mixed types. Specify dtype option on import or set low_memory=False.\n",
      "\n",
      "/var/folders/d2/m57xcgf11tb1brc3mk8jsgjm0000gn/T/ipykernel_91254/861254386.py:47: DtypeWarning:\n",
      "\n",
      "Columns (46,95,105,115,125,136,146,156,166,168,176,178,186,188,189,190,191,192,193,194,195,196,197,198,199,200,201,202,203,204,205,206,207,208,209,210,211,212,213,214,215,216,217,218,219,220,221,222,223,224,225,226,227,228,229,230,231,232,233,234,235,236,237,238,239,240,241,242,243,244,245,246,247,248,249,250,251,252,253,254,255,256,257,258,259,260,261,262,263,264,265,266,267,268,269,270,271,272,273,274,275,276,277,278,279,280,281,282,283,284,285,286,287,288,289,290,291,292,293,294,295,296,297,298,299,300,301,303,304,305,306,307,308,310,312,313,314,315,316,317,318,319,320,321,322,323,324,325,326,328,329,330,331,332,333,334,335,336,338,339,340,341,342,343,344,345,346,348,349,350,351,352,353,354,355,356,358,359,360,361,362,363,364,365,366,368,369,370,371,372,373,374,375,376,378,379,380,381,382,383,384,385,386,388,389,390,391,392,393,394,395,396,398,399,400,401,402,403,404,405,406,408,409,410,411,412,413,414,415,416,418,419,420,421,422,423,424,425,426,428,429,430,431,432,433,434,435,436,438,439,440,441,442,443,444,445,446,448,449,450,451,452,453,454,455,456,458,459,460,461,462,463,464,465,466,468,469,470,471,472,473,474,475,476,478,479,480,481,482,483,484,485,486,488,489,490,491,492,493,494,495,496,498,499,500,501,502,503,504,505,506,508,509,510,511,512,513,514,515,516,518,519,520,521,522,523,524,525,526,528,529,530,531,532,533,534,535,536,538,539,540,541,542,543,544,545,546,548,549,550,551,552,553,554,555,556,558,559,560,561,562,563,564,565,566,568,569,570,571,572,573,574,575,576,578,579,580,581,582,583,584,585,586,588,589,590,591,592,593,594,595,596,598,599,600,601,602,603,604,605,606,608,609,610,611,612,613,614,615,616,618,619,620,621,622,623,624,625,626,628,629,630,631,632,633,634,635,636,638,639,640,641,642,643,644,645,646,648,649,650,651,652,653,654,655,656,657,658,659,660,661,662,663,664,665,666,668,669,670,671,672,673,674,675,676,678,679,680,681,682,683,684,685,686,688,689,690,691,692,693,694,695,696,698,699,700,701,702,703,704,705,706,708,709,710,711,712,713,714,715,716,718,719,720,721,722,723,724,725,726,728,729,730,731,732,733,734,735,736,738,739,740,741,742,743,744,745,746,748,749,750,751,752,753,754,755,756,758,759,760,761,762,763,764,765,766,768,769,770,771,772,773,774,775,776,778,779,780,781,782,783,784,785,786,788,789,790,791,792,793,794,795,796,798,799,800,801,802,803,804,805,806,808,809,810,811,812,813,814,815,816,818,819,820,821,822,823,824,825,826,828,829,830,831,832,833,834,835,836,838,839,840,841,842,843,844,845,846,848,849,850,851,852,853,854,855,856,858,859,860,861,862,863,864,865,866,868,869,870,871,872,873,874,875,876,878,879,880,881,882,883,884,885,886,888,889,890,891,892,893,894,895,896,898,899,900,901,902,903,904,905,906,908,909,910,911,912,913,914,915,916,918,919,920,921,922,923,924,925,926,928,929,930,931,932,933,934,935,936,938,939,940,941,942,943,944,945,946,948,949,950,951,952,953,954,955,956,958,959,960,961,962,963,964,965,966,968,969,970,971,972,973,974,975,976,978,979,980,981,982,983,984,985,986,988,989,990,991,992,993,994,995,996,998,999,1000,1001,1002,1003,1004,1005,1006,1008,1009,1010,1011,1012,1013,1014,1015,1016,1018,1019,1020,1021,1022,1023,1024,1025,1026,1028,1029,1030,1031,1032,1033,1034,1035,1036,1038,1039,1040,1041,1042,1043,1044,1045,1046,1048,1049,1050,1051,1052,1053) have mixed types. Specify dtype option on import or set low_memory=False.\n",
      "\n",
      "/var/folders/d2/m57xcgf11tb1brc3mk8jsgjm0000gn/T/ipykernel_91254/861254386.py:47: DtypeWarning:\n",
      "\n",
      "Columns (166,176,186,192,196,202,206,208,212,216,218,222,226,228,229,230,231,232,233,234,235,236,237,238,239,240,241,242,243,244,245,246,247,248,249,250,251,252,253,254,255,256,257,258,259,260,261,262,263,264,265,266,267,268,269,270,271,272,273,274,275,276,277,278,279,280,281,282,283,284,285,286,287,288,289,290,291,292,293,294,295,296,297,298,299,300,301,302,303,304,305,306,307,308,309,310,311,312,313,314,315,316,317,318,319,320,321,322,323,324,325,326,327,328,329,330,331,332,333,334,335,336,337,338,339,340,341,343,344,345,346,347,348,350,355,356,357,358,359,360,361,363,364,365,366,367,368,369,370,371,372,373,374,375,376,377,378,379,380,381,383,384,385,386,387,388,389,390,391,392,393,394,395,396,397,398,399,400,401,403,404,405,406,407,408,409,410,411,412,413,415,416,417,418,419,420,421,422,423,425,426,427,428,429,430,431,432,433,435,436,437,438,439,440,441,442,443,445,446,447,448,449,450,451,452,453,455,456,457,458,459,460,461,462,463,465,466,467,468,469,470,471,472,473,475,476,477,478,479,480,481,482,483,485,486,487,488,489,490,491,492,493,495,496,497,498,499,500,501,502,503,505,506,507,508,509,510,511,512,513,515,516,517,518,519,520,521,522,523,525,526,527,528,529,530,531,532,533,535,536,537,538,539,540,541,542,543,545,546,547,548,549,550,551,552,553,555,556,557,558,559,560,561,562,563,565,566,567,568,569,570,571,572,573,575,576,577,578,579,580,581,582,583,585,586,587,588,589,590,591,592,593,595,596,597,598,599,600,601,602,603,605,606,607,608,609,610,611,612,613,615,616,617,618,619,620,621,622,623,625,626,627,628,629,630) have mixed types. Specify dtype option on import or set low_memory=False.\n",
      "\n",
      "/var/folders/d2/m57xcgf11tb1brc3mk8jsgjm0000gn/T/ipykernel_91254/861254386.py:47: DtypeWarning:\n",
      "\n",
      "Columns (7,13,31,41,53,66,81,91,93,101,103,104,105,106,107,108,109,110,111,112,113,114,115,116,117,118,119,120,121,122,123,124,125,126,127,128,129,130,131,132,133,134,135,136,137,138,139,140,141,142,143,144,145,146,147,148,149,150,151,152,153,154,155,156,157,158,159,160,161,162,163,164,165,166,167,168,169,170,171,172,173,174,175,176,177,178,179,180,181,182,183,184,185,186,187,188,189,190,191,192,193,194,196,197,198,199,200,201,202,203,204,205,206,207,208,209,210,211,212,213,214,215,216,217,218,219,220,221,222,223,224,225,226,227,228,229,230,231,232,233,234,235,236,237,238,239,240,241,242,243,244,245,246,247,248,249,250,251,252,253,254,255,256,257,258,259,260,261,262,263,264,265,266,267,268,269,270,271,272,273,274,275,276,277,278,279,280,281,282,283,284,285,286,287,288,289,290,291,292,293,294,295,296,297,298,299,300,301,302,303,305,306,307,308,309,310,311,312,313,315,316,317,318,319,320,321,322,323,324,325,326,327,328,329,330,332,333,334,335,336,337,338,339,340,342,343,344,345,346,347,348,349,350,352,353,354,355,356,357,358,359,360,362,363,364,365,366,367,368,369,370,372,373,374,375,376,377,378,379,380,382,383,384,385,386,387,388,389,390,392,393,394,395,396,397,398,399,400,402,403,404,405,406,407,408,409,410,412,413,414,415,416,417,418,419,420,422,423,424,425,426,427,428,429,430,432,433,434,435,436,437,438,439,440,442,443,444,445,446,447,448,449,450,452,453,454,456,457,458,459,460,462,463,464,466,467,468,469,470,472,473,474,476,477,478,479,480,482,483,484,486,487,488,489,490,492,493,494,496,497,498,499,500,502,503,504,506,507,508,509,510,512,513,514,516,517,518,519,520,522,523,524,526,527,528,529,530,532,533,534,536,537,538,539,540,542,543,544,546,547,548,549,550,552,553,554,556,557,558,559,560,562,563,564,566,567,568,569,570,572,573,574,576,577,578,579,580,582,583,584,586,587,588,589,590,592,593,594,596,597,598,599,600,602,603,604,606,607,608,609,610,612,613,614,616,617,618,619,620,622,623,624,626,627,628,629,630,632,633,634,636,637,638,639,640,642,643,644,646,647) have mixed types. Specify dtype option on import or set low_memory=False.\n",
      "\n",
      "/var/folders/d2/m57xcgf11tb1brc3mk8jsgjm0000gn/T/ipykernel_91254/861254386.py:47: DtypeWarning:\n",
      "\n",
      "Columns (126,136,146,156,166,174,176,181,182,183,187,191,193,197,201,203,207,211,213,214,215,216,217,218,219,220,221,222,223,224,225,226,227,228,229,230,231,232,233,234,235,236,237,238,239,240,241,242,243,244,245,246,247,248,249,250,251,252,253,254,255,256,257,258,259,260,261,262,263,264,265,266,267,268,269,270,271,272,273,274,275,276,277,278,279,280,281,282,283,284,285,286,287,288,289,291,292,293,294,295,296,297,298,299,301,302,303,304,305,306,307,308,309,311,312,313,314,315,316,317,318,319,321,322,323,324,325,326,327,328,329,331,332,333,334,335,336,337,338,339,341,342,343,344,345,346,347,348,349,351,352,353,354,355,356,357,358,359,361,362,363,364,365,366,367,368,369,371,372,373,374,375,376,377,378,379,381,382,383,384,385,386,387,388,389,391,392,393,394,395,396,397,398,399,401,402,403,404,405,406,407,408,409,411,412,413,414,415,416,417,418,419,421,422,423,424,425,426,427,428,429,431,432,433,434,435,436,437,438,439,441,442,443,444,445,446,447,448,449,451,452,453,454,455,456,457,458,459,461,462,463,464,465,466,467,468,469,471,472,473,474,475,476,477,478,479,481,482,483,484,485,486,487,488,489,491,492,493,494,495,496,497,498,499,501,502,503,504,505,506,507,508,509,511,512,513,514,515,516,517,518,519,521,522,523,524,525,526,527,528,529,531,532,533,534,535,536,537,538,539,541,542,543,544,545,546,547,548,549,551,552,553,554,555,556,557,558,559,561,562,563,564,565,566,567,568,569,571,572,573,574,575,576,577,578,579,581,582,583,584,585,586,587,588,589,591,592,593,594,595,596,597,598,599,601,602,603,604,605,606,607,608,609,610,611,612,613,614,615,616,617,618,619,620,621,622,623,624,625,627,628,629,630,631,632) have mixed types. Specify dtype option on import or set low_memory=False.\n",
      "\n",
      "/var/folders/d2/m57xcgf11tb1brc3mk8jsgjm0000gn/T/ipykernel_91254/861254386.py:47: DtypeWarning:\n",
      "\n",
      "Columns (109,111,131,141,149,151,161,162,163,164,165,166,167,168,169,170,171,172,173,174,175,176,177,178,179,180,181,182,183,184,185,186,187,188,189,190,191,192,193,194,195,196,197,198,199,200,201,202,203,204,205,206,207,208,209,210,211,212,213,214,215,216,217,218,219,220,221,222,223,224,225,226,227,228,229,230,231,232,233,234,235,236,237,238,239,240,241,242,243,244,245,246,247,248,249,250,251,252,253,254,255,256,257,258,259,260,261,262,263,264,265,266,267,268,269,270,271,272,273,274,275,276,277,278,279,280,281,282,283,284,285,286,287,288,289,290,291,292,293,294,295,296,297,298,299,300,301,302,303,304,305,306,307,308,309,310,311,312,313,314,315,316,317,318,319,320,321,322,323,324,325,326,327,328,329,330,331,332,333,334,336,337,338,339,340,341,342,344,345,346,347,348,349,350,351,352,354,355,356,357,358,359,360,361,362,364,365,366,367,368,369,370,371,372,374,375,376,377,378,379,380,381,382,384,385,386,387,388,389,390,391,392,394,395,396,397,398,399,400,401,402,404,405,406,407,408,409,410,411,412,414,415,416,417,418,419,420,421,422,424,425,426,427,428,429,430,431,432,434,435,436,437,438,439,440,441,442,444,445,446,447,448,449,450,451,452,454,455,456,457,458,459,460,461,462,464,465,466,467,468,469,470,471,472,474,475,476,477,478,479,480,481,482,484,485,486,487,488,489,490,491,492,494,495,496,497,498,499,500,501,502,504,505,506,507,508,509,510,511,512,514,515,516,517,518,519,520,521,522,524,525,526,527,528,529,530,531,532,534,535,536,537,538,539,540,541,542,544,545,546,547,548,549,550,551,552,554,555,556,557,558,559,560,561,562,564,565,566,567,568,569,570,571,572,574,575,576,577,578,579,580,581,582,584,585,586,587,588,589,590,591,592,594,595,596,597,598,599,600,601,602,603,604,605,606,607,608,609,610,611,612) have mixed types. Specify dtype option on import or set low_memory=False.\n",
      "\n",
      "/var/folders/d2/m57xcgf11tb1brc3mk8jsgjm0000gn/T/ipykernel_91254/861254386.py:47: DtypeWarning:\n",
      "\n",
      "Columns (118,121,161,171,181,191,193,201,203,207,211,213,217,221,223,227,231,233,237,241,243,244,245,246,247,248,249,250,251,252,253,255,256,257,258,259,260,261,262,263,264,265,266,267,268,269,270,271,272,273,274,275,276,277,278,279,280,281,282,283,284,285,286,287,288,289,290,291,292,293,294,295,296,297,298,299,300,301,302,303,304,305,306,307,308,309,310,311,312,313,314,315,316,317,318,319,320,321,322,323,324,325,326,327,328,329,330,331,332,333,334,335,336,337,338,339,340,341,342,343,344,345,346,347,348,349,350,351,352,353,354,355,356,357,358,359,360,361,362,363,364,365,366,367,368,369,370,371,372,373,374,375,376,377,378,379,380,381,382,383,384,385,386,387,388,389,390,391,392,393,394,395,396,397,398,399,400,401,402,403,404,405,406,407,408,409,410,411,412,413,414,415,416,417,418,419,420,421,422,423,424,425,426,427,428,429,430,431,432,433,434,435,436,437,438,439,440,441,442,443,444,445,446,447,448,449,450,451,452,453,454,455,456,457,458,459,460,461,462,463,464,465,466,467,468,469,470,471,472,473,474,475,476,477,478,479,480,481,482,483,484,485,486,487,488,489,490,491,492,493,494,495,496,497,498,499,500,501,502,503,504,505,506,507,508,509,510,511,512,513,514,515,516,517,518,519,520,521,522,523,524,525,526,527,528,529,530,531,532,533,534,535,536,537,538,539,540,541,542,543,544,545,546,547,548,549,550,551,552,553,554,555,556,557,558,559,560,561,562,563,564,565,566,567,568,569,570,571,572,573,574,575,576,577,578,579,580,581,582,583,584,585,586,587,588,589,590,591,592,593,594,595,596,597,598,599,600,601,602,603,604,605,606,607,608,609,610,611,612,613,614,615,617,618,619,620,621,622,623,624,625,627,628,629,630,631,632,633,634,635,637,638,639,640,641,642,643,644,645,647,648,649,650,651,652,653,654,655,657,658,659,660,661,662,663,664,665,667,668,669,670,671,672,673,674,675,677,678,679,680,681,682,683,684,685,687,688,689,690,691,692,693,694,695,697,698,699,700,701,702,703,704,705,707,708,709,710,711,712,713,714,715,717,718,719,720,721,722,723,724,725,727,728,729,730,731,732,733,734,735,737,738,739,740,741,742,743,744,745,747,748,749,750,751,752,753,754,755,757,758,759,760,761,762,763,764,765,767,768,769,770,771,772,773,774,775,777,778,779,780,781,782,783,784,785,787,788,789,790,791,792,793,794,795,796,797,798,799,800,801,802) have mixed types. Specify dtype option on import or set low_memory=False.\n",
      "\n",
      "/var/folders/d2/m57xcgf11tb1brc3mk8jsgjm0000gn/T/ipykernel_91254/861254386.py:47: DtypeWarning:\n",
      "\n",
      "Columns (53,114,125,126,136,140,144,146,150,154,156,164,166,170,174,180,184,186,190,194,196,205,209,211,212,213,214,215,216,217,218,219,220,221,222,223,224,225,226,227,228,229,230,231,232,233,234,235,236,237,238,239,240,241,242,243,244,245,246,247,248,249,250,251,252,253,254,255,256,257,258,259,260,261,262,263,264,265,266,267,268,269,270,271,272,273,274,275,276,277,278,279,280,281,282,283,284,285,286,287,288,289,290,291,292,293,294,296,297,298,299,300,301,302,303,304,306,307,308,309,310,311,312,313,314,316,317,318,319,320,321,322,323,324,326,327,328,329,330,331,332,333,334,336,337,338,339,340,341,342,343,344,346,347,348,349,350,351,352,353,354,356,357,358,359,360,361,362,363,364,366,367,368,369,370,371,372,373,374,376,377,378,379,380,381,382,383,384,386,387,388,389,390,391,392,393,394,396,397,398,399,400,401,402,403,404,406,407,408,409,410,411,412,413,414,416,417,418,419,420,421,422,423,424,426,427,428,429,430,431,432,433,434,436,437,438,439,440,441,442,443,444,446,447,448,449,450,451,452,453,454,456,457,458,459,460,461,462,463,464,466,467,468,469,470,471,472,473,474,476,477,478,479,480,481,482,483,484,485,486,487,488,489,490,491,492,493,494,496,497,498,499,500,501,502,503,504,506,507,508,509,510,511,512,513,514,516,517,518,519,520,521,522,523,524,526,527,528,529,530,531,532,533,534,536,537,538,539,540,541,542,543,544,546,547,548,549,550,551,552,553,554,556,557,558,559,560,561,562,563,564,566,567,568,569,570,571,572,573,574,576,577,578,579,580,581,582,583,584,586,587,588,589,590,591,592,593,594,596,597,598,599,600,601,602,603,604,606,607,608,609,610,611,612,613,614,616,617,618,619,620,621,622,623,624,626,627,628,629,630,631,632,633,634,636,637,638,639,640,641,642,643,644,646,647,648,649,650,651,652,653,654,656,657,658,659,660,661,662,663,664,666,667,668,669,670,671,672,673,674,676,677,678,679,680,681,682,683,684,686,687,688,689,690,691,692,693,694,696,697,698,699,700,701,702,703,704,706,707,708,709,710,711,712,713,714,716,717,718,719,720,721,722,723,724,726,727,728,729,730,731,732,733,734,736,737,738,739,740,741,742,743,744,746,747,748,749,750,751,752,753,754,756,757,758,759,760,761,762,763,764,766,767,768,769,770,771,772,773,774,776,777,778,779,780,781,782,783,784,786,787,788,789,790,791,792,793,794,796,797,798,799,800,801,802,803,804,806,807,808,809,810,811,812,813,814,816,817,818,819,820,821,822,823,824,826,827,828,829,830,831,832,833,834,836,837,838,839,840,841,842,843,844,846,847,848,849,850,851,852,853,854,856,857,858,859,860,861,862,863,864,866,867,868,869,870,871,872,873,874,876,877,878,879,880,881,882,883,884,886,887,888,889,890,891,892,893,894,896,897,898,899,900,901,902,903,904,906,907,908,909,910,911,912,913,914,916,917,918,919,920,921,922,923,924,926,927,928,929,930,931,932,933,934,936,937,938,939,940,941,942,943,944,946,947,948,949,950,951,952,953,954,956,957,958,959,960,961,962,963,964,966,967,968,969,970,971,974,975,976,977,978,979,980,981,982,983,984,985,986,987,988,989,990) have mixed types. Specify dtype option on import or set low_memory=False.\n",
      "\n",
      "/var/folders/d2/m57xcgf11tb1brc3mk8jsgjm0000gn/T/ipykernel_91254/861254386.py:47: DtypeWarning:\n",
      "\n",
      "Columns (168,170,178,180,188,190,198,200,204,208,210,211,212,213,214,215,216,217,218,219,220,221,222,223,224,225,226,227,228,229,230,233,234,235,236,237,238,239,240,241,242,243,244,245,246,247,248,249,250,251,252,253,254,255,256,257,258,259,260,261,262,263,264,265,266,267,268,269,270,271,272,273,274,275,276,277,278,279,280,281,282,283,284,285,286,287,288,289,290,291,292,293,294,295,296,297,298,299,300,301,302,303,304,305,306,307,308,309,310,311,312,313,314,315,316,317,318,319,320,321,322,323,324,325,326,327,328,329,330,331,332,333,334,335,337,338,339,340,341,342,343,344,345,346,347,348,349,350,351,352,354,355,356,357,358,359,360,361,362,364,365,366,367,368,369,370,371,372,374,375,376,377,378,379,380,381,382,384,385,386,387,388,389,390,391,392,393,394,395,396,398,399,400,401,402,403,404,405,406,408,409,410,411,412,413,414,415,416,418,419,420,421,422,423,424,425,426,428,429,430,431,432,433,434,435,436,438,439,440,441,442,443,444,445,446,448,449,450,451,452,453,454,455,456,458,459,460,461,462,463,464,465,466,468,469,470,471,472,473,474,475,476,478,479,480,481,482,483,484,485,486,488,489,490,491,492,493,494,495,496,498,499,500,501,502,503,504,505,506,508,509,510,511,512,513,514,515,516,518,519,520,521,522,523,524,525,526,528,529,530,531,532,533,534,535,536,538,539,540,541,542,543,544,545,546,548,549,550,551,552,553,554,555,556,558,559,560,561,562,563,564,565,566,568,569,570,571,572,573,574,575,576,578,579,580,581,582,583,584,585,586,588,589,590,591,592,593,594,595,596,598,599,600,601,602,603,604,605,606,608,609,610,611,612,613,614,615,616,618,619,620,621,622,623,624,625,626,628,629,630,631,632,633) have mixed types. Specify dtype option on import or set low_memory=False.\n",
      "\n",
      "/var/folders/d2/m57xcgf11tb1brc3mk8jsgjm0000gn/T/ipykernel_91254/861254386.py:47: DtypeWarning:\n",
      "\n",
      "Columns (123,125,133,135,143,145,149,157,159,161,162,163,171,173,181,183,184,185,186,187,188,189,190,191,192,193,194,195,196,197,198,199,200,201,202,203,204,205,206,207,208,209,210,211,212,213,214,215,216,217,218,219,220,221,222,223,224,225,226,227,228,229,230,231,232,233,234,235,236,237,238,239,240,241,242,243,244,245,246,247,248,249,250,251,252,253,254,255,256,257,258,259,260,261,262,263,264,265,266,267,268,269,270,271,272,273,274,275,276,277,278,279,280,281,282,283,284,285,286,287,288,289,290,291,292,293,294,295,296,297,298,299,300,301,302,303,304,305,306,307,308,309,310,311,312,313,314,315,316,317,318,319,320,321,323,324,325,326,327,328,329,330,331,333,334,335,336,337,338,339,340,341,343,344,345,346,347,348,349,350,351,353,354,355,356,357,358,359,360,361,362,363,364,365,367,368,369,370,371,372,373,374,375,377,378,379,380,381,382,383,384,385,387,388,389,390,391,392,393,394,395,397,398,399,400,401,402,403,404,405,407,408,409,410,411,412,413,414,415,417,418,419,420,421,422,423,424,425,427,428,429,430,431,432,433,434,435,437,438,439,440,441,442,443,444,445,447,448,449,450,451,452,453,454,455,457,458,459,460,461,462,463,464,465,467,468,469,470,471,472,473,474,475,477,478,479,480,481,482,483,484,485,487,488,489,490,491,492,493,494,495,497,498,499,500,501,502,503,504,505,507,508,509,510,511,512,513,514,515,517,518,519,520,521,522,523,524,525,527,528,529,530,531,532,533,534,535,537,538,539,540,541,542,543,544,545,547,548,549,550,551,552,553,554,555,557,558,559,560,561,562,563,564,565,567,568,569,570,571,572,573,574,575,577,578,579,580,581,582,583,584,585,587,588,589,590,591,592,593,594,595,597,598,599,600,601,602,603,604,605,607,608,609,610,611,612,613,614,615,617,618,619,620,621,622,623,624,625,627,628,629,630,631,632,633,634,635,637,638,639,640,641,642,643,644,645,647,648,649,650,651,652,653,654,655,657,658,659,660,661,662,663,664,665,667,668,669,670,671,672,673,674,675,677,678,679,680,681,682,683,684,685,687,688,689,690,691,692,693,694,695,697,698) have mixed types. Specify dtype option on import or set low_memory=False.\n",
      "\n",
      "/var/folders/d2/m57xcgf11tb1brc3mk8jsgjm0000gn/T/ipykernel_91254/861254386.py:47: DtypeWarning:\n",
      "\n",
      "Columns (67,154,164,169,180,182,190,192,200,202,206,210,212,213,214,215,216,217,218,219,220,221,222,223,224,225,226,227,228,229,230,231,232,233,234,235,236,237,238,239,240,241,242,243,244,245,246,247,248,249,250,251,252,253,254,255,256,257,258,259,260,261,262,263,264,265,266,267,268,269,270,271,272,273,274,275,276,277,278,279,280,281,282,283,284,285,286,287,288,289,290,291,292,293,294,295,296,297,298,299,300,301,302,303,304,305,306,307,308,309,310,311,312,313,314,315,316,317,318,319,320,321,322,323,324,325,326,327,328,329,330,331,332,333,334,335,336,337,338,339,340,341,342,343,344,345,346,347,348,349,350,351,352,353,354,355,356,357,358,359,360,361,362,363,364,365,366,367,368,369,370,371,372,373,374,375,376,377,378,379,380,381,382,383,384,385,386,387,388,389,390,391,392,393,394,395,396,397,398,399,400,401,402,403,404,405,406,407,408,409,410,411,412,413,414,415,416,417,418,419,420,421,422,423,424,425,426,427,428,429,430,431,432,433,434,435,436,437,438,439,440,442,443,444,445,446,447,448,449,450,452,453,454,455,456,457,458,459,460,462,463,464,465,466,467,468,469,470,472,473,474,475,476,477,478,479,480,482,483,484,485,486,487,488,489,490,492,493,494,495,496,497,498,499,500,502,503,504,505,506,507,508,509,510,512,513,514,515,516,517,518,519,520,522,523,524,525,526,527,528,529,530,532,533,534,535,536,537,538,539,540,542,543,544,545,546,547,548,549,550,552,553,554,555,556,557,558,559,560,562,563,564,565,566,567,568,569,570,572,573,574,575,576,577,578,579,580,582,583,584,585,586,587,588,589,590,592,593,594,595,596,597,598,599,600,602,603,604,605,606,607,608,609,610,612,613,614,615,616,617,618,619,620,622,623,624,625,626,627,628,629,630,632,633,634,635,636,637,638,639,640,642,643,644,645,646,647,648,649,650,652,653,654,655,656,657,658,659,660,662,663,664,665,666,667,668,669,670,672,673,674,675,676,677,678,679,680,682,683,684,685,686,687,688,689,690,692,693,694,695,696,697,698,699,700,702,703,704,705,706,707,708,709,710,712,713,714,715,716,717,718,719,720,722,723,724,725,726,727,728,729,730,732,733,734,735,736,737,738,739,740,742,743,744,745,746,747,748,749,750,752,753,754,755,756,757,758,759,760,762,763,764,765,766,767,768,769,770,772,773,774,775,776,777,778,779,780,782,783,784,785,786,787,788,789,790,792,793,794,795,796,797,798,799,800,801,802,803,804) have mixed types. Specify dtype option on import or set low_memory=False.\n",
      "\n",
      "/var/folders/d2/m57xcgf11tb1brc3mk8jsgjm0000gn/T/ipykernel_91254/861254386.py:47: DtypeWarning:\n",
      "\n",
      "Columns (108,159,169,179,181,189,191,200,202,204,212,214,222,224,232,234,235,236,237,238,239,240,241,242,243,244,245,246,247,248,249,250,251,252,253,254,255,256,257,258,259,260,261,262,263,264,265,266,267,268,269,270,271,272,273,274,275,276,277,278,279,280,281,282,283,284,285,286,287,288,289,290,291,292,293,294,295,296,297,298,299,300,301,302,303,304,305,306,307,308,309,310,311,312,313,314,315,316,317,318,319,320,321,322,323,324,325,326,327,328,329,330,331,332,333,334,335,336,337,338,339,340,341,342,343,344,345,346,347,348,349,350,351,352,353,354,355,356,357,358,359,360,361,362,363,364,365,366,367,368,369,370,371,372,373,374,375,376,377,378,379,381,382,383,384,385,386,387,388,389,390,391,392,393,394,395,396,397,398,399,400,401,402,403,404,405,406,407,408,409,411,412,413,414,415,416,417,418,419,421,422,423,424,425,426,427,428,429,430,431,432,433,434,435,437,438,439,440,441,442,443,444,445,447,448,449,450,451,452,453,454,455,456,458,459,460,462,463,464,465,466,468,469,470,472,473,474,475,476,478,479,480,482,483,484,485,486,488,489,490,492,493,494,495,496,498,499,500,502,503,504) have mixed types. Specify dtype option on import or set low_memory=False.\n",
      "\n",
      "/var/folders/d2/m57xcgf11tb1brc3mk8jsgjm0000gn/T/ipykernel_91254/861254386.py:47: DtypeWarning:\n",
      "\n",
      "Columns (153,202,212,222,232,234,238,242,244,248,252,254,258,262,264,268,272,274,275,276,277,278,279,280,281,282,283,284,285,286,287,288,289,290,291,292,293,294,295,296,297,298,299,300,301,302,303,304,305,306,307,309,310,311,312,313,314,315,317,318,319,320,321,322,323,324,325,326,327,328,329,330,331,332,333,334,335,336,338,339,340,342,344,345,346,348,349,350,352,354,355,356,358,359,360,362,364,365,366,368,369,370,372,374,375,376,378,379,380,382,384,385,386,388,389,390,392,394,395,396,398,399,400,402,404,405,406,408,409,410,412,414,415,416,418,419,420,422,424,425,426,428,429,430,432,434,435,436,438,439,440,442,444,445,446,448,449,450,452,454,455,456,458,459,460,462,464,465,466,468,469,470,472,474,475,476,478,479,480,482,484,485,486,488,489,490,492,494,495,496,498,499,500,502,504) have mixed types. Specify dtype option on import or set low_memory=False.\n",
      "\n",
      "/var/folders/d2/m57xcgf11tb1brc3mk8jsgjm0000gn/T/ipykernel_91254/861254386.py:47: DtypeWarning:\n",
      "\n",
      "Columns (218,228,230,238,240,248,250,258,260,268,270,278,280,288,290,292,293,294,295,296,297,298,299,300,301,305,306,309,310,311,312,313,314,315,316,317,318,319,320,321,322,323,324,325,326,327,328,329,330,331,332,333,334,335,336,337,338,339,340,341,342,343,344,345,346,347,348,349,350,351,353,354,355,356,357,358,359,360,361,363,364,365,366,367,368,369,370,371,373,374,375,376,377,378,379,380,381,382) have mixed types. Specify dtype option on import or set low_memory=False.\n",
      "\n",
      "/var/folders/d2/m57xcgf11tb1brc3mk8jsgjm0000gn/T/ipykernel_91254/861254386.py:47: DtypeWarning:\n",
      "\n",
      "Columns (217,227,237,239,243,247,249,253,257,259,263,267,269,278,282,284,287,288,289,290,291,295,299,301,302,306,310,312,314,315,316,317,318,319,320,321,322,323,324,325,326,327,328,329,330,331,332,333,334,335,336,337,338,339,340,341,342,343,344,345,346,347,348,349,350,351,352,353,355,356,357,358,359,360,361,362,363,364,365,366,367,368,370,371,372,373,374,375,376,377,378,380,381,382,383,384,385,386,387,388,390,391,392,393,394,395) have mixed types. Specify dtype option on import or set low_memory=False.\n",
      "\n",
      "/var/folders/d2/m57xcgf11tb1brc3mk8jsgjm0000gn/T/ipykernel_91254/861254386.py:47: DtypeWarning:\n",
      "\n",
      "Columns (89,100,112,181,191,201,211,221,224,225,226,227,228,229,230,232,233,234,235,236,237,238,239,240,242,243,244,245,246,247,248,249,250,251,252,253,254,255,256,257,258,259,260,262,263,264,265,266,267,268,269,270,272,273,274,275,277,278,280,281,282,283,284,285,286,288,289,290,291,292,293,294,295,296,298,299,300,301,302,303,304,305,306,308,309,310,311,312,313,314,315,316,318,320,321,322,323,324,325,326,328,330,331,332,333,334,335,336,338,340,341,342,343,344,345,346,348,350,351,352,353,354,355,356,358,360,361,362,363,364,365,367,368,369,371,373,374,375,377,378,379,381,383,384,385,387,388,389,391,393,394,395,397,398,399,401,403,404,405,407,408,409,411,413,414,415,417,418,419,421,423,424,425,427,428,429,431,433,434,435,437,438,439,441,443,444,445,447,448,449,451,453,454,455,457,458,459,461,463,464,465,467,468,469,471,473,474,475,477,478,479,481,483,484,485,487,488,489,491,493,494,495,497,498,499,501,503,504,505,507,508,509,511,513,514,515,517,518,519,521,523,524,525,527,528,529,531,533,534,535,537,538,539,541,543,544,545,546,547,548,549,550,551) have mixed types. Specify dtype option on import or set low_memory=False.\n",
      "\n",
      "/var/folders/d2/m57xcgf11tb1brc3mk8jsgjm0000gn/T/ipykernel_91254/861254386.py:47: DtypeWarning:\n",
      "\n",
      "Columns (179,189,199,209,219,225,229,235,239,241,245,249,251,252,253,254,255,256,257,258,259,260,261,262,263,264,265,266,267,268,269,270,271,275,276,277,278,279,280,281,282,283,284,285,286,287,288,289,290,291,293,294,295,296,297,298,299,300,301,303,304,307,308,309,310,311,312,313,314,315,316,317,318,319,320,321,322) have mixed types. Specify dtype option on import or set low_memory=False.\n",
      "\n",
      "/var/folders/d2/m57xcgf11tb1brc3mk8jsgjm0000gn/T/ipykernel_91254/861254386.py:47: DtypeWarning:\n",
      "\n",
      "Columns (204,214,220,224,233,237,240,241,249,253,259,263,269,273,275,279,283,285,289,295,297,298,299,300,301,302,303,304,305,307,308,309,310,311,312,313,314,315,317,318,319,320,321,322,323,324,325,327,328,329,330,331,332,333,334,335,337,338,339,340,341,342,343,344,345,347,348,349,350,351,352,353,354,355,357,358,359,360,361,362,363,364,365,367,368,369,370,371,372,373,374,375,377,379,380,381,382,383,384,385,387,389,390,391,392,393,394,395,396,397,398,399,400) have mixed types. Specify dtype option on import or set low_memory=False.\n",
      "\n",
      "/var/folders/d2/m57xcgf11tb1brc3mk8jsgjm0000gn/T/ipykernel_91254/861254386.py:47: DtypeWarning:\n",
      "\n",
      "Columns (86,148,150,178,188,198,208,218,228,234,238,240,241,242,243,244,245,246,247,248,249,250,251,252,253,256,257,258,259,260,261,262,263,264,265,266,267,268,269,270,271,272,273,274,275,276,277,278,279,280,282,283,284,285,286,287,288,289,290,292,293,294,295,296,297,298,299,300,302,303,304,306,307,308,309,310,312,313,314,316,317,318,319,320,322,323,324,326,327,328,329,330,331,332,333,334,335,336) have mixed types. Specify dtype option on import or set low_memory=False.\n",
      "\n"
     ]
    },
    {
     "data": {
      "application/vnd.plotly.v1+json": {
       "config": {
        "plotlyServerURL": "https://plot.ly"
       },
       "data": [
        {
         "hovertemplate": "Year=%{x}<br>Percentage Growth (%)=%{y}<extra></extra>",
         "legendgroup": "",
         "line": {
          "color": "#636efa",
          "dash": "solid"
         },
         "marker": {
          "symbol": "circle"
         },
         "mode": "lines",
         "name": "",
         "orientation": "v",
         "showlegend": false,
         "type": "scatter",
         "x": [
          2014,
          2014,
          2014,
          2014,
          2015,
          2015,
          2015,
          2015,
          2016,
          2016,
          2016,
          2016,
          2017,
          2017,
          2017,
          2017,
          2018,
          2018,
          2018,
          2018,
          2019,
          2019,
          2019,
          2019,
          2020,
          2020,
          2020,
          2020,
          2021,
          2021,
          2021,
          2021,
          2022,
          2022,
          2022,
          2022,
          2023,
          2023,
          2023,
          2023,
          2024,
          2024,
          2024,
          2024
         ],
         "xaxis": "x",
         "y": [
          0,
          0,
          0,
          0,
          -12.08431345417647,
          32.80632411067194,
          10.774835870427813,
          -4.2949724268405625,
          -8.734044413358985,
          -17.732495122479953,
          -11.083271346357112,
          29.15364583333333,
          -5.607415284834636,
          -7.6122296793437645,
          -5.9392156862745065,
          -26.936856710915976,
          -11.408997859867878,
          -29.12828603911924,
          -10.243340277469983,
          -19.616172828964228,
          1.1387163561076747,
          -13.722226243033948,
          2.2189769177721175,
          7.9717647058823555,
          -50.42265426880812,
          -29.986149584487542,
          -39.511898323418066,
          -49.11674347158218,
          12.516724336793533,
          -14.598595848595842,
          -14.600739624708952,
          -0.7856268916221357,
          -4.1662192633952575,
          6.1132415971125615,
          26.6301070946625,
          56.15895169198848,
          35.302988757883206,
          65.40483701366982,
          16.43066980023502,
          -10.905947441217148,
          21.457017969888298,
          -7.064420727787063,
          -3.969729588674701,
          -10.845566647093365
         ],
         "yaxis": "y"
        }
       ],
       "layout": {
        "legend": {
         "tracegroupgap": 0
        },
        "template": {
         "data": {
          "bar": [
           {
            "error_x": {
             "color": "#2a3f5f"
            },
            "error_y": {
             "color": "#2a3f5f"
            },
            "marker": {
             "line": {
              "color": "#E5ECF6",
              "width": 0.5
             },
             "pattern": {
              "fillmode": "overlay",
              "size": 10,
              "solidity": 0.2
             }
            },
            "type": "bar"
           }
          ],
          "barpolar": [
           {
            "marker": {
             "line": {
              "color": "#E5ECF6",
              "width": 0.5
             },
             "pattern": {
              "fillmode": "overlay",
              "size": 10,
              "solidity": 0.2
             }
            },
            "type": "barpolar"
           }
          ],
          "carpet": [
           {
            "aaxis": {
             "endlinecolor": "#2a3f5f",
             "gridcolor": "white",
             "linecolor": "white",
             "minorgridcolor": "white",
             "startlinecolor": "#2a3f5f"
            },
            "baxis": {
             "endlinecolor": "#2a3f5f",
             "gridcolor": "white",
             "linecolor": "white",
             "minorgridcolor": "white",
             "startlinecolor": "#2a3f5f"
            },
            "type": "carpet"
           }
          ],
          "choropleth": [
           {
            "colorbar": {
             "outlinewidth": 0,
             "ticks": ""
            },
            "type": "choropleth"
           }
          ],
          "contour": [
           {
            "colorbar": {
             "outlinewidth": 0,
             "ticks": ""
            },
            "colorscale": [
             [
              0,
              "#0d0887"
             ],
             [
              0.1111111111111111,
              "#46039f"
             ],
             [
              0.2222222222222222,
              "#7201a8"
             ],
             [
              0.3333333333333333,
              "#9c179e"
             ],
             [
              0.4444444444444444,
              "#bd3786"
             ],
             [
              0.5555555555555556,
              "#d8576b"
             ],
             [
              0.6666666666666666,
              "#ed7953"
             ],
             [
              0.7777777777777778,
              "#fb9f3a"
             ],
             [
              0.8888888888888888,
              "#fdca26"
             ],
             [
              1,
              "#f0f921"
             ]
            ],
            "type": "contour"
           }
          ],
          "contourcarpet": [
           {
            "colorbar": {
             "outlinewidth": 0,
             "ticks": ""
            },
            "type": "contourcarpet"
           }
          ],
          "heatmap": [
           {
            "colorbar": {
             "outlinewidth": 0,
             "ticks": ""
            },
            "colorscale": [
             [
              0,
              "#0d0887"
             ],
             [
              0.1111111111111111,
              "#46039f"
             ],
             [
              0.2222222222222222,
              "#7201a8"
             ],
             [
              0.3333333333333333,
              "#9c179e"
             ],
             [
              0.4444444444444444,
              "#bd3786"
             ],
             [
              0.5555555555555556,
              "#d8576b"
             ],
             [
              0.6666666666666666,
              "#ed7953"
             ],
             [
              0.7777777777777778,
              "#fb9f3a"
             ],
             [
              0.8888888888888888,
              "#fdca26"
             ],
             [
              1,
              "#f0f921"
             ]
            ],
            "type": "heatmap"
           }
          ],
          "heatmapgl": [
           {
            "colorbar": {
             "outlinewidth": 0,
             "ticks": ""
            },
            "colorscale": [
             [
              0,
              "#0d0887"
             ],
             [
              0.1111111111111111,
              "#46039f"
             ],
             [
              0.2222222222222222,
              "#7201a8"
             ],
             [
              0.3333333333333333,
              "#9c179e"
             ],
             [
              0.4444444444444444,
              "#bd3786"
             ],
             [
              0.5555555555555556,
              "#d8576b"
             ],
             [
              0.6666666666666666,
              "#ed7953"
             ],
             [
              0.7777777777777778,
              "#fb9f3a"
             ],
             [
              0.8888888888888888,
              "#fdca26"
             ],
             [
              1,
              "#f0f921"
             ]
            ],
            "type": "heatmapgl"
           }
          ],
          "histogram": [
           {
            "marker": {
             "pattern": {
              "fillmode": "overlay",
              "size": 10,
              "solidity": 0.2
             }
            },
            "type": "histogram"
           }
          ],
          "histogram2d": [
           {
            "colorbar": {
             "outlinewidth": 0,
             "ticks": ""
            },
            "colorscale": [
             [
              0,
              "#0d0887"
             ],
             [
              0.1111111111111111,
              "#46039f"
             ],
             [
              0.2222222222222222,
              "#7201a8"
             ],
             [
              0.3333333333333333,
              "#9c179e"
             ],
             [
              0.4444444444444444,
              "#bd3786"
             ],
             [
              0.5555555555555556,
              "#d8576b"
             ],
             [
              0.6666666666666666,
              "#ed7953"
             ],
             [
              0.7777777777777778,
              "#fb9f3a"
             ],
             [
              0.8888888888888888,
              "#fdca26"
             ],
             [
              1,
              "#f0f921"
             ]
            ],
            "type": "histogram2d"
           }
          ],
          "histogram2dcontour": [
           {
            "colorbar": {
             "outlinewidth": 0,
             "ticks": ""
            },
            "colorscale": [
             [
              0,
              "#0d0887"
             ],
             [
              0.1111111111111111,
              "#46039f"
             ],
             [
              0.2222222222222222,
              "#7201a8"
             ],
             [
              0.3333333333333333,
              "#9c179e"
             ],
             [
              0.4444444444444444,
              "#bd3786"
             ],
             [
              0.5555555555555556,
              "#d8576b"
             ],
             [
              0.6666666666666666,
              "#ed7953"
             ],
             [
              0.7777777777777778,
              "#fb9f3a"
             ],
             [
              0.8888888888888888,
              "#fdca26"
             ],
             [
              1,
              "#f0f921"
             ]
            ],
            "type": "histogram2dcontour"
           }
          ],
          "mesh3d": [
           {
            "colorbar": {
             "outlinewidth": 0,
             "ticks": ""
            },
            "type": "mesh3d"
           }
          ],
          "parcoords": [
           {
            "line": {
             "colorbar": {
              "outlinewidth": 0,
              "ticks": ""
             }
            },
            "type": "parcoords"
           }
          ],
          "pie": [
           {
            "automargin": true,
            "type": "pie"
           }
          ],
          "scatter": [
           {
            "fillpattern": {
             "fillmode": "overlay",
             "size": 10,
             "solidity": 0.2
            },
            "type": "scatter"
           }
          ],
          "scatter3d": [
           {
            "line": {
             "colorbar": {
              "outlinewidth": 0,
              "ticks": ""
             }
            },
            "marker": {
             "colorbar": {
              "outlinewidth": 0,
              "ticks": ""
             }
            },
            "type": "scatter3d"
           }
          ],
          "scattercarpet": [
           {
            "marker": {
             "colorbar": {
              "outlinewidth": 0,
              "ticks": ""
             }
            },
            "type": "scattercarpet"
           }
          ],
          "scattergeo": [
           {
            "marker": {
             "colorbar": {
              "outlinewidth": 0,
              "ticks": ""
             }
            },
            "type": "scattergeo"
           }
          ],
          "scattergl": [
           {
            "marker": {
             "colorbar": {
              "outlinewidth": 0,
              "ticks": ""
             }
            },
            "type": "scattergl"
           }
          ],
          "scattermapbox": [
           {
            "marker": {
             "colorbar": {
              "outlinewidth": 0,
              "ticks": ""
             }
            },
            "type": "scattermapbox"
           }
          ],
          "scatterpolar": [
           {
            "marker": {
             "colorbar": {
              "outlinewidth": 0,
              "ticks": ""
             }
            },
            "type": "scatterpolar"
           }
          ],
          "scatterpolargl": [
           {
            "marker": {
             "colorbar": {
              "outlinewidth": 0,
              "ticks": ""
             }
            },
            "type": "scatterpolargl"
           }
          ],
          "scatterternary": [
           {
            "marker": {
             "colorbar": {
              "outlinewidth": 0,
              "ticks": ""
             }
            },
            "type": "scatterternary"
           }
          ],
          "surface": [
           {
            "colorbar": {
             "outlinewidth": 0,
             "ticks": ""
            },
            "colorscale": [
             [
              0,
              "#0d0887"
             ],
             [
              0.1111111111111111,
              "#46039f"
             ],
             [
              0.2222222222222222,
              "#7201a8"
             ],
             [
              0.3333333333333333,
              "#9c179e"
             ],
             [
              0.4444444444444444,
              "#bd3786"
             ],
             [
              0.5555555555555556,
              "#d8576b"
             ],
             [
              0.6666666666666666,
              "#ed7953"
             ],
             [
              0.7777777777777778,
              "#fb9f3a"
             ],
             [
              0.8888888888888888,
              "#fdca26"
             ],
             [
              1,
              "#f0f921"
             ]
            ],
            "type": "surface"
           }
          ],
          "table": [
           {
            "cells": {
             "fill": {
              "color": "#EBF0F8"
             },
             "line": {
              "color": "white"
             }
            },
            "header": {
             "fill": {
              "color": "#C8D4E3"
             },
             "line": {
              "color": "white"
             }
            },
            "type": "table"
           }
          ]
         },
         "layout": {
          "annotationdefaults": {
           "arrowcolor": "#2a3f5f",
           "arrowhead": 0,
           "arrowwidth": 1
          },
          "autotypenumbers": "strict",
          "coloraxis": {
           "colorbar": {
            "outlinewidth": 0,
            "ticks": ""
           }
          },
          "colorscale": {
           "diverging": [
            [
             0,
             "#8e0152"
            ],
            [
             0.1,
             "#c51b7d"
            ],
            [
             0.2,
             "#de77ae"
            ],
            [
             0.3,
             "#f1b6da"
            ],
            [
             0.4,
             "#fde0ef"
            ],
            [
             0.5,
             "#f7f7f7"
            ],
            [
             0.6,
             "#e6f5d0"
            ],
            [
             0.7,
             "#b8e186"
            ],
            [
             0.8,
             "#7fbc41"
            ],
            [
             0.9,
             "#4d9221"
            ],
            [
             1,
             "#276419"
            ]
           ],
           "sequential": [
            [
             0,
             "#0d0887"
            ],
            [
             0.1111111111111111,
             "#46039f"
            ],
            [
             0.2222222222222222,
             "#7201a8"
            ],
            [
             0.3333333333333333,
             "#9c179e"
            ],
            [
             0.4444444444444444,
             "#bd3786"
            ],
            [
             0.5555555555555556,
             "#d8576b"
            ],
            [
             0.6666666666666666,
             "#ed7953"
            ],
            [
             0.7777777777777778,
             "#fb9f3a"
            ],
            [
             0.8888888888888888,
             "#fdca26"
            ],
            [
             1,
             "#f0f921"
            ]
           ],
           "sequentialminus": [
            [
             0,
             "#0d0887"
            ],
            [
             0.1111111111111111,
             "#46039f"
            ],
            [
             0.2222222222222222,
             "#7201a8"
            ],
            [
             0.3333333333333333,
             "#9c179e"
            ],
            [
             0.4444444444444444,
             "#bd3786"
            ],
            [
             0.5555555555555556,
             "#d8576b"
            ],
            [
             0.6666666666666666,
             "#ed7953"
            ],
            [
             0.7777777777777778,
             "#fb9f3a"
            ],
            [
             0.8888888888888888,
             "#fdca26"
            ],
            [
             1,
             "#f0f921"
            ]
           ]
          },
          "colorway": [
           "#636efa",
           "#EF553B",
           "#00cc96",
           "#ab63fa",
           "#FFA15A",
           "#19d3f3",
           "#FF6692",
           "#B6E880",
           "#FF97FF",
           "#FECB52"
          ],
          "font": {
           "color": "#2a3f5f"
          },
          "geo": {
           "bgcolor": "white",
           "lakecolor": "white",
           "landcolor": "#E5ECF6",
           "showlakes": true,
           "showland": true,
           "subunitcolor": "white"
          },
          "hoverlabel": {
           "align": "left"
          },
          "hovermode": "closest",
          "mapbox": {
           "style": "light"
          },
          "paper_bgcolor": "white",
          "plot_bgcolor": "#E5ECF6",
          "polar": {
           "angularaxis": {
            "gridcolor": "white",
            "linecolor": "white",
            "ticks": ""
           },
           "bgcolor": "#E5ECF6",
           "radialaxis": {
            "gridcolor": "white",
            "linecolor": "white",
            "ticks": ""
           }
          },
          "scene": {
           "xaxis": {
            "backgroundcolor": "#E5ECF6",
            "gridcolor": "white",
            "gridwidth": 2,
            "linecolor": "white",
            "showbackground": true,
            "ticks": "",
            "zerolinecolor": "white"
           },
           "yaxis": {
            "backgroundcolor": "#E5ECF6",
            "gridcolor": "white",
            "gridwidth": 2,
            "linecolor": "white",
            "showbackground": true,
            "ticks": "",
            "zerolinecolor": "white"
           },
           "zaxis": {
            "backgroundcolor": "#E5ECF6",
            "gridcolor": "white",
            "gridwidth": 2,
            "linecolor": "white",
            "showbackground": true,
            "ticks": "",
            "zerolinecolor": "white"
           }
          },
          "shapedefaults": {
           "line": {
            "color": "#2a3f5f"
           }
          },
          "ternary": {
           "aaxis": {
            "gridcolor": "white",
            "linecolor": "white",
            "ticks": ""
           },
           "baxis": {
            "gridcolor": "white",
            "linecolor": "white",
            "ticks": ""
           },
           "bgcolor": "#E5ECF6",
           "caxis": {
            "gridcolor": "white",
            "linecolor": "white",
            "ticks": ""
           }
          },
          "title": {
           "x": 0.05
          },
          "xaxis": {
           "automargin": true,
           "gridcolor": "white",
           "linecolor": "white",
           "ticks": "",
           "title": {
            "standoff": 15
           },
           "zerolinecolor": "white",
           "zerolinewidth": 2
          },
          "yaxis": {
           "automargin": true,
           "gridcolor": "white",
           "linecolor": "white",
           "ticks": "",
           "title": {
            "standoff": 15
           },
           "zerolinecolor": "white",
           "zerolinewidth": 2
          }
         }
        },
        "title": {
         "text": "Yearly Jurisdiction Percentage Growth in NY (2014-2024)"
        },
        "xaxis": {
         "anchor": "y",
         "domain": [
          0,
          1
         ],
         "title": {
          "text": "Year"
         }
        },
        "yaxis": {
         "anchor": "x",
         "domain": [
          0,
          1
         ],
         "title": {
          "text": "Percentage Growth (%)"
         }
        }
       }
      }
     },
     "metadata": {},
     "output_type": "display_data"
    }
   ],
   "source": [
    "import zipfile\n",
    "import pandas as pd\n",
    "import plotly.express as px\n",
    "import os\n",
    "#Data filter for growth in fillings by US state, input the state abbreviation for the filter to work \n",
    "\n",
    "years = list(range(2014, 2025))  # From 2014 to 2024\n",
    "quarters = [\"QTR1\", \"QTR2\", \"QTR3\", \"QTR4\"]\n",
    "\n",
    "# State abbreviations and full names\n",
    "all_states = [\n",
    "    \"AL\", \"AK\", \"AZ\", \"AR\", \"CA\", \"CO\", \"CT\", \"DE\", \"FL\", \"GA\", \n",
    "    \"HI\", \"ID\", \"IL\", \"IN\", \"IA\", \"KS\", \"KY\", \"LA\", \"ME\", \"MD\", \n",
    "    \"MA\", \"MI\", \"MN\", \"MS\", \"MO\", \"MT\", \"NE\", \"NV\", \"NH\", \"NJ\", \n",
    "    \"NM\", \"NY\", \"NC\", \"ND\", \"OH\", \"OK\", \"OR\", \"PA\", \"RI\", \"SC\", \n",
    "    \"SD\", \"TN\", \"TX\", \"UT\", \"VT\", \"VA\", \"WA\", \"WV\", \"WI\", \"WY\"\n",
    "]\n",
    "state_full_names = [\n",
    "    \"ALABAMA\", \"ALASKA\", \"ARIZONA\", \"ARKANSAS\", \"CALIFORNIA\", \"COLORADO\", \"CONNECTICUT\", \n",
    "    \"DELAWARE\", \"FLORIDA\", \"GEORGIA\", \"HAWAII\", \"IDAHO\", \"ILLINOIS\", \"INDIANA\", \"IOWA\", \n",
    "    \"KANSAS\", \"KENTUCKY\", \"LOUISIANA\", \"MAINE\", \"MARYLAND\", \"MASSACHUSETTS\", \"MICHIGAN\", \n",
    "    \"MINNESOTA\", \"MISSISSIPPI\", \"MISSOURI\", \"MONTANA\", \"NEBRASKA\", \"NEVADA\", \"NEW HAMPSHIRE\", \n",
    "    \"NEW JERSEY\", \"NEW MEXICO\", \"NEW YORK\", \"NORTH CAROLINA\", \"NORTH DAKOTA\", \"OHIO\", \n",
    "    \"OKLAHOMA\", \"OREGON\", \"PENNSYLVANIA\", \"RHODE ISLAND\", \"SOUTH CAROLINA\", \"SOUTH DAKOTA\", \n",
    "    \"TENNESSEE\", \"TEXAS\", \"UTAH\", \"VERMONT\", \"VIRGINIA\", \"WASHINGTON\", \"WEST VIRGINIA\", \n",
    "    \"WISCONSIN\", \"WYOMING\"\n",
    "]\n",
    "\n",
    "state_name_to_abbreviation = dict(zip(state_full_names, all_states))\n",
    "\n",
    "zip_file_path = \"Data.zip\"\n",
    "extract_path = \"extracted_data\"\n",
    "\n",
    "os.makedirs(extract_path, exist_ok=True)\n",
    "\n",
    "with zipfile.ZipFile(zip_file_path, 'r') as zip_ref:\n",
    "    zip_ref.extractall(extract_path)\n",
    "\n",
    "all_data = []\n",
    "\n",
    "for year in years:\n",
    "    for quarter in quarters:\n",
    "        csv_file_name = f\"{year}_{quarter}.csv\"\n",
    "        file_path = os.path.join(extract_path, csv_file_name)\n",
    "        \n",
    "        if os.path.exists(file_path):\n",
    "            df = pd.read_csv(file_path)\n",
    "\n",
    "            jurisdiction_counts = (\n",
    "                df[\"State or Country - Legal Jurisdiction\"]\n",
    "                .map(state_name_to_abbreviation)\n",
    "                .value_counts()\n",
    "                .reset_index()\n",
    "            )\n",
    "            jurisdiction_counts.columns = [\"State\", \"JurisdictionCount\"]\n",
    "\n",
    "            state_counts_simple = (\n",
    "                df[\"State or Country - Physical Location\"]\n",
    "                .value_counts()\n",
    "                .reset_index()\n",
    "            )\n",
    "            state_counts_simple.columns = [\"State\", \"TotalCount\"]\n",
    "            state_counts_simple[\"TotalCount\"] = state_counts_simple[\"TotalCount\"].fillna(0).astype(int)\n",
    "\n",
    "            merged_counts = pd.merge(\n",
    "                jurisdiction_counts, state_counts_simple, on=\"State\", how=\"outer\"\n",
    "            ).fillna(0)\n",
    "\n",
    "            merged_counts[\"Percentage\"] = (\n",
    "                (merged_counts[\"JurisdictionCount\"] / merged_counts[\"TotalCount\"]) * 100\n",
    "            ).fillna(0)\n",
    "\n",
    "            merged_counts[\"Year\"] = year\n",
    "            merged_counts[\"Quarter\"] = quarter\n",
    "            \n",
    "            all_data.append(merged_counts)\n",
    "\n",
    "final_df = final_df.sort_values(by=[\"State\", \"Year\"])\n",
    "\n",
    "final_df[\"PercentageGrowth\"] = (\n",
    "    (final_df[\"Percentage\"] - final_df.groupby(\"State\")[\"Percentage\"].shift(4)) /\n",
    "    final_df.groupby(\"State\")[\"Percentage\"].shift(4)\n",
    ") * 100\n",
    "\n",
    "final_df[\"PercentageGrowth\"] = final_df[\"PercentageGrowth\"].fillna(0)\n",
    "selected_state = input(\"Enter the state abbreviation (e.g., CA, TX, NY): \").upper()\n",
    "\n",
    "state_data = final_df[final_df[\"State\"] == selected_state]\n",
    "\n",
    "if state_data.empty:\n",
    "    print(f\"No data found for state: {selected_state}\")\n",
    "else:\n",
    "    \n",
    "    fig_growth = px.line(\n",
    "        state_data,\n",
    "        x=\"Year\",\n",
    "        y=\"PercentageGrowth\",\n",
    "        title=f\"Yearly Jurisdiction Percentage Growth in {selected_state} (2014-2024)\",\n",
    "        labels={\"PercentageGrowth\": \"Percentage Growth (%)\"},\n",
    "    )\n",
    "\n",
    "\n",
    "fig_growth.show()\n"
   ]
  },
  {
   "cell_type": "code",
   "execution_count": 1,
   "metadata": {},
   "outputs": [
    {
     "name": "stdout",
     "output_type": "stream",
     "text": [
      "Files inside ZIP: ['2014_QTR1.csv', '2014_QTR2.csv', '2014_QTR3.csv', '2014_QTR4.csv', '2015_QTR1.csv', '2015_QTR2.csv', '2015_QTR3.csv', '2015_QTR4.csv', '2016_QTR1.csv', '2016_QTR2.csv', '2016_QTR3.csv', '2016_QTR4.csv', '2017_QTR1.csv', '2017_QTR2.csv', '2017_QTR3.csv', '2017_QTR4.csv', '2018_QTR1.csv', '__MACOSX/._2018_QTR1.csv', '2018_QTR2.csv', '2018_QTR3.csv', '2018_QTR4.csv', '2019_QTR1.csv', '2019_QTR2.csv', '2019_QTR3.csv', '2019_QTR4.csv', '2020_QTR1.csv', '2020_QTR2.csv', '2020_QTR3.csv', '2020_QTR4.csv', '2021_QTR1.csv', '2021_QTR2.csv', '2021_QTR3.csv', '2021_QTR4.csv', '2022_QTR1.csv', '2022_QTR2.csv', '2022_QTR3.csv', '2022_QTR4.csv', '2023_QTR1.csv', '2023_QTR2.csv', '2023_QTR3.csv', '2023_QTR4.csv', '2024_QTR1.csv', '2024_QTR2.csv', '2024_QTR3.csv', '2024_QTR4.csv', '__MACOSX/._2024_QTR4.csv']\n"
     ]
    },
    {
     "name": "stderr",
     "output_type": "stream",
     "text": [
      "/var/folders/fv/pg6m92317192zjv46jbqrk_80000gn/T/ipykernel_8613/1645582559.py:38: DtypeWarning: Columns (67,154,164,169,180,182,190,192,200,202,206,210,212,213,214,215,216,217,218,219,220,221,222,223,224,225,226,227,228,229,230,231,232,233,234,235,236,237,238,239,240,241,242,243,244,245,246,247,248,249,250,251,252,253,254,255,256,257,258,259,260,261,262,263,264,265,266,267,268,269,270,271,272,273,274,275,276,277,278,279,280,281,282,283,284,285,286,287,288,289,290,291,292,293,294,295,296,297,298,299,300,301,302,303,304,305,306,307,308,309,310,311,312,313,314,315,316,317,318,319,320,321,322,323,324,325,326,327,328,329,330,331,332,333,334,335,336,337,338,339,340,341,342,343,344,345,346,347,348,349,350,351,352,353,354,355,356,357,358,359,360,361,362,363,364,365,366,367,368,369,370,371,372,373,374,375,376,377,378,379,380,381,382,383,384,385,386,387,388,389,390,391,392,393,394,395,396,397,398,399,400,401,402,403,404,405,406,407,408,409,410,411,412,413,414,415,416,417,418,419,420,421,422,423,424,425,426,427,428,429,430,431,432,433,434,435,436,437,438,439,440,442,443,444,445,446,447,448,449,450,452,453,454,455,456,457,458,459,460,462,463,464,465,466,467,468,469,470,472,473,474,475,476,477,478,479,480,482,483,484,485,486,487,488,489,490,492,493,494,495,496,497,498,499,500,502,503,504,505,506,507,508,509,510,512,513,514,515,516,517,518,519,520,522,523,524,525,526,527,528,529,530,532,533,534,535,536,537,538,539,540,542,543,544,545,546,547,548,549,550,552,553,554,555,556,557,558,559,560,562,563,564,565,566,567,568,569,570,572,573,574,575,576,577,578,579,580,582,583,584,585,586,587,588,589,590,592,593,594,595,596,597,598,599,600,602,603,604,605,606,607,608,609,610,612,613,614,615,616,617,618,619,620,622,623,624,625,626,627,628,629,630,632,633,634,635,636,637,638,639,640,642,643,644,645,646,647,648,649,650,652,653,654,655,656,657,658,659,660,662,663,664,665,666,667,668,669,670,672,673,674,675,676,677,678,679,680,682,683,684,685,686,687,688,689,690,692,693,694,695,696,697,698,699,700,702,703,704,705,706,707,708,709,710,712,713,714,715,716,717,718,719,720,722,723,724,725,726,727,728,729,730,732,733,734,735,736,737,738,739,740,742,743,744,745,746,747,748,749,750,752,753,754,755,756,757,758,759,760,762,763,764,765,766,767,768,769,770,772,773,774,775,776,777,778,779,780,782,783,784,785,786,787,788,789,790,792,793,794,795,796,797,798,799,800,801,802,803,804) have mixed types. Specify dtype option on import or set low_memory=False.\n",
      "  df = pd.read_csv(f\"extracted_data/{csv_file_name}\")\n"
     ]
    },
    {
     "name": "stdout",
     "output_type": "stream",
     "text": [
      "    State  TotalCount\n",
      "0      WA        1251\n",
      "1      CA        1200\n",
      "2      NY         991\n",
      "3      TX         769\n",
      "4      FL         446\n",
      "..    ...         ...\n",
      "102    J5           1\n",
      "103    R1           1\n",
      "104    J3           1\n",
      "105    1M           1\n",
      "106    R5           1\n",
      "\n",
      "[107 rows x 2 columns]\n",
      "   State   Percentage\n",
      "0     1M     0.000000\n",
      "1     2M     0.000000\n",
      "2     A0     0.000000\n",
      "3     A1     0.000000\n",
      "4     A3     0.000000\n",
      "5     A5     0.000000\n",
      "6     A6     0.000000\n",
      "7     A8     0.000000\n",
      "8     A9     0.000000\n",
      "9     AK   114.285714\n",
      "10    AL    33.333333\n",
      "11    AR    78.571429\n",
      "12    AZ    38.383838\n",
      "13    C0     0.000000\n",
      "14    C1     0.000000\n",
      "15    C3     0.000000\n",
      "16    C4     0.000000\n",
      "17    C7     0.000000\n",
      "18    C8     0.000000\n",
      "19    CA     9.833333\n",
      "20    CO    34.482759\n",
      "21    CT     5.785124\n",
      "22    D0     0.000000\n",
      "23    D5     0.000000\n",
      "24    D8     0.000000\n",
      "25    DC     0.000000\n",
      "26    DE  2095.000000\n",
      "27    E9     0.000000\n",
      "28    F3     0.000000\n",
      "29    F4     0.000000\n",
      "30    F8     0.000000\n",
      "31    FL    22.869955\n",
      "32    GA    27.011494\n",
      "33    H9     0.000000\n",
      "34    HI    12.500000\n",
      "35    I0     0.000000\n",
      "36    IA    56.818182\n",
      "37    ID    61.538462\n",
      "38    IL     9.565217\n",
      "39    IN    50.000000\n",
      "40    J3     0.000000\n",
      "41    J5     0.000000\n",
      "42    K3     0.000000\n",
      "43    K7     0.000000\n",
      "44    K8     0.000000\n",
      "45    KS    86.363636\n",
      "46    KY    70.000000\n",
      "47    L2     0.000000\n",
      "48    L3     0.000000\n",
      "49    L6     0.000000\n",
      "50    LA    23.076923\n",
      "51    M0     0.000000\n",
      "52    M5     0.000000\n",
      "53    MA     4.278075\n",
      "54    MD    50.000000\n"
     ]
    },
    {
     "data": {
      "application/vnd.plotly.v1+json": {
       "config": {
        "plotlyServerURL": "https://plot.ly"
       },
       "data": [
        {
         "coloraxis": "coloraxis",
         "geo": "geo",
         "hovertemplate": "State=%{location}<br>Percentage=%{z}<extra></extra>",
         "locationmode": "USA-states",
         "locations": [
          "1M",
          "2M",
          "A0",
          "A1",
          "A3",
          "A5",
          "A6",
          "A8",
          "A9",
          "AK",
          "AL",
          "AR",
          "AZ",
          "C0",
          "C1",
          "C3",
          "C4",
          "C7",
          "C8",
          "CA",
          "CO",
          "CT",
          "D0",
          "D5",
          "D8",
          "DC",
          "DE",
          "E9",
          "F3",
          "F4",
          "F8",
          "FL",
          "GA",
          "H9",
          "HI",
          "I0",
          "IA",
          "ID",
          "IL",
          "IN",
          "J3",
          "J5",
          "K3",
          "K7",
          "K8",
          "KS",
          "KY",
          "L2",
          "L3",
          "L6",
          "LA",
          "M0",
          "M5",
          "MA",
          "MD",
          "ME",
          "MI",
          "MN",
          "MO",
          "MS",
          "MT",
          "N4",
          "N8",
          "NC",
          "ND",
          "NE",
          "NH",
          "NJ",
          "NM",
          "NV",
          "NY",
          "O1",
          "O4",
          "O5",
          "OH",
          "OK",
          "OR",
          "P0",
          "P7",
          "PA",
          "PR",
          "Q5",
          "R1",
          "R5",
          "RI",
          "SC",
          "SD",
          "T1",
          "TN",
          "TX",
          "U0",
          "U3",
          "UT",
          "V7",
          "V8",
          "VA",
          "VT",
          "W9",
          "WA",
          "WI",
          "WV",
          "WY",
          "X0",
          "X1",
          "Y7",
          "Y9",
          "Z4"
         ],
         "name": "",
         "type": "choropleth",
         "z": [
          0,
          0,
          0,
          0,
          0,
          0,
          0,
          0,
          0,
          114.28571428571428,
          33.33333333333333,
          78.57142857142857,
          38.38383838383838,
          0,
          0,
          0,
          0,
          0,
          0,
          9.833333333333332,
          34.48275862068966,
          5.785123966942149,
          0,
          0,
          0,
          0,
          2095,
          0,
          0,
          0,
          0,
          22.869955156950674,
          27.011494252873565,
          0,
          12.5,
          0,
          56.81818181818182,
          61.53846153846154,
          9.565217391304348,
          50,
          0,
          0,
          0,
          0,
          0,
          86.36363636363636,
          70,
          0,
          0,
          0,
          23.076923076923077,
          0,
          0,
          4.27807486631016,
          50,
          50,
          37.878787878787875,
          43.05555555555556,
          50.943396226415096,
          154.54545454545453,
          35.714285714285715,
          0,
          0,
          35.07462686567165,
          83.33333333333334,
          90.47619047619048,
          21.428571428571427,
          19.587628865979383,
          23.076923076923077,
          134.21052631578948,
          7.568113017154389,
          0,
          0,
          0,
          61.15702479338842,
          70.27027027027027,
          42.5,
          0,
          0,
          20.118343195266274,
          0,
          0,
          0,
          0,
          25,
          38.775510204081634,
          71.42857142857143,
          0,
          27.142857142857142,
          43.172951885565666,
          0,
          0,
          12.393162393162394,
          0,
          0,
          28.8135593220339,
          87.75510204081633,
          0,
          4.876099120703437,
          62.264150943396224,
          0,
          175.47169811320757,
          0,
          0,
          0,
          0,
          0
         ]
        }
       ],
       "layout": {
        "coloraxis": {
         "cmax": 100,
         "cmin": 0,
         "colorbar": {
          "title": {
           "text": "Percentage"
          }
         },
         "colorscale": [
          [
           0,
           "#440154"
          ],
          [
           0.1111111111111111,
           "#482878"
          ],
          [
           0.2222222222222222,
           "#3e4989"
          ],
          [
           0.3333333333333333,
           "#31688e"
          ],
          [
           0.4444444444444444,
           "#26828e"
          ],
          [
           0.5555555555555556,
           "#1f9e89"
          ],
          [
           0.6666666666666666,
           "#35b779"
          ],
          [
           0.7777777777777778,
           "#6ece58"
          ],
          [
           0.8888888888888888,
           "#b5de2b"
          ],
          [
           1,
           "#fde725"
          ]
         ]
        },
        "geo": {
         "center": {},
         "domain": {
          "x": [
           0,
           1
          ],
          "y": [
           0,
           1
          ]
         },
         "scope": "usa"
        },
        "legend": {
         "tracegroupgap": 0
        },
        "template": {
         "data": {
          "bar": [
           {
            "error_x": {
             "color": "#2a3f5f"
            },
            "error_y": {
             "color": "#2a3f5f"
            },
            "marker": {
             "line": {
              "color": "#E5ECF6",
              "width": 0.5
             },
             "pattern": {
              "fillmode": "overlay",
              "size": 10,
              "solidity": 0.2
             }
            },
            "type": "bar"
           }
          ],
          "barpolar": [
           {
            "marker": {
             "line": {
              "color": "#E5ECF6",
              "width": 0.5
             },
             "pattern": {
              "fillmode": "overlay",
              "size": 10,
              "solidity": 0.2
             }
            },
            "type": "barpolar"
           }
          ],
          "carpet": [
           {
            "aaxis": {
             "endlinecolor": "#2a3f5f",
             "gridcolor": "white",
             "linecolor": "white",
             "minorgridcolor": "white",
             "startlinecolor": "#2a3f5f"
            },
            "baxis": {
             "endlinecolor": "#2a3f5f",
             "gridcolor": "white",
             "linecolor": "white",
             "minorgridcolor": "white",
             "startlinecolor": "#2a3f5f"
            },
            "type": "carpet"
           }
          ],
          "choropleth": [
           {
            "colorbar": {
             "outlinewidth": 0,
             "ticks": ""
            },
            "type": "choropleth"
           }
          ],
          "contour": [
           {
            "colorbar": {
             "outlinewidth": 0,
             "ticks": ""
            },
            "colorscale": [
             [
              0,
              "#0d0887"
             ],
             [
              0.1111111111111111,
              "#46039f"
             ],
             [
              0.2222222222222222,
              "#7201a8"
             ],
             [
              0.3333333333333333,
              "#9c179e"
             ],
             [
              0.4444444444444444,
              "#bd3786"
             ],
             [
              0.5555555555555556,
              "#d8576b"
             ],
             [
              0.6666666666666666,
              "#ed7953"
             ],
             [
              0.7777777777777778,
              "#fb9f3a"
             ],
             [
              0.8888888888888888,
              "#fdca26"
             ],
             [
              1,
              "#f0f921"
             ]
            ],
            "type": "contour"
           }
          ],
          "contourcarpet": [
           {
            "colorbar": {
             "outlinewidth": 0,
             "ticks": ""
            },
            "type": "contourcarpet"
           }
          ],
          "heatmap": [
           {
            "colorbar": {
             "outlinewidth": 0,
             "ticks": ""
            },
            "colorscale": [
             [
              0,
              "#0d0887"
             ],
             [
              0.1111111111111111,
              "#46039f"
             ],
             [
              0.2222222222222222,
              "#7201a8"
             ],
             [
              0.3333333333333333,
              "#9c179e"
             ],
             [
              0.4444444444444444,
              "#bd3786"
             ],
             [
              0.5555555555555556,
              "#d8576b"
             ],
             [
              0.6666666666666666,
              "#ed7953"
             ],
             [
              0.7777777777777778,
              "#fb9f3a"
             ],
             [
              0.8888888888888888,
              "#fdca26"
             ],
             [
              1,
              "#f0f921"
             ]
            ],
            "type": "heatmap"
           }
          ],
          "heatmapgl": [
           {
            "colorbar": {
             "outlinewidth": 0,
             "ticks": ""
            },
            "colorscale": [
             [
              0,
              "#0d0887"
             ],
             [
              0.1111111111111111,
              "#46039f"
             ],
             [
              0.2222222222222222,
              "#7201a8"
             ],
             [
              0.3333333333333333,
              "#9c179e"
             ],
             [
              0.4444444444444444,
              "#bd3786"
             ],
             [
              0.5555555555555556,
              "#d8576b"
             ],
             [
              0.6666666666666666,
              "#ed7953"
             ],
             [
              0.7777777777777778,
              "#fb9f3a"
             ],
             [
              0.8888888888888888,
              "#fdca26"
             ],
             [
              1,
              "#f0f921"
             ]
            ],
            "type": "heatmapgl"
           }
          ],
          "histogram": [
           {
            "marker": {
             "pattern": {
              "fillmode": "overlay",
              "size": 10,
              "solidity": 0.2
             }
            },
            "type": "histogram"
           }
          ],
          "histogram2d": [
           {
            "colorbar": {
             "outlinewidth": 0,
             "ticks": ""
            },
            "colorscale": [
             [
              0,
              "#0d0887"
             ],
             [
              0.1111111111111111,
              "#46039f"
             ],
             [
              0.2222222222222222,
              "#7201a8"
             ],
             [
              0.3333333333333333,
              "#9c179e"
             ],
             [
              0.4444444444444444,
              "#bd3786"
             ],
             [
              0.5555555555555556,
              "#d8576b"
             ],
             [
              0.6666666666666666,
              "#ed7953"
             ],
             [
              0.7777777777777778,
              "#fb9f3a"
             ],
             [
              0.8888888888888888,
              "#fdca26"
             ],
             [
              1,
              "#f0f921"
             ]
            ],
            "type": "histogram2d"
           }
          ],
          "histogram2dcontour": [
           {
            "colorbar": {
             "outlinewidth": 0,
             "ticks": ""
            },
            "colorscale": [
             [
              0,
              "#0d0887"
             ],
             [
              0.1111111111111111,
              "#46039f"
             ],
             [
              0.2222222222222222,
              "#7201a8"
             ],
             [
              0.3333333333333333,
              "#9c179e"
             ],
             [
              0.4444444444444444,
              "#bd3786"
             ],
             [
              0.5555555555555556,
              "#d8576b"
             ],
             [
              0.6666666666666666,
              "#ed7953"
             ],
             [
              0.7777777777777778,
              "#fb9f3a"
             ],
             [
              0.8888888888888888,
              "#fdca26"
             ],
             [
              1,
              "#f0f921"
             ]
            ],
            "type": "histogram2dcontour"
           }
          ],
          "mesh3d": [
           {
            "colorbar": {
             "outlinewidth": 0,
             "ticks": ""
            },
            "type": "mesh3d"
           }
          ],
          "parcoords": [
           {
            "line": {
             "colorbar": {
              "outlinewidth": 0,
              "ticks": ""
             }
            },
            "type": "parcoords"
           }
          ],
          "pie": [
           {
            "automargin": true,
            "type": "pie"
           }
          ],
          "scatter": [
           {
            "fillpattern": {
             "fillmode": "overlay",
             "size": 10,
             "solidity": 0.2
            },
            "type": "scatter"
           }
          ],
          "scatter3d": [
           {
            "line": {
             "colorbar": {
              "outlinewidth": 0,
              "ticks": ""
             }
            },
            "marker": {
             "colorbar": {
              "outlinewidth": 0,
              "ticks": ""
             }
            },
            "type": "scatter3d"
           }
          ],
          "scattercarpet": [
           {
            "marker": {
             "colorbar": {
              "outlinewidth": 0,
              "ticks": ""
             }
            },
            "type": "scattercarpet"
           }
          ],
          "scattergeo": [
           {
            "marker": {
             "colorbar": {
              "outlinewidth": 0,
              "ticks": ""
             }
            },
            "type": "scattergeo"
           }
          ],
          "scattergl": [
           {
            "marker": {
             "colorbar": {
              "outlinewidth": 0,
              "ticks": ""
             }
            },
            "type": "scattergl"
           }
          ],
          "scattermapbox": [
           {
            "marker": {
             "colorbar": {
              "outlinewidth": 0,
              "ticks": ""
             }
            },
            "type": "scattermapbox"
           }
          ],
          "scatterpolar": [
           {
            "marker": {
             "colorbar": {
              "outlinewidth": 0,
              "ticks": ""
             }
            },
            "type": "scatterpolar"
           }
          ],
          "scatterpolargl": [
           {
            "marker": {
             "colorbar": {
              "outlinewidth": 0,
              "ticks": ""
             }
            },
            "type": "scatterpolargl"
           }
          ],
          "scatterternary": [
           {
            "marker": {
             "colorbar": {
              "outlinewidth": 0,
              "ticks": ""
             }
            },
            "type": "scatterternary"
           }
          ],
          "surface": [
           {
            "colorbar": {
             "outlinewidth": 0,
             "ticks": ""
            },
            "colorscale": [
             [
              0,
              "#0d0887"
             ],
             [
              0.1111111111111111,
              "#46039f"
             ],
             [
              0.2222222222222222,
              "#7201a8"
             ],
             [
              0.3333333333333333,
              "#9c179e"
             ],
             [
              0.4444444444444444,
              "#bd3786"
             ],
             [
              0.5555555555555556,
              "#d8576b"
             ],
             [
              0.6666666666666666,
              "#ed7953"
             ],
             [
              0.7777777777777778,
              "#fb9f3a"
             ],
             [
              0.8888888888888888,
              "#fdca26"
             ],
             [
              1,
              "#f0f921"
             ]
            ],
            "type": "surface"
           }
          ],
          "table": [
           {
            "cells": {
             "fill": {
              "color": "#EBF0F8"
             },
             "line": {
              "color": "white"
             }
            },
            "header": {
             "fill": {
              "color": "#C8D4E3"
             },
             "line": {
              "color": "white"
             }
            },
            "type": "table"
           }
          ]
         },
         "layout": {
          "annotationdefaults": {
           "arrowcolor": "#2a3f5f",
           "arrowhead": 0,
           "arrowwidth": 1
          },
          "autotypenumbers": "strict",
          "coloraxis": {
           "colorbar": {
            "outlinewidth": 0,
            "ticks": ""
           }
          },
          "colorscale": {
           "diverging": [
            [
             0,
             "#8e0152"
            ],
            [
             0.1,
             "#c51b7d"
            ],
            [
             0.2,
             "#de77ae"
            ],
            [
             0.3,
             "#f1b6da"
            ],
            [
             0.4,
             "#fde0ef"
            ],
            [
             0.5,
             "#f7f7f7"
            ],
            [
             0.6,
             "#e6f5d0"
            ],
            [
             0.7,
             "#b8e186"
            ],
            [
             0.8,
             "#7fbc41"
            ],
            [
             0.9,
             "#4d9221"
            ],
            [
             1,
             "#276419"
            ]
           ],
           "sequential": [
            [
             0,
             "#0d0887"
            ],
            [
             0.1111111111111111,
             "#46039f"
            ],
            [
             0.2222222222222222,
             "#7201a8"
            ],
            [
             0.3333333333333333,
             "#9c179e"
            ],
            [
             0.4444444444444444,
             "#bd3786"
            ],
            [
             0.5555555555555556,
             "#d8576b"
            ],
            [
             0.6666666666666666,
             "#ed7953"
            ],
            [
             0.7777777777777778,
             "#fb9f3a"
            ],
            [
             0.8888888888888888,
             "#fdca26"
            ],
            [
             1,
             "#f0f921"
            ]
           ],
           "sequentialminus": [
            [
             0,
             "#0d0887"
            ],
            [
             0.1111111111111111,
             "#46039f"
            ],
            [
             0.2222222222222222,
             "#7201a8"
            ],
            [
             0.3333333333333333,
             "#9c179e"
            ],
            [
             0.4444444444444444,
             "#bd3786"
            ],
            [
             0.5555555555555556,
             "#d8576b"
            ],
            [
             0.6666666666666666,
             "#ed7953"
            ],
            [
             0.7777777777777778,
             "#fb9f3a"
            ],
            [
             0.8888888888888888,
             "#fdca26"
            ],
            [
             1,
             "#f0f921"
            ]
           ]
          },
          "colorway": [
           "#636efa",
           "#EF553B",
           "#00cc96",
           "#ab63fa",
           "#FFA15A",
           "#19d3f3",
           "#FF6692",
           "#B6E880",
           "#FF97FF",
           "#FECB52"
          ],
          "font": {
           "color": "#2a3f5f"
          },
          "geo": {
           "bgcolor": "white",
           "lakecolor": "white",
           "landcolor": "#E5ECF6",
           "showlakes": true,
           "showland": true,
           "subunitcolor": "white"
          },
          "hoverlabel": {
           "align": "left"
          },
          "hovermode": "closest",
          "mapbox": {
           "style": "light"
          },
          "paper_bgcolor": "white",
          "plot_bgcolor": "#E5ECF6",
          "polar": {
           "angularaxis": {
            "gridcolor": "white",
            "linecolor": "white",
            "ticks": ""
           },
           "bgcolor": "#E5ECF6",
           "radialaxis": {
            "gridcolor": "white",
            "linecolor": "white",
            "ticks": ""
           }
          },
          "scene": {
           "xaxis": {
            "backgroundcolor": "#E5ECF6",
            "gridcolor": "white",
            "gridwidth": 2,
            "linecolor": "white",
            "showbackground": true,
            "ticks": "",
            "zerolinecolor": "white"
           },
           "yaxis": {
            "backgroundcolor": "#E5ECF6",
            "gridcolor": "white",
            "gridwidth": 2,
            "linecolor": "white",
            "showbackground": true,
            "ticks": "",
            "zerolinecolor": "white"
           },
           "zaxis": {
            "backgroundcolor": "#E5ECF6",
            "gridcolor": "white",
            "gridwidth": 2,
            "linecolor": "white",
            "showbackground": true,
            "ticks": "",
            "zerolinecolor": "white"
           }
          },
          "shapedefaults": {
           "line": {
            "color": "#2a3f5f"
           }
          },
          "ternary": {
           "aaxis": {
            "gridcolor": "white",
            "linecolor": "white",
            "ticks": ""
           },
           "baxis": {
            "gridcolor": "white",
            "linecolor": "white",
            "ticks": ""
           },
           "bgcolor": "#E5ECF6",
           "caxis": {
            "gridcolor": "white",
            "linecolor": "white",
            "ticks": ""
           }
          },
          "title": {
           "x": 0.05
          },
          "xaxis": {
           "automargin": true,
           "gridcolor": "white",
           "linecolor": "white",
           "ticks": "",
           "title": {
            "standoff": 15
           },
           "zerolinecolor": "white",
           "zerolinewidth": 2
          },
          "yaxis": {
           "automargin": true,
           "gridcolor": "white",
           "linecolor": "white",
           "ticks": "",
           "title": {
            "standoff": 15
           },
           "zerolinecolor": "white",
           "zerolinewidth": 2
          }
         }
        },
        "title": {
         "text": "Count of D type fillings by US state, state of filling vs company location"
        }
       }
      }
     },
     "metadata": {},
     "output_type": "display_data"
    }
   ],
   "source": [
    "import zipfile\n",
    "import pandas as pd\n",
    "import plotly.express as px\n",
    "import os\n",
    "all_states = [\n",
    "    \"AL\", \"AK\", \"AZ\", \"AR\", \"CA\", \"CO\", \"CT\", \"DE\", \"FL\", \"GA\", \n",
    "    \"HI\", \"ID\", \"IL\", \"IN\", \"IA\", \"KS\", \"KY\", \"LA\", \"ME\", \"MD\", \n",
    "    \"MA\", \"MI\", \"MN\", \"MS\", \"MO\", \"MT\", \"NE\", \"NV\", \"NH\", \"NJ\", \n",
    "    \"NM\", \"NY\", \"NC\", \"ND\", \"OH\", \"OK\", \"OR\", \"PA\", \"RI\", \"SC\", \n",
    "    \"SD\", \"TN\", \"TX\", \"UT\", \"VT\", \"VA\", \"WA\", \"WV\", \"WI\", \"WY\"\n",
    "]\n",
    "state_full_names = [\n",
    "    \"ALABAMA\", \"ALASKA\", \"ARIZONA\", \"ARKANSAS\", \"CALIFORNIA\", \"COLORADO\", \"CONNECTICUT\", \n",
    "    \"DELAWARE\", \"FLORIDA\", \"GEORGIA\", \"HAWAII\", \"IDAHO\", \"ILLINOIS\", \"INDIANA\", \"IOWA\", \n",
    "    \"KANSAS\", \"KENTUCKY\", \"LOUISIANA\", \"MAINE\", \"MARYLAND\", \"MASSACHUSETTS\", \"MICHIGAN\", \n",
    "    \"MINNESOTA\", \"MISSISSIPPI\", \"MISSOURI\", \"MONTANA\", \"NEBRASKA\", \"NEVADA\", \"NEW HAMPSHIRE\", \n",
    "    \"NEW JERSEY\", \"NEW MEXICO\", \"NEW YORK\", \"NORTH CAROLINA\", \"NORTH DAKOTA\", \"OHIO\", \n",
    "    \"OKLAHOMA\", \"OREGON\", \"PENNSYLVANIA\", \"RHODE ISLAND\", \"SOUTH CAROLINA\", \"SOUTH DAKOTA\", \n",
    "    \"TENNESSEE\", \"TEXAS\", \"UTAH\", \"VERMONT\", \"VIRGINIA\", \"WASHINGTON\", \"WEST VIRGINIA\", \n",
    "    \"WISCONSIN\", \"WYOMING\"\n",
    "]\n",
    "\n",
    "# Extract the CSV file from the ZIP archive\n",
    "zip_file_path = \"Data.zip\"\n",
    "csv_file_name = \"2022_QTR4.csv\"\n",
    "extract_path = \"extracted_data\" \n",
    "zip_file_path = \"Data.zip\"\n",
    "\n",
    "with zipfile.ZipFile(zip_file_path, 'r') as zip_ref:\n",
    "    file_list = zip_ref.namelist()\n",
    "\n",
    "print(\"Files inside ZIP:\", file_list)\n",
    "\n",
    "with zipfile.ZipFile(zip_file_path, 'r') as zip_ref:\n",
    "    zip_ref.extract(csv_file_name, \"extracted_data\")\n",
    "\n",
    "# Read the extracted CSV file\n",
    "df = pd.read_csv(f\"extracted_data/{csv_file_name}\")\n",
    "\n",
    "state_name_to_abbreviation = dict(zip(state_full_names, all_states))\n",
    "\n",
    "jurisdiction_counts = (\n",
    "    df[\"State or Country - Legal Jurisdiction\"]\n",
    "    .map(state_name_to_abbreviation)\n",
    "    .value_counts()  \n",
    "    .reset_index()\n",
    ")\n",
    "jurisdiction_counts.columns = [\"State\", \"JurisdictionCount\"]\n",
    "state_counts_simple = (\n",
    "    df[\"State or Country - Physical Location\"]\n",
    "    .value_counts()\n",
    "    .reset_index()\n",
    ")\n",
    "state_counts_simple.columns = [\"State\", \"TotalCount\"]\n",
    "state_counts_simple[\"TotalCount\"] = state_counts_simple[\"TotalCount\"].fillna(0).astype(int)\n",
    "print(state_counts_simple)\n",
    "\n",
    "merged_counts = pd.merge(\n",
    "    jurisdiction_counts, state_counts_simple, on=\"State\", how=\"outer\"\n",
    ").fillna(0)\n",
    "\n",
    "merged_counts[\"Percentage\"] = (\n",
    "    (merged_counts[\"JurisdictionCount\"] / merged_counts[\"TotalCount\"]) * 100\n",
    ").fillna(0)\n",
    "\n",
    "# Ensure all states are represented in the DataFrame with default count 0\n",
    "#state_counts_simple = df[\"State or Country - Physical Location\"].value_counts().reset_index()\n",
    "#state_counts_simple.columns = [\"State\", \"Count\"]\n",
    "#state_counts_simple[\"Count\"] = state_counts_simple[\"Count\"].fillna(0).astype(int)\n",
    "\n",
    "merged_counts = merged_counts[[\"State\", \"Percentage\"]]\n",
    "print(merged_counts.head(55))\n",
    "\n",
    "fig_simple = px.choropleth(\n",
    "    merged_counts,\n",
    "    locations=\"State\",\n",
    "    locationmode=\"USA-states\",\n",
    "    color=\"Percentage\",\n",
    "    range_color=(0,100),\n",
    "    scope=\"usa\",\n",
    "    color_continuous_scale=\"Viridis\",\n",
    "    title=\"Count of D type fillings by US state, state of filling vs company location\"\n",
    ")\n",
    "\n",
    "# Displaying the map\n",
    "fig_simple.show()"
   ]
  },
  {
   "cell_type": "code",
   "execution_count": 2,
   "metadata": {},
   "outputs": [
    {
     "name": "stderr",
     "output_type": "stream",
     "text": [
      "/var/folders/fv/pg6m92317192zjv46jbqrk_80000gn/T/ipykernel_8613/3541256687.py:11: DtypeWarning:\n",
      "\n",
      "Columns (123,125,133,135,143,145,149,157,159,161,162,163,171,173,181,183,184,185,186,187,188,189,190,191,192,193,194,195,196,197,198,199,200,201,202,203,204,205,206,207,208,209,210,211,212,213,214,215,216,217,218,219,220,221,222,223,224,225,226,227,228,229,230,231,232,233,234,235,236,237,238,239,240,241,242,243,244,245,246,247,248,249,250,251,252,253,254,255,256,257,258,259,260,261,262,263,264,265,266,267,268,269,270,271,272,273,274,275,276,277,278,279,280,281,282,283,284,285,286,287,288,289,290,291,292,293,294,295,296,297,298,299,300,301,302,303,304,305,306,307,308,309,310,311,312,313,314,315,316,317,318,319,320,321,323,324,325,326,327,328,329,330,331,333,334,335,336,337,338,339,340,341,343,344,345,346,347,348,349,350,351,353,354,355,356,357,358,359,360,361,362,363,364,365,367,368,369,370,371,372,373,374,375,377,378,379,380,381,382,383,384,385,387,388,389,390,391,392,393,394,395,397,398,399,400,401,402,403,404,405,407,408,409,410,411,412,413,414,415,417,418,419,420,421,422,423,424,425,427,428,429,430,431,432,433,434,435,437,438,439,440,441,442,443,444,445,447,448,449,450,451,452,453,454,455,457,458,459,460,461,462,463,464,465,467,468,469,470,471,472,473,474,475,477,478,479,480,481,482,483,484,485,487,488,489,490,491,492,493,494,495,497,498,499,500,501,502,503,504,505,507,508,509,510,511,512,513,514,515,517,518,519,520,521,522,523,524,525,527,528,529,530,531,532,533,534,535,537,538,539,540,541,542,543,544,545,547,548,549,550,551,552,553,554,555,557,558,559,560,561,562,563,564,565,567,568,569,570,571,572,573,574,575,577,578,579,580,581,582,583,584,585,587,588,589,590,591,592,593,594,595,597,598,599,600,601,602,603,604,605,607,608,609,610,611,612,613,614,615,617,618,619,620,621,622,623,624,625,627,628,629,630,631,632,633,634,635,637,638,639,640,641,642,643,644,645,647,648,649,650,651,652,653,654,655,657,658,659,660,661,662,663,664,665,667,668,669,670,671,672,673,674,675,677,678,679,680,681,682,683,684,685,687,688,689,690,691,692,693,694,695,697,698) have mixed types. Specify dtype option on import or set low_memory=False.\n",
      "\n"
     ]
    },
    {
     "data": {
      "application/vnd.plotly.v1+json": {
       "config": {
        "plotlyServerURL": "https://plot.ly"
       },
       "data": [
        {
         "coloraxis": "coloraxis",
         "geo": "geo",
         "hovertemplate": "State=%{location}<br>Total Income ($)=%{z}<extra></extra>",
         "locationmode": "USA-states",
         "locations": [
          "2M",
          "A0",
          "A1",
          "A5",
          "A6",
          "A8",
          "A9",
          "AK",
          "AL",
          "AR",
          "AZ",
          "C0",
          "C1",
          "C3",
          "C5",
          "C9",
          "CA",
          "CO",
          "CT",
          "D0",
          "D5",
          "D8",
          "DC",
          "DE",
          "E9",
          "F3",
          "F4",
          "F8",
          "FL",
          "G2",
          "G7",
          "GA",
          "HI",
          "I0",
          "IA",
          "ID",
          "IL",
          "IN",
          "J1",
          "J3",
          "K3",
          "K6",
          "K7",
          "KS",
          "KY",
          "L2",
          "L3",
          "LA",
          "M0",
          "M8",
          "MA",
          "MD",
          "ME",
          "MI",
          "MN",
          "MO",
          "MS",
          "MT",
          "N2",
          "N4",
          "NC",
          "ND",
          "NE",
          "NH",
          "NJ",
          "NM",
          "NV",
          "NY",
          "O1",
          "O4",
          "O5",
          "OH",
          "OK",
          "OR",
          "P7",
          "PA",
          "PR",
          "Q2",
          "Q8",
          "R1",
          "RI",
          "S1",
          "SC",
          "SD",
          "TN",
          "TX",
          "U0",
          "U3",
          "U7",
          "UT",
          "V7",
          "V8",
          "VA",
          "VT",
          "W9",
          "WA",
          "WI",
          "WV",
          "WY",
          "X0",
          "X1",
          "X3",
          "XX",
          "Y7",
          "Y8",
          "Y9",
          "Z4"
         ],
         "name": "",
         "type": "choropleth",
         "z": [
          35638506,
          29687421,
          121411736,
          19623582,
          240864854,
          79062818,
          1786129,
          1713545,
          371236716,
          157483073,
          486990429,
          184400987,
          2314953,
          3627824,
          0,
          5000000,
          18692537059,
          17606940647,
          4047060939,
          247545797,
          99357500,
          68489118,
          1561211004,
          1121063861,
          9988871774,
          41799000,
          86040000,
          0,
          4393995707,
          5500090,
          8693178,
          1085335755,
          932783,
          129943465,
          390795358,
          151984357,
          2507788578,
          465876211,
          0,
          0,
          134156018,
          1759734,
          48565748,
          67840540,
          47735780,
          30579576,
          3928537756,
          169333727,
          36741023,
          6450000,
          11678185415,
          790276861,
          41253985,
          638225841,
          908615887,
          1189895675,
          4900000,
          33108566,
          925000,
          2295843566,
          1050278790,
          0,
          195481297,
          10715000,
          889472003,
          44156861,
          440016785,
          27487577853,
          1000000,
          326238416,
          8773147,
          1827062870,
          122915942,
          475186728,
          6000000,
          2071339706,
          86381760,
          5236121,
          5031684,
          110000,
          7074574,
          2173079,
          782580968,
          48370453,
          492520176,
          6043230923,
          271475565,
          99250000,
          150000,
          532940304,
          560645929,
          4230500,
          1197103050,
          55542729,
          250000,
          2694731392,
          219300997,
          1160000,
          642590712,
          1912405418,
          250000,
          0,
          1074098743,
          25608913,
          250000,
          57040084,
          37000000
         ]
        }
       ],
       "layout": {
        "coloraxis": {
         "colorbar": {
          "title": {
           "text": "Total Income ($)"
          }
         },
         "colorscale": [
          [
           0,
           "#440154"
          ],
          [
           0.1111111111111111,
           "#482878"
          ],
          [
           0.2222222222222222,
           "#3e4989"
          ],
          [
           0.3333333333333333,
           "#31688e"
          ],
          [
           0.4444444444444444,
           "#26828e"
          ],
          [
           0.5555555555555556,
           "#1f9e89"
          ],
          [
           0.6666666666666666,
           "#35b779"
          ],
          [
           0.7777777777777778,
           "#6ece58"
          ],
          [
           0.8888888888888888,
           "#b5de2b"
          ],
          [
           1,
           "#fde725"
          ]
         ]
        },
        "geo": {
         "center": {},
         "domain": {
          "x": [
           0,
           1
          ],
          "y": [
           0,
           1
          ]
         },
         "scope": "usa"
        },
        "legend": {
         "tracegroupgap": 0
        },
        "template": {
         "data": {
          "bar": [
           {
            "error_x": {
             "color": "#2a3f5f"
            },
            "error_y": {
             "color": "#2a3f5f"
            },
            "marker": {
             "line": {
              "color": "#E5ECF6",
              "width": 0.5
             },
             "pattern": {
              "fillmode": "overlay",
              "size": 10,
              "solidity": 0.2
             }
            },
            "type": "bar"
           }
          ],
          "barpolar": [
           {
            "marker": {
             "line": {
              "color": "#E5ECF6",
              "width": 0.5
             },
             "pattern": {
              "fillmode": "overlay",
              "size": 10,
              "solidity": 0.2
             }
            },
            "type": "barpolar"
           }
          ],
          "carpet": [
           {
            "aaxis": {
             "endlinecolor": "#2a3f5f",
             "gridcolor": "white",
             "linecolor": "white",
             "minorgridcolor": "white",
             "startlinecolor": "#2a3f5f"
            },
            "baxis": {
             "endlinecolor": "#2a3f5f",
             "gridcolor": "white",
             "linecolor": "white",
             "minorgridcolor": "white",
             "startlinecolor": "#2a3f5f"
            },
            "type": "carpet"
           }
          ],
          "choropleth": [
           {
            "colorbar": {
             "outlinewidth": 0,
             "ticks": ""
            },
            "type": "choropleth"
           }
          ],
          "contour": [
           {
            "colorbar": {
             "outlinewidth": 0,
             "ticks": ""
            },
            "colorscale": [
             [
              0,
              "#0d0887"
             ],
             [
              0.1111111111111111,
              "#46039f"
             ],
             [
              0.2222222222222222,
              "#7201a8"
             ],
             [
              0.3333333333333333,
              "#9c179e"
             ],
             [
              0.4444444444444444,
              "#bd3786"
             ],
             [
              0.5555555555555556,
              "#d8576b"
             ],
             [
              0.6666666666666666,
              "#ed7953"
             ],
             [
              0.7777777777777778,
              "#fb9f3a"
             ],
             [
              0.8888888888888888,
              "#fdca26"
             ],
             [
              1,
              "#f0f921"
             ]
            ],
            "type": "contour"
           }
          ],
          "contourcarpet": [
           {
            "colorbar": {
             "outlinewidth": 0,
             "ticks": ""
            },
            "type": "contourcarpet"
           }
          ],
          "heatmap": [
           {
            "colorbar": {
             "outlinewidth": 0,
             "ticks": ""
            },
            "colorscale": [
             [
              0,
              "#0d0887"
             ],
             [
              0.1111111111111111,
              "#46039f"
             ],
             [
              0.2222222222222222,
              "#7201a8"
             ],
             [
              0.3333333333333333,
              "#9c179e"
             ],
             [
              0.4444444444444444,
              "#bd3786"
             ],
             [
              0.5555555555555556,
              "#d8576b"
             ],
             [
              0.6666666666666666,
              "#ed7953"
             ],
             [
              0.7777777777777778,
              "#fb9f3a"
             ],
             [
              0.8888888888888888,
              "#fdca26"
             ],
             [
              1,
              "#f0f921"
             ]
            ],
            "type": "heatmap"
           }
          ],
          "heatmapgl": [
           {
            "colorbar": {
             "outlinewidth": 0,
             "ticks": ""
            },
            "colorscale": [
             [
              0,
              "#0d0887"
             ],
             [
              0.1111111111111111,
              "#46039f"
             ],
             [
              0.2222222222222222,
              "#7201a8"
             ],
             [
              0.3333333333333333,
              "#9c179e"
             ],
             [
              0.4444444444444444,
              "#bd3786"
             ],
             [
              0.5555555555555556,
              "#d8576b"
             ],
             [
              0.6666666666666666,
              "#ed7953"
             ],
             [
              0.7777777777777778,
              "#fb9f3a"
             ],
             [
              0.8888888888888888,
              "#fdca26"
             ],
             [
              1,
              "#f0f921"
             ]
            ],
            "type": "heatmapgl"
           }
          ],
          "histogram": [
           {
            "marker": {
             "pattern": {
              "fillmode": "overlay",
              "size": 10,
              "solidity": 0.2
             }
            },
            "type": "histogram"
           }
          ],
          "histogram2d": [
           {
            "colorbar": {
             "outlinewidth": 0,
             "ticks": ""
            },
            "colorscale": [
             [
              0,
              "#0d0887"
             ],
             [
              0.1111111111111111,
              "#46039f"
             ],
             [
              0.2222222222222222,
              "#7201a8"
             ],
             [
              0.3333333333333333,
              "#9c179e"
             ],
             [
              0.4444444444444444,
              "#bd3786"
             ],
             [
              0.5555555555555556,
              "#d8576b"
             ],
             [
              0.6666666666666666,
              "#ed7953"
             ],
             [
              0.7777777777777778,
              "#fb9f3a"
             ],
             [
              0.8888888888888888,
              "#fdca26"
             ],
             [
              1,
              "#f0f921"
             ]
            ],
            "type": "histogram2d"
           }
          ],
          "histogram2dcontour": [
           {
            "colorbar": {
             "outlinewidth": 0,
             "ticks": ""
            },
            "colorscale": [
             [
              0,
              "#0d0887"
             ],
             [
              0.1111111111111111,
              "#46039f"
             ],
             [
              0.2222222222222222,
              "#7201a8"
             ],
             [
              0.3333333333333333,
              "#9c179e"
             ],
             [
              0.4444444444444444,
              "#bd3786"
             ],
             [
              0.5555555555555556,
              "#d8576b"
             ],
             [
              0.6666666666666666,
              "#ed7953"
             ],
             [
              0.7777777777777778,
              "#fb9f3a"
             ],
             [
              0.8888888888888888,
              "#fdca26"
             ],
             [
              1,
              "#f0f921"
             ]
            ],
            "type": "histogram2dcontour"
           }
          ],
          "mesh3d": [
           {
            "colorbar": {
             "outlinewidth": 0,
             "ticks": ""
            },
            "type": "mesh3d"
           }
          ],
          "parcoords": [
           {
            "line": {
             "colorbar": {
              "outlinewidth": 0,
              "ticks": ""
             }
            },
            "type": "parcoords"
           }
          ],
          "pie": [
           {
            "automargin": true,
            "type": "pie"
           }
          ],
          "scatter": [
           {
            "fillpattern": {
             "fillmode": "overlay",
             "size": 10,
             "solidity": 0.2
            },
            "type": "scatter"
           }
          ],
          "scatter3d": [
           {
            "line": {
             "colorbar": {
              "outlinewidth": 0,
              "ticks": ""
             }
            },
            "marker": {
             "colorbar": {
              "outlinewidth": 0,
              "ticks": ""
             }
            },
            "type": "scatter3d"
           }
          ],
          "scattercarpet": [
           {
            "marker": {
             "colorbar": {
              "outlinewidth": 0,
              "ticks": ""
             }
            },
            "type": "scattercarpet"
           }
          ],
          "scattergeo": [
           {
            "marker": {
             "colorbar": {
              "outlinewidth": 0,
              "ticks": ""
             }
            },
            "type": "scattergeo"
           }
          ],
          "scattergl": [
           {
            "marker": {
             "colorbar": {
              "outlinewidth": 0,
              "ticks": ""
             }
            },
            "type": "scattergl"
           }
          ],
          "scattermapbox": [
           {
            "marker": {
             "colorbar": {
              "outlinewidth": 0,
              "ticks": ""
             }
            },
            "type": "scattermapbox"
           }
          ],
          "scatterpolar": [
           {
            "marker": {
             "colorbar": {
              "outlinewidth": 0,
              "ticks": ""
             }
            },
            "type": "scatterpolar"
           }
          ],
          "scatterpolargl": [
           {
            "marker": {
             "colorbar": {
              "outlinewidth": 0,
              "ticks": ""
             }
            },
            "type": "scatterpolargl"
           }
          ],
          "scatterternary": [
           {
            "marker": {
             "colorbar": {
              "outlinewidth": 0,
              "ticks": ""
             }
            },
            "type": "scatterternary"
           }
          ],
          "surface": [
           {
            "colorbar": {
             "outlinewidth": 0,
             "ticks": ""
            },
            "colorscale": [
             [
              0,
              "#0d0887"
             ],
             [
              0.1111111111111111,
              "#46039f"
             ],
             [
              0.2222222222222222,
              "#7201a8"
             ],
             [
              0.3333333333333333,
              "#9c179e"
             ],
             [
              0.4444444444444444,
              "#bd3786"
             ],
             [
              0.5555555555555556,
              "#d8576b"
             ],
             [
              0.6666666666666666,
              "#ed7953"
             ],
             [
              0.7777777777777778,
              "#fb9f3a"
             ],
             [
              0.8888888888888888,
              "#fdca26"
             ],
             [
              1,
              "#f0f921"
             ]
            ],
            "type": "surface"
           }
          ],
          "table": [
           {
            "cells": {
             "fill": {
              "color": "#EBF0F8"
             },
             "line": {
              "color": "white"
             }
            },
            "header": {
             "fill": {
              "color": "#C8D4E3"
             },
             "line": {
              "color": "white"
             }
            },
            "type": "table"
           }
          ]
         },
         "layout": {
          "annotationdefaults": {
           "arrowcolor": "#2a3f5f",
           "arrowhead": 0,
           "arrowwidth": 1
          },
          "autotypenumbers": "strict",
          "coloraxis": {
           "colorbar": {
            "outlinewidth": 0,
            "ticks": ""
           }
          },
          "colorscale": {
           "diverging": [
            [
             0,
             "#8e0152"
            ],
            [
             0.1,
             "#c51b7d"
            ],
            [
             0.2,
             "#de77ae"
            ],
            [
             0.3,
             "#f1b6da"
            ],
            [
             0.4,
             "#fde0ef"
            ],
            [
             0.5,
             "#f7f7f7"
            ],
            [
             0.6,
             "#e6f5d0"
            ],
            [
             0.7,
             "#b8e186"
            ],
            [
             0.8,
             "#7fbc41"
            ],
            [
             0.9,
             "#4d9221"
            ],
            [
             1,
             "#276419"
            ]
           ],
           "sequential": [
            [
             0,
             "#0d0887"
            ],
            [
             0.1111111111111111,
             "#46039f"
            ],
            [
             0.2222222222222222,
             "#7201a8"
            ],
            [
             0.3333333333333333,
             "#9c179e"
            ],
            [
             0.4444444444444444,
             "#bd3786"
            ],
            [
             0.5555555555555556,
             "#d8576b"
            ],
            [
             0.6666666666666666,
             "#ed7953"
            ],
            [
             0.7777777777777778,
             "#fb9f3a"
            ],
            [
             0.8888888888888888,
             "#fdca26"
            ],
            [
             1,
             "#f0f921"
            ]
           ],
           "sequentialminus": [
            [
             0,
             "#0d0887"
            ],
            [
             0.1111111111111111,
             "#46039f"
            ],
            [
             0.2222222222222222,
             "#7201a8"
            ],
            [
             0.3333333333333333,
             "#9c179e"
            ],
            [
             0.4444444444444444,
             "#bd3786"
            ],
            [
             0.5555555555555556,
             "#d8576b"
            ],
            [
             0.6666666666666666,
             "#ed7953"
            ],
            [
             0.7777777777777778,
             "#fb9f3a"
            ],
            [
             0.8888888888888888,
             "#fdca26"
            ],
            [
             1,
             "#f0f921"
            ]
           ]
          },
          "colorway": [
           "#636efa",
           "#EF553B",
           "#00cc96",
           "#ab63fa",
           "#FFA15A",
           "#19d3f3",
           "#FF6692",
           "#B6E880",
           "#FF97FF",
           "#FECB52"
          ],
          "font": {
           "color": "#2a3f5f"
          },
          "geo": {
           "bgcolor": "white",
           "lakecolor": "white",
           "landcolor": "#E5ECF6",
           "showlakes": true,
           "showland": true,
           "subunitcolor": "white"
          },
          "hoverlabel": {
           "align": "left"
          },
          "hovermode": "closest",
          "mapbox": {
           "style": "light"
          },
          "paper_bgcolor": "white",
          "plot_bgcolor": "#E5ECF6",
          "polar": {
           "angularaxis": {
            "gridcolor": "white",
            "linecolor": "white",
            "ticks": ""
           },
           "bgcolor": "#E5ECF6",
           "radialaxis": {
            "gridcolor": "white",
            "linecolor": "white",
            "ticks": ""
           }
          },
          "scene": {
           "xaxis": {
            "backgroundcolor": "#E5ECF6",
            "gridcolor": "white",
            "gridwidth": 2,
            "linecolor": "white",
            "showbackground": true,
            "ticks": "",
            "zerolinecolor": "white"
           },
           "yaxis": {
            "backgroundcolor": "#E5ECF6",
            "gridcolor": "white",
            "gridwidth": 2,
            "linecolor": "white",
            "showbackground": true,
            "ticks": "",
            "zerolinecolor": "white"
           },
           "zaxis": {
            "backgroundcolor": "#E5ECF6",
            "gridcolor": "white",
            "gridwidth": 2,
            "linecolor": "white",
            "showbackground": true,
            "ticks": "",
            "zerolinecolor": "white"
           }
          },
          "shapedefaults": {
           "line": {
            "color": "#2a3f5f"
           }
          },
          "ternary": {
           "aaxis": {
            "gridcolor": "white",
            "linecolor": "white",
            "ticks": ""
           },
           "baxis": {
            "gridcolor": "white",
            "linecolor": "white",
            "ticks": ""
           },
           "bgcolor": "#E5ECF6",
           "caxis": {
            "gridcolor": "white",
            "linecolor": "white",
            "ticks": ""
           }
          },
          "title": {
           "x": 0.05
          },
          "xaxis": {
           "automargin": true,
           "gridcolor": "white",
           "linecolor": "white",
           "ticks": "",
           "title": {
            "standoff": 15
           },
           "zerolinecolor": "white",
           "zerolinewidth": 2
          },
          "yaxis": {
           "automargin": true,
           "gridcolor": "white",
           "linecolor": "white",
           "ticks": "",
           "title": {
            "standoff": 15
           },
           "zerolinecolor": "white",
           "zerolinewidth": 2
          }
         }
        },
        "title": {
         "text": "Total Income Raised by State"
        }
       }
      }
     },
     "metadata": {},
     "output_type": "display_data"
    }
   ],
   "source": [
    "import pandas as pd \n",
    "import zipfile\n",
    "import  plotly.express as px\n",
    "import plotly.graph_objects as go\n",
    "zip_file_path = \"Data.zip\"\n",
    "with zipfile.ZipFile(zip_file_path, 'r') as zip_ref:\n",
    "    zip_ref.extractall(\"extracted_data\") \n",
    "\n",
    "\n",
    "csv_file_path = \"extracted_data/2022_QTR3.csv\"\n",
    "df = pd.read_csv(csv_file_path)\n",
    "total_income_by_state = (\n",
    "    df.groupby(df[\"State or Country - Physical Location\"])[\"Total Amount Sold So Far\"]\n",
    "    .sum()\n",
    "    .reset_index()\n",
    ")\n",
    "\n",
    "total_income_by_state.columns = [\"State\", \"TotalIncome\" ]\n",
    "\n",
    "# Create the choropleth map\n",
    "fig_income = px.choropleth(\n",
    "    total_income_by_state,\n",
    "    locations=\"State\",\n",
    "    locationmode=\"USA-states\",\n",
    "    color=\"TotalIncome\",\n",
    "    scope=\"usa\",\n",
    "    color_continuous_scale=\"Viridis\",\n",
    "    title=\"Total Income Raised by State\",\n",
    "    labels={\"TotalIncome\": \"Total Income ($)\"}\n",
    ")\n",
    "\n",
    "fig_income.show()"
   ]
  },
  {
   "cell_type": "code",
   "execution_count": null,
   "metadata": {},
   "outputs": [],
   "source": []
  },
  {
   "cell_type": "code",
   "execution_count": 4,
   "metadata": {},
   "outputs": [
    {
     "name": "stdout",
     "output_type": "stream",
     "text": [
      "\n",
      "Available filters:\n",
      "  state             : Filter by state abbreviation\n",
      "  fully_subscribed  : Filter by fully subscribed offerings\n",
      "  amount            : Filter by offered funding amount range\n",
      "  equity            : Filter by equity offerings\n",
      "  industry          : Filter by industry\n",
      "State filter set to: CA, TX\n",
      "\n",
      "Here is a sample of the filtered data:\n",
      "Applied Filters- State: CA, TX\n"
     ]
    },
    {
     "data": {
      "text/html": [
       "<div>\n",
       "<style scoped>\n",
       "    .dataframe tbody tr th:only-of-type {\n",
       "        vertical-align: middle;\n",
       "    }\n",
       "\n",
       "    .dataframe tbody tr th {\n",
       "        vertical-align: top;\n",
       "    }\n",
       "\n",
       "    .dataframe thead th {\n",
       "        text-align: right;\n",
       "    }\n",
       "</style>\n",
       "<table border=\"1\" class=\"dataframe\">\n",
       "  <thead>\n",
       "    <tr style=\"text-align: right;\">\n",
       "      <th></th>\n",
       "      <th>Central Index Key</th>\n",
       "      <th>Name of the Entity</th>\n",
       "      <th>Address</th>\n",
       "      <th>Address - Specification</th>\n",
       "      <th>City</th>\n",
       "      <th>State or Country - Physical Location</th>\n",
       "      <th>State or Country - Full - Physical Location</th>\n",
       "      <th>Zip Code / Postal Code</th>\n",
       "      <th>Issuer Phone Number</th>\n",
       "      <th>State or Country - Legal Jurisdiction</th>\n",
       "      <th>Minimum Investment Amount Accepted</th>\n",
       "      <th>Total Amount Offered</th>\n",
       "      <th>Total Amount Sold So Far</th>\n",
       "      <th>Total Amount Remaining to be sold</th>\n",
       "      <th>Clarifications Regarding the Offering and Sales amounts</th>\n",
       "      <th>Is the Entity Offering Equity</th>\n",
       "      <th>Industry</th>\n",
       "    </tr>\n",
       "  </thead>\n",
       "  <tbody>\n",
       "    <tr>\n",
       "      <th>3144</th>\n",
       "      <td>1937931</td>\n",
       "      <td>ExchangeRight Net-Leased Portfolio 57 DST</td>\n",
       "      <td>1055 E. COLORADO BLVD., SUITE 310</td>\n",
       "      <td>NaN</td>\n",
       "      <td>PASADENA</td>\n",
       "      <td>CA</td>\n",
       "      <td>CALIFORNIA</td>\n",
       "      <td>91106</td>\n",
       "      <td>855-317-4448</td>\n",
       "      <td>DELAWARE</td>\n",
       "      <td>100000</td>\n",
       "      <td>30450000</td>\n",
       "      <td>0</td>\n",
       "      <td>30450000</td>\n",
       "      <td>NaN</td>\n",
       "      <td>True</td>\n",
       "      <td>Commercial</td>\n",
       "    </tr>\n",
       "    <tr>\n",
       "      <th>6832</th>\n",
       "      <td>1936761</td>\n",
       "      <td>Pravana Capital Partners Fund I, LP</td>\n",
       "      <td>824 EUCLID STREET</td>\n",
       "      <td>NaN</td>\n",
       "      <td>SAN FRANCISCO</td>\n",
       "      <td>CA</td>\n",
       "      <td>CALIFORNIA</td>\n",
       "      <td>94118</td>\n",
       "      <td>714-926-3199</td>\n",
       "      <td>CALIFORNIA</td>\n",
       "      <td>0</td>\n",
       "      <td>25000000</td>\n",
       "      <td>3000000</td>\n",
       "      <td>22000000</td>\n",
       "      <td>NaN</td>\n",
       "      <td>True</td>\n",
       "      <td>Investing</td>\n",
       "    </tr>\n",
       "    <tr>\n",
       "      <th>7200</th>\n",
       "      <td>1935038</td>\n",
       "      <td>Ramani Corp</td>\n",
       "      <td>311 WISTERIA DR</td>\n",
       "      <td>NaN</td>\n",
       "      <td>EAST PALO ALTO</td>\n",
       "      <td>CA</td>\n",
       "      <td>CALIFORNIA</td>\n",
       "      <td>94303</td>\n",
       "      <td>720-238-2873</td>\n",
       "      <td>DELAWARE</td>\n",
       "      <td>0</td>\n",
       "      <td>13778049</td>\n",
       "      <td>10097917</td>\n",
       "      <td>3680132</td>\n",
       "      <td>NaN</td>\n",
       "      <td>True</td>\n",
       "      <td>Other Technology</td>\n",
       "    </tr>\n",
       "    <tr>\n",
       "      <th>291</th>\n",
       "      <td>1909675</td>\n",
       "      <td>AH Games Fund I-B, L.P.</td>\n",
       "      <td>2865 SAND HILL ROAD, SUITE 101</td>\n",
       "      <td>NaN</td>\n",
       "      <td>MENLO PARK</td>\n",
       "      <td>CA</td>\n",
       "      <td>CALIFORNIA</td>\n",
       "      <td>94025</td>\n",
       "      <td>(650) 798-3900</td>\n",
       "      <td>DELAWARE</td>\n",
       "      <td>0</td>\n",
       "      <td>Indefinite</td>\n",
       "      <td>0</td>\n",
       "      <td>Indefinite</td>\n",
       "      <td>NaN</td>\n",
       "      <td>NaN</td>\n",
       "      <td>Pooled Investment Fund</td>\n",
       "    </tr>\n",
       "    <tr>\n",
       "      <th>8056</th>\n",
       "      <td>1918088</td>\n",
       "      <td>SparkLabs Pakistan Fund I LLC</td>\n",
       "      <td>3790 EL CAMINO REAL</td>\n",
       "      <td>UNIT #570</td>\n",
       "      <td>PALO ALTO</td>\n",
       "      <td>CA</td>\n",
       "      <td>CALIFORNIA</td>\n",
       "      <td>94306</td>\n",
       "      <td>6504545244</td>\n",
       "      <td>DELAWARE</td>\n",
       "      <td>25000</td>\n",
       "      <td>700000</td>\n",
       "      <td>700000</td>\n",
       "      <td>0</td>\n",
       "      <td>NaN</td>\n",
       "      <td>NaN</td>\n",
       "      <td>Pooled Investment Fund</td>\n",
       "    </tr>\n",
       "    <tr>\n",
       "      <th>4401</th>\n",
       "      <td>1938639</td>\n",
       "      <td>IREG Firewheel III Investors, LLC</td>\n",
       "      <td>3110 W. SOUTHLAKE BLVD., SUITE 120</td>\n",
       "      <td>NaN</td>\n",
       "      <td>SOUTHLAKE</td>\n",
       "      <td>TX</td>\n",
       "      <td>TEXAS</td>\n",
       "      <td>76092</td>\n",
       "      <td>(817) 837-0564</td>\n",
       "      <td>TEXAS</td>\n",
       "      <td>0</td>\n",
       "      <td>2156946</td>\n",
       "      <td>2156946</td>\n",
       "      <td>0</td>\n",
       "      <td>NaN</td>\n",
       "      <td>True</td>\n",
       "      <td>Other Real Estate</td>\n",
       "    </tr>\n",
       "    <tr>\n",
       "      <th>8522</th>\n",
       "      <td>1924612</td>\n",
       "      <td>TechTown Industrial L1 LLC</td>\n",
       "      <td>11408 HOLLISTER DRIVE</td>\n",
       "      <td>NaN</td>\n",
       "      <td>AUSTIN</td>\n",
       "      <td>TX</td>\n",
       "      <td>TEXAS</td>\n",
       "      <td>78739</td>\n",
       "      <td>512-484-8152</td>\n",
       "      <td>TEXAS</td>\n",
       "      <td>25000</td>\n",
       "      <td>3000000</td>\n",
       "      <td>1725000</td>\n",
       "      <td>1275000</td>\n",
       "      <td>NaN</td>\n",
       "      <td>True</td>\n",
       "      <td>Commercial</td>\n",
       "    </tr>\n",
       "    <tr>\n",
       "      <th>2352</th>\n",
       "      <td>1942206</td>\n",
       "      <td>Crown Titan #2 Joint Venture</td>\n",
       "      <td>4024 NAZARENE DRIVE</td>\n",
       "      <td>NaN</td>\n",
       "      <td>CARROLLTON</td>\n",
       "      <td>TX</td>\n",
       "      <td>TEXAS</td>\n",
       "      <td>75010</td>\n",
       "      <td>972-395-1133</td>\n",
       "      <td>TEXAS</td>\n",
       "      <td>18375</td>\n",
       "      <td>7350000</td>\n",
       "      <td>0</td>\n",
       "      <td>7350000</td>\n",
       "      <td>NaN</td>\n",
       "      <td>NaN</td>\n",
       "      <td>Oil and Gas</td>\n",
       "    </tr>\n",
       "    <tr>\n",
       "      <th>3913</th>\n",
       "      <td>1944064</td>\n",
       "      <td>GrayMatter Robotics, Inc.</td>\n",
       "      <td>349 W. 168TH STREET</td>\n",
       "      <td>NaN</td>\n",
       "      <td>GARDENA</td>\n",
       "      <td>CA</td>\n",
       "      <td>CALIFORNIA</td>\n",
       "      <td>90248</td>\n",
       "      <td>(818)-794-0874</td>\n",
       "      <td>DELAWARE</td>\n",
       "      <td>1</td>\n",
       "      <td>20034614</td>\n",
       "      <td>20034614</td>\n",
       "      <td>0</td>\n",
       "      <td>NaN</td>\n",
       "      <td>True</td>\n",
       "      <td>Other Technology</td>\n",
       "    </tr>\n",
       "    <tr>\n",
       "      <th>8142</th>\n",
       "      <td>1944968</td>\n",
       "      <td>Stellifi Fund I, LP</td>\n",
       "      <td>C/O STELLIFI I GP, LLC</td>\n",
       "      <td>2630 EXPOSITION BOULEVARD, SUITE 214</td>\n",
       "      <td>AUSTIN</td>\n",
       "      <td>TX</td>\n",
       "      <td>TEXAS</td>\n",
       "      <td>78703</td>\n",
       "      <td>512-871-0561</td>\n",
       "      <td>DELAWARE</td>\n",
       "      <td>0</td>\n",
       "      <td>35000000</td>\n",
       "      <td>0</td>\n",
       "      <td>35000000</td>\n",
       "      <td>NaN</td>\n",
       "      <td>NaN</td>\n",
       "      <td>Pooled Investment Fund</td>\n",
       "    </tr>\n",
       "  </tbody>\n",
       "</table>\n",
       "</div>"
      ],
      "text/plain": [
       "      Central Index Key                         Name of the Entity  \\\n",
       "3144            1937931  ExchangeRight Net-Leased Portfolio 57 DST   \n",
       "6832            1936761        Pravana Capital Partners Fund I, LP   \n",
       "7200            1935038                                Ramani Corp   \n",
       "291             1909675                    AH Games Fund I-B, L.P.   \n",
       "8056            1918088              SparkLabs Pakistan Fund I LLC   \n",
       "4401            1938639          IREG Firewheel III Investors, LLC   \n",
       "8522            1924612                 TechTown Industrial L1 LLC   \n",
       "2352            1942206               Crown Titan #2 Joint Venture   \n",
       "3913            1944064                  GrayMatter Robotics, Inc.   \n",
       "8142            1944968                        Stellifi Fund I, LP   \n",
       "\n",
       "                                 Address  \\\n",
       "3144   1055 E. COLORADO BLVD., SUITE 310   \n",
       "6832                   824 EUCLID STREET   \n",
       "7200                     311 WISTERIA DR   \n",
       "291       2865 SAND HILL ROAD, SUITE 101   \n",
       "8056                 3790 EL CAMINO REAL   \n",
       "4401  3110 W. SOUTHLAKE BLVD., SUITE 120   \n",
       "8522               11408 HOLLISTER DRIVE   \n",
       "2352                 4024 NAZARENE DRIVE   \n",
       "3913                 349 W. 168TH STREET   \n",
       "8142              C/O STELLIFI I GP, LLC   \n",
       "\n",
       "                   Address - Specification            City  \\\n",
       "3144                                   NaN        PASADENA   \n",
       "6832                                   NaN   SAN FRANCISCO   \n",
       "7200                                   NaN  EAST PALO ALTO   \n",
       "291                                    NaN      MENLO PARK   \n",
       "8056                             UNIT #570       PALO ALTO   \n",
       "4401                                   NaN       SOUTHLAKE   \n",
       "8522                                   NaN          AUSTIN   \n",
       "2352                                   NaN      CARROLLTON   \n",
       "3913                                   NaN         GARDENA   \n",
       "8142  2630 EXPOSITION BOULEVARD, SUITE 214          AUSTIN   \n",
       "\n",
       "     State or Country - Physical Location  \\\n",
       "3144                                   CA   \n",
       "6832                                   CA   \n",
       "7200                                   CA   \n",
       "291                                    CA   \n",
       "8056                                   CA   \n",
       "4401                                   TX   \n",
       "8522                                   TX   \n",
       "2352                                   TX   \n",
       "3913                                   CA   \n",
       "8142                                   TX   \n",
       "\n",
       "     State or Country - Full - Physical Location Zip Code / Postal Code  \\\n",
       "3144                                  CALIFORNIA                  91106   \n",
       "6832                                  CALIFORNIA                  94118   \n",
       "7200                                  CALIFORNIA                  94303   \n",
       "291                                   CALIFORNIA                  94025   \n",
       "8056                                  CALIFORNIA                  94306   \n",
       "4401                                       TEXAS                  76092   \n",
       "8522                                       TEXAS                  78739   \n",
       "2352                                       TEXAS                  75010   \n",
       "3913                                  CALIFORNIA                  90248   \n",
       "8142                                       TEXAS                  78703   \n",
       "\n",
       "     Issuer Phone Number State or Country - Legal Jurisdiction  \\\n",
       "3144        855-317-4448                              DELAWARE   \n",
       "6832        714-926-3199                            CALIFORNIA   \n",
       "7200        720-238-2873                              DELAWARE   \n",
       "291       (650) 798-3900                              DELAWARE   \n",
       "8056          6504545244                              DELAWARE   \n",
       "4401      (817) 837-0564                                 TEXAS   \n",
       "8522        512-484-8152                                 TEXAS   \n",
       "2352        972-395-1133                                 TEXAS   \n",
       "3913      (818)-794-0874                              DELAWARE   \n",
       "8142        512-871-0561                              DELAWARE   \n",
       "\n",
       "      Minimum Investment Amount Accepted Total Amount Offered  \\\n",
       "3144                              100000             30450000   \n",
       "6832                                   0             25000000   \n",
       "7200                                   0             13778049   \n",
       "291                                    0           Indefinite   \n",
       "8056                               25000               700000   \n",
       "4401                                   0              2156946   \n",
       "8522                               25000              3000000   \n",
       "2352                               18375              7350000   \n",
       "3913                                   1             20034614   \n",
       "8142                                   0             35000000   \n",
       "\n",
       "      Total Amount Sold So Far Total Amount Remaining to be sold  \\\n",
       "3144                         0                          30450000   \n",
       "6832                   3000000                          22000000   \n",
       "7200                  10097917                           3680132   \n",
       "291                          0                        Indefinite   \n",
       "8056                    700000                                 0   \n",
       "4401                   2156946                                 0   \n",
       "8522                   1725000                           1275000   \n",
       "2352                         0                           7350000   \n",
       "3913                  20034614                                 0   \n",
       "8142                         0                          35000000   \n",
       "\n",
       "     Clarifications Regarding the Offering and Sales amounts  \\\n",
       "3144                                                NaN        \n",
       "6832                                                NaN        \n",
       "7200                                                NaN        \n",
       "291                                                 NaN        \n",
       "8056                                                NaN        \n",
       "4401                                                NaN        \n",
       "8522                                                NaN        \n",
       "2352                                                NaN        \n",
       "3913                                                NaN        \n",
       "8142                                                NaN        \n",
       "\n",
       "     Is the Entity Offering Equity                Industry  \n",
       "3144                          True              Commercial  \n",
       "6832                          True               Investing  \n",
       "7200                          True        Other Technology  \n",
       "291                            NaN  Pooled Investment Fund  \n",
       "8056                           NaN  Pooled Investment Fund  \n",
       "4401                          True       Other Real Estate  \n",
       "8522                          True              Commercial  \n",
       "2352                           NaN             Oil and Gas  \n",
       "3913                          True        Other Technology  \n",
       "8142                           NaN  Pooled Investment Fund  "
      ]
     },
     "metadata": {},
     "output_type": "display_data"
    },
    {
     "name": "stdout",
     "output_type": "stream",
     "text": [
      "\n",
      "Available filters:\n",
      "  state             : Filter by state abbreviation\n",
      "  fully_subscribed  : Filter by fully subscribed offerings\n",
      "  amount            : Filter by offered funding amount range\n",
      "  equity            : Filter by equity offerings\n",
      "  industry          : Filter by industry\n",
      "Filtering for offerings of equity only.\n",
      "\n",
      "Here is a sample of the filtered data:\n",
      "Applied Filters- State: CA, TX; Equity: Only Equity\n"
     ]
    },
    {
     "data": {
      "text/html": [
       "<div>\n",
       "<style scoped>\n",
       "    .dataframe tbody tr th:only-of-type {\n",
       "        vertical-align: middle;\n",
       "    }\n",
       "\n",
       "    .dataframe tbody tr th {\n",
       "        vertical-align: top;\n",
       "    }\n",
       "\n",
       "    .dataframe thead th {\n",
       "        text-align: right;\n",
       "    }\n",
       "</style>\n",
       "<table border=\"1\" class=\"dataframe\">\n",
       "  <thead>\n",
       "    <tr style=\"text-align: right;\">\n",
       "      <th></th>\n",
       "      <th>Central Index Key</th>\n",
       "      <th>Name of the Entity</th>\n",
       "      <th>Address</th>\n",
       "      <th>Address - Specification</th>\n",
       "      <th>City</th>\n",
       "      <th>State or Country - Physical Location</th>\n",
       "      <th>State or Country - Full - Physical Location</th>\n",
       "      <th>Zip Code / Postal Code</th>\n",
       "      <th>Issuer Phone Number</th>\n",
       "      <th>State or Country - Legal Jurisdiction</th>\n",
       "      <th>Minimum Investment Amount Accepted</th>\n",
       "      <th>Total Amount Offered</th>\n",
       "      <th>Total Amount Sold So Far</th>\n",
       "      <th>Total Amount Remaining to be sold</th>\n",
       "      <th>Clarifications Regarding the Offering and Sales amounts</th>\n",
       "      <th>Is the Entity Offering Equity</th>\n",
       "      <th>Industry</th>\n",
       "    </tr>\n",
       "  </thead>\n",
       "  <tbody>\n",
       "    <tr>\n",
       "      <th>4308</th>\n",
       "      <td>1938788</td>\n",
       "      <td>ICONIQ Strategic Partners VII Co-Invest FO-B, ...</td>\n",
       "      <td>394 PACIFIC AVENUE</td>\n",
       "      <td>SECOND FLOOR</td>\n",
       "      <td>SAN FRANCISCO</td>\n",
       "      <td>CA</td>\n",
       "      <td>CALIFORNIA</td>\n",
       "      <td>94111</td>\n",
       "      <td>415-967-7763</td>\n",
       "      <td>DELAWARE</td>\n",
       "      <td>0</td>\n",
       "      <td>Indefinite</td>\n",
       "      <td>0</td>\n",
       "      <td>Indefinite</td>\n",
       "      <td>NaN</td>\n",
       "      <td>True</td>\n",
       "      <td>Pooled Investment Fund</td>\n",
       "    </tr>\n",
       "    <tr>\n",
       "      <th>2901</th>\n",
       "      <td>1767654</td>\n",
       "      <td>Elite Beverage International, Inc.</td>\n",
       "      <td>970 NORTH TUSTIN AVENUE</td>\n",
       "      <td>SUITE 100</td>\n",
       "      <td>ANAHEIM</td>\n",
       "      <td>CA</td>\n",
       "      <td>CALIFORNIA</td>\n",
       "      <td>92807</td>\n",
       "      <td>6574560082</td>\n",
       "      <td>CALIFORNIA</td>\n",
       "      <td>100000</td>\n",
       "      <td>20000000</td>\n",
       "      <td>0</td>\n",
       "      <td>20000000</td>\n",
       "      <td>NaN</td>\n",
       "      <td>True</td>\n",
       "      <td>Other</td>\n",
       "    </tr>\n",
       "    <tr>\n",
       "      <th>9420</th>\n",
       "      <td>1943148</td>\n",
       "      <td>Zerion Inc</td>\n",
       "      <td>50 CALIFORNIA STREET, SUITE 1500</td>\n",
       "      <td>NaN</td>\n",
       "      <td>SAN FRANCISCO</td>\n",
       "      <td>CA</td>\n",
       "      <td>CALIFORNIA</td>\n",
       "      <td>94111</td>\n",
       "      <td>657-214-1592</td>\n",
       "      <td>DELAWARE</td>\n",
       "      <td>0</td>\n",
       "      <td>14999848</td>\n",
       "      <td>10494974</td>\n",
       "      <td>4504874</td>\n",
       "      <td>NaN</td>\n",
       "      <td>True</td>\n",
       "      <td>Other Technology</td>\n",
       "    </tr>\n",
       "    <tr>\n",
       "      <th>8</th>\n",
       "      <td>1942481</td>\n",
       "      <td>10101 Forum Investors LLC</td>\n",
       "      <td>300 CRESCENT COURT, SUITE 1800</td>\n",
       "      <td>NaN</td>\n",
       "      <td>DALLAS</td>\n",
       "      <td>TX</td>\n",
       "      <td>TEXAS</td>\n",
       "      <td>75201</td>\n",
       "      <td>(630) 333-8428</td>\n",
       "      <td>TEXAS</td>\n",
       "      <td>25000</td>\n",
       "      <td>2900000</td>\n",
       "      <td>2900000</td>\n",
       "      <td>0</td>\n",
       "      <td>NaN</td>\n",
       "      <td>True</td>\n",
       "      <td>Residential</td>\n",
       "    </tr>\n",
       "    <tr>\n",
       "      <th>889</th>\n",
       "      <td>1938924</td>\n",
       "      <td>Art is Love SPV I LLC</td>\n",
       "      <td>2519 FAIRMOUNT STREET</td>\n",
       "      <td>NaN</td>\n",
       "      <td>DALLAS</td>\n",
       "      <td>TX</td>\n",
       "      <td>TEXAS</td>\n",
       "      <td>75201</td>\n",
       "      <td>(469) 351-3471</td>\n",
       "      <td>DELAWARE</td>\n",
       "      <td>0</td>\n",
       "      <td>19133560</td>\n",
       "      <td>19133560</td>\n",
       "      <td>0</td>\n",
       "      <td>NaN</td>\n",
       "      <td>True</td>\n",
       "      <td>Pooled Investment Fund</td>\n",
       "    </tr>\n",
       "    <tr>\n",
       "      <th>6686</th>\n",
       "      <td>1948952</td>\n",
       "      <td>PeakMetrics, Inc.</td>\n",
       "      <td>777 S. ALAMEDA</td>\n",
       "      <td>FLOOR 2</td>\n",
       "      <td>LOS ANGELES</td>\n",
       "      <td>CA</td>\n",
       "      <td>CALIFORNIA</td>\n",
       "      <td>90021</td>\n",
       "      <td>323-553-5888</td>\n",
       "      <td>DELAWARE</td>\n",
       "      <td>0</td>\n",
       "      <td>Indefinite</td>\n",
       "      <td>1889811</td>\n",
       "      <td>Indefinite</td>\n",
       "      <td>NaN</td>\n",
       "      <td>True</td>\n",
       "      <td>Other Technology</td>\n",
       "    </tr>\n",
       "    <tr>\n",
       "      <th>7200</th>\n",
       "      <td>1935038</td>\n",
       "      <td>Ramani Corp</td>\n",
       "      <td>311 WISTERIA DR</td>\n",
       "      <td>NaN</td>\n",
       "      <td>EAST PALO ALTO</td>\n",
       "      <td>CA</td>\n",
       "      <td>CALIFORNIA</td>\n",
       "      <td>94303</td>\n",
       "      <td>720-238-2873</td>\n",
       "      <td>DELAWARE</td>\n",
       "      <td>0</td>\n",
       "      <td>13778049</td>\n",
       "      <td>10097917</td>\n",
       "      <td>3680132</td>\n",
       "      <td>NaN</td>\n",
       "      <td>True</td>\n",
       "      <td>Other Technology</td>\n",
       "    </tr>\n",
       "    <tr>\n",
       "      <th>5951</th>\n",
       "      <td>1846636</td>\n",
       "      <td>Neptune Topco Holdings, LLC</td>\n",
       "      <td>C/O NOVARIA HOLDINGS, LLC</td>\n",
       "      <td>6625 IRON HORSE BLVD</td>\n",
       "      <td>NORTH RICHLAND HILLS</td>\n",
       "      <td>TX</td>\n",
       "      <td>TEXAS</td>\n",
       "      <td>76180</td>\n",
       "      <td>817-381-3810</td>\n",
       "      <td>DELAWARE</td>\n",
       "      <td>0</td>\n",
       "      <td>5321392</td>\n",
       "      <td>5321392</td>\n",
       "      <td>0</td>\n",
       "      <td>NaN</td>\n",
       "      <td>True</td>\n",
       "      <td>Other</td>\n",
       "    </tr>\n",
       "    <tr>\n",
       "      <th>8517</th>\n",
       "      <td>1937975</td>\n",
       "      <td>Taylor Meadows 712, LP</td>\n",
       "      <td>C/O TAYLOR MEADOWS 712 GP, LLC</td>\n",
       "      <td>1452 HUGHES ROAD, SUITE 200</td>\n",
       "      <td>GRAPEVINE</td>\n",
       "      <td>TX</td>\n",
       "      <td>TEXAS</td>\n",
       "      <td>76051</td>\n",
       "      <td>949-296-7502</td>\n",
       "      <td>TEXAS</td>\n",
       "      <td>100000</td>\n",
       "      <td>42000000</td>\n",
       "      <td>42000000</td>\n",
       "      <td>0</td>\n",
       "      <td>NaN</td>\n",
       "      <td>True</td>\n",
       "      <td>Other</td>\n",
       "    </tr>\n",
       "    <tr>\n",
       "      <th>5826</th>\n",
       "      <td>1787068</td>\n",
       "      <td>NDB Inc.</td>\n",
       "      <td>50 CALIFORNIA STREET</td>\n",
       "      <td>SUITE 1500</td>\n",
       "      <td>SAN FRANCISCO</td>\n",
       "      <td>CA</td>\n",
       "      <td>CALIFORNIA</td>\n",
       "      <td>94111</td>\n",
       "      <td>6502520002</td>\n",
       "      <td>CALIFORNIA</td>\n",
       "      <td>2523</td>\n",
       "      <td>1316715</td>\n",
       "      <td>1316715</td>\n",
       "      <td>0</td>\n",
       "      <td>NaN</td>\n",
       "      <td>True</td>\n",
       "      <td>Other Technology</td>\n",
       "    </tr>\n",
       "  </tbody>\n",
       "</table>\n",
       "</div>"
      ],
      "text/plain": [
       "      Central Index Key                                 Name of the Entity  \\\n",
       "4308            1938788  ICONIQ Strategic Partners VII Co-Invest FO-B, ...   \n",
       "2901            1767654                 Elite Beverage International, Inc.   \n",
       "9420            1943148                                         Zerion Inc   \n",
       "8               1942481                          10101 Forum Investors LLC   \n",
       "889             1938924                              Art is Love SPV I LLC   \n",
       "6686            1948952                                  PeakMetrics, Inc.   \n",
       "7200            1935038                                        Ramani Corp   \n",
       "5951            1846636                        Neptune Topco Holdings, LLC   \n",
       "8517            1937975                             Taylor Meadows 712, LP   \n",
       "5826            1787068                                           NDB Inc.   \n",
       "\n",
       "                               Address      Address - Specification  \\\n",
       "4308                394 PACIFIC AVENUE                 SECOND FLOOR   \n",
       "2901           970 NORTH TUSTIN AVENUE                    SUITE 100   \n",
       "9420  50 CALIFORNIA STREET, SUITE 1500                          NaN   \n",
       "8       300 CRESCENT COURT, SUITE 1800                          NaN   \n",
       "889              2519 FAIRMOUNT STREET                          NaN   \n",
       "6686                    777 S. ALAMEDA                      FLOOR 2   \n",
       "7200                   311 WISTERIA DR                          NaN   \n",
       "5951         C/O NOVARIA HOLDINGS, LLC         6625 IRON HORSE BLVD   \n",
       "8517    C/O TAYLOR MEADOWS 712 GP, LLC  1452 HUGHES ROAD, SUITE 200   \n",
       "5826              50 CALIFORNIA STREET                   SUITE 1500   \n",
       "\n",
       "                      City State or Country - Physical Location  \\\n",
       "4308         SAN FRANCISCO                                   CA   \n",
       "2901               ANAHEIM                                   CA   \n",
       "9420         SAN FRANCISCO                                   CA   \n",
       "8                   DALLAS                                   TX   \n",
       "889                 DALLAS                                   TX   \n",
       "6686           LOS ANGELES                                   CA   \n",
       "7200        EAST PALO ALTO                                   CA   \n",
       "5951  NORTH RICHLAND HILLS                                   TX   \n",
       "8517             GRAPEVINE                                   TX   \n",
       "5826         SAN FRANCISCO                                   CA   \n",
       "\n",
       "     State or Country - Full - Physical Location Zip Code / Postal Code  \\\n",
       "4308                                  CALIFORNIA                  94111   \n",
       "2901                                  CALIFORNIA                  92807   \n",
       "9420                                  CALIFORNIA                  94111   \n",
       "8                                          TEXAS                  75201   \n",
       "889                                        TEXAS                  75201   \n",
       "6686                                  CALIFORNIA                  90021   \n",
       "7200                                  CALIFORNIA                  94303   \n",
       "5951                                       TEXAS                  76180   \n",
       "8517                                       TEXAS                  76051   \n",
       "5826                                  CALIFORNIA                  94111   \n",
       "\n",
       "     Issuer Phone Number State or Country - Legal Jurisdiction  \\\n",
       "4308        415-967-7763                              DELAWARE   \n",
       "2901          6574560082                            CALIFORNIA   \n",
       "9420        657-214-1592                              DELAWARE   \n",
       "8         (630) 333-8428                                 TEXAS   \n",
       "889       (469) 351-3471                              DELAWARE   \n",
       "6686        323-553-5888                              DELAWARE   \n",
       "7200        720-238-2873                              DELAWARE   \n",
       "5951        817-381-3810                              DELAWARE   \n",
       "8517        949-296-7502                                 TEXAS   \n",
       "5826          6502520002                            CALIFORNIA   \n",
       "\n",
       "      Minimum Investment Amount Accepted Total Amount Offered  \\\n",
       "4308                                   0           Indefinite   \n",
       "2901                              100000             20000000   \n",
       "9420                                   0             14999848   \n",
       "8                                  25000              2900000   \n",
       "889                                    0             19133560   \n",
       "6686                                   0           Indefinite   \n",
       "7200                                   0             13778049   \n",
       "5951                                   0              5321392   \n",
       "8517                              100000             42000000   \n",
       "5826                                2523              1316715   \n",
       "\n",
       "      Total Amount Sold So Far Total Amount Remaining to be sold  \\\n",
       "4308                         0                        Indefinite   \n",
       "2901                         0                          20000000   \n",
       "9420                  10494974                           4504874   \n",
       "8                      2900000                                 0   \n",
       "889                   19133560                                 0   \n",
       "6686                   1889811                        Indefinite   \n",
       "7200                  10097917                           3680132   \n",
       "5951                   5321392                                 0   \n",
       "8517                  42000000                                 0   \n",
       "5826                   1316715                                 0   \n",
       "\n",
       "     Clarifications Regarding the Offering and Sales amounts  \\\n",
       "4308                                                NaN        \n",
       "2901                                                NaN        \n",
       "9420                                                NaN        \n",
       "8                                                   NaN        \n",
       "889                                                 NaN        \n",
       "6686                                                NaN        \n",
       "7200                                                NaN        \n",
       "5951                                                NaN        \n",
       "8517                                                NaN        \n",
       "5826                                                NaN        \n",
       "\n",
       "     Is the Entity Offering Equity                Industry  \n",
       "4308                          True  Pooled Investment Fund  \n",
       "2901                          True                   Other  \n",
       "9420                          True        Other Technology  \n",
       "8                             True             Residential  \n",
       "889                           True  Pooled Investment Fund  \n",
       "6686                          True        Other Technology  \n",
       "7200                          True        Other Technology  \n",
       "5951                          True                   Other  \n",
       "8517                          True                   Other  \n",
       "5826                          True        Other Technology  "
      ]
     },
     "metadata": {},
     "output_type": "display_data"
    },
    {
     "name": "stdout",
     "output_type": "stream",
     "text": [
      "\n",
      "Displaying sample of the final filtered data:\n"
     ]
    },
    {
     "data": {
      "text/html": [
       "<div>\n",
       "<style scoped>\n",
       "    .dataframe tbody tr th:only-of-type {\n",
       "        vertical-align: middle;\n",
       "    }\n",
       "\n",
       "    .dataframe tbody tr th {\n",
       "        vertical-align: top;\n",
       "    }\n",
       "\n",
       "    .dataframe thead th {\n",
       "        text-align: right;\n",
       "    }\n",
       "</style>\n",
       "<table border=\"1\" class=\"dataframe\">\n",
       "  <thead>\n",
       "    <tr style=\"text-align: right;\">\n",
       "      <th></th>\n",
       "      <th>Central Index Key</th>\n",
       "      <th>Name of the Entity</th>\n",
       "      <th>Address</th>\n",
       "      <th>Address - Specification</th>\n",
       "      <th>City</th>\n",
       "      <th>State or Country - Physical Location</th>\n",
       "      <th>State or Country - Full - Physical Location</th>\n",
       "      <th>Zip Code / Postal Code</th>\n",
       "      <th>Issuer Phone Number</th>\n",
       "      <th>State or Country - Legal Jurisdiction</th>\n",
       "      <th>...</th>\n",
       "      <th>Associated Address - Person 63</th>\n",
       "      <th>Associated Address - Specification - Person 63</th>\n",
       "      <th>Associated City - Person 63</th>\n",
       "      <th>Associated State or Country - Person 63</th>\n",
       "      <th>Associated State or Country - Full - Person 63</th>\n",
       "      <th>Associated Zip Code - Person 63</th>\n",
       "      <th>Relationship 1 with the Entity - Person 63</th>\n",
       "      <th>Clarification of the relationship - Person 63</th>\n",
       "      <th>Relationship 2 with the Entity - Person 18</th>\n",
       "      <th>Relationship 2 with the Entity - Person 19</th>\n",
       "    </tr>\n",
       "  </thead>\n",
       "  <tbody>\n",
       "    <tr>\n",
       "      <th>7718</th>\n",
       "      <td>1946327</td>\n",
       "      <td>SV Literati Investors, LLC</td>\n",
       "      <td>1023 Springdale Rd STE 1J</td>\n",
       "      <td>NaN</td>\n",
       "      <td>Austin</td>\n",
       "      <td>TX</td>\n",
       "      <td>TEXAS</td>\n",
       "      <td>78721</td>\n",
       "      <td>808-227-0349</td>\n",
       "      <td>DELAWARE</td>\n",
       "      <td>...</td>\n",
       "      <td>NaN</td>\n",
       "      <td>NaN</td>\n",
       "      <td>NaN</td>\n",
       "      <td>NaN</td>\n",
       "      <td>NaN</td>\n",
       "      <td>NaN</td>\n",
       "      <td>NaN</td>\n",
       "      <td>NaN</td>\n",
       "      <td>NaN</td>\n",
       "      <td>NaN</td>\n",
       "    </tr>\n",
       "    <tr>\n",
       "      <th>5316</th>\n",
       "      <td>1938046</td>\n",
       "      <td>MANGOCEUTICALS, INC.</td>\n",
       "      <td>4131 N. CENTRAL EXPRESSWAY</td>\n",
       "      <td>SUITE 900</td>\n",
       "      <td>DALLAS</td>\n",
       "      <td>TX</td>\n",
       "      <td>TEXAS</td>\n",
       "      <td>75204</td>\n",
       "      <td>(833) 626-4679</td>\n",
       "      <td>TEXAS</td>\n",
       "      <td>...</td>\n",
       "      <td>NaN</td>\n",
       "      <td>NaN</td>\n",
       "      <td>NaN</td>\n",
       "      <td>NaN</td>\n",
       "      <td>NaN</td>\n",
       "      <td>NaN</td>\n",
       "      <td>NaN</td>\n",
       "      <td>NaN</td>\n",
       "      <td>NaN</td>\n",
       "      <td>NaN</td>\n",
       "    </tr>\n",
       "    <tr>\n",
       "      <th>3156</th>\n",
       "      <td>1774765</td>\n",
       "      <td>Exos Aerospace Systems &amp; Technologies, Inc.</td>\n",
       "      <td>126 W. MALL DR.</td>\n",
       "      <td>NaN</td>\n",
       "      <td>CORSICANA</td>\n",
       "      <td>TX</td>\n",
       "      <td>TEXAS</td>\n",
       "      <td>75110</td>\n",
       "      <td>877-777-0703</td>\n",
       "      <td>TEXAS</td>\n",
       "      <td>...</td>\n",
       "      <td>NaN</td>\n",
       "      <td>NaN</td>\n",
       "      <td>NaN</td>\n",
       "      <td>NaN</td>\n",
       "      <td>NaN</td>\n",
       "      <td>NaN</td>\n",
       "      <td>NaN</td>\n",
       "      <td>NaN</td>\n",
       "      <td>NaN</td>\n",
       "      <td>NaN</td>\n",
       "    </tr>\n",
       "    <tr>\n",
       "      <th>5444</th>\n",
       "      <td>1938946</td>\n",
       "      <td>MOCKINGBIRD TERRACE INVESTCO LLC</td>\n",
       "      <td>6221 E. MOCKINGBIRD LN.</td>\n",
       "      <td>NaN</td>\n",
       "      <td>DALLAS</td>\n",
       "      <td>TX</td>\n",
       "      <td>TEXAS</td>\n",
       "      <td>75214</td>\n",
       "      <td>(214) 724-8247</td>\n",
       "      <td>TEXAS</td>\n",
       "      <td>...</td>\n",
       "      <td>NaN</td>\n",
       "      <td>NaN</td>\n",
       "      <td>NaN</td>\n",
       "      <td>NaN</td>\n",
       "      <td>NaN</td>\n",
       "      <td>NaN</td>\n",
       "      <td>NaN</td>\n",
       "      <td>NaN</td>\n",
       "      <td>NaN</td>\n",
       "      <td>NaN</td>\n",
       "    </tr>\n",
       "    <tr>\n",
       "      <th>6678</th>\n",
       "      <td>1941610</td>\n",
       "      <td>Payverse, Inc.</td>\n",
       "      <td>5900 SEPULVEDA BLVD</td>\n",
       "      <td>SUITE 360</td>\n",
       "      <td>SHERMAN OAKS</td>\n",
       "      <td>CA</td>\n",
       "      <td>CALIFORNIA</td>\n",
       "      <td>91411</td>\n",
       "      <td>888-976-9099</td>\n",
       "      <td>DELAWARE</td>\n",
       "      <td>...</td>\n",
       "      <td>NaN</td>\n",
       "      <td>NaN</td>\n",
       "      <td>NaN</td>\n",
       "      <td>NaN</td>\n",
       "      <td>NaN</td>\n",
       "      <td>NaN</td>\n",
       "      <td>NaN</td>\n",
       "      <td>NaN</td>\n",
       "      <td>NaN</td>\n",
       "      <td>NaN</td>\n",
       "    </tr>\n",
       "    <tr>\n",
       "      <th>2112</th>\n",
       "      <td>1935143</td>\n",
       "      <td>Christina Real Estate Investors 5 Wealth Build...</td>\n",
       "      <td>22653 PACIFIC COAST HIGHWAY, SUITE 1-8,</td>\n",
       "      <td>NaN</td>\n",
       "      <td>MALIBU</td>\n",
       "      <td>CA</td>\n",
       "      <td>CALIFORNIA</td>\n",
       "      <td>90265</td>\n",
       "      <td>(310) 456-7031</td>\n",
       "      <td>DELAWARE</td>\n",
       "      <td>...</td>\n",
       "      <td>NaN</td>\n",
       "      <td>NaN</td>\n",
       "      <td>NaN</td>\n",
       "      <td>NaN</td>\n",
       "      <td>NaN</td>\n",
       "      <td>NaN</td>\n",
       "      <td>NaN</td>\n",
       "      <td>NaN</td>\n",
       "      <td>NaN</td>\n",
       "      <td>NaN</td>\n",
       "    </tr>\n",
       "    <tr>\n",
       "      <th>6423</th>\n",
       "      <td>1938770</td>\n",
       "      <td>PC RISE ENCORE LLC</td>\n",
       "      <td>5424 SUNOL BLVD</td>\n",
       "      <td>NO. 10-1113</td>\n",
       "      <td>PLEASANTON</td>\n",
       "      <td>CA</td>\n",
       "      <td>CALIFORNIA</td>\n",
       "      <td>94566</td>\n",
       "      <td>(925) 336-0521</td>\n",
       "      <td>DELAWARE</td>\n",
       "      <td>...</td>\n",
       "      <td>NaN</td>\n",
       "      <td>NaN</td>\n",
       "      <td>NaN</td>\n",
       "      <td>NaN</td>\n",
       "      <td>NaN</td>\n",
       "      <td>NaN</td>\n",
       "      <td>NaN</td>\n",
       "      <td>NaN</td>\n",
       "      <td>NaN</td>\n",
       "      <td>NaN</td>\n",
       "    </tr>\n",
       "    <tr>\n",
       "      <th>2563</th>\n",
       "      <td>1937935</td>\n",
       "      <td>Del Lockhart Ventures LLC</td>\n",
       "      <td>302 CLARKS WAY</td>\n",
       "      <td>NaN</td>\n",
       "      <td>HUTTO</td>\n",
       "      <td>TX</td>\n",
       "      <td>TEXAS</td>\n",
       "      <td>78634</td>\n",
       "      <td>630-329-3944</td>\n",
       "      <td>TEXAS</td>\n",
       "      <td>...</td>\n",
       "      <td>NaN</td>\n",
       "      <td>NaN</td>\n",
       "      <td>NaN</td>\n",
       "      <td>NaN</td>\n",
       "      <td>NaN</td>\n",
       "      <td>NaN</td>\n",
       "      <td>NaN</td>\n",
       "      <td>NaN</td>\n",
       "      <td>NaN</td>\n",
       "      <td>NaN</td>\n",
       "    </tr>\n",
       "    <tr>\n",
       "      <th>6089</th>\n",
       "      <td>1787352</td>\n",
       "      <td>Nuclein, LLC</td>\n",
       "      <td>7301 N. FM 620 RD., SUITE 155-113</td>\n",
       "      <td>NaN</td>\n",
       "      <td>AUSTIN</td>\n",
       "      <td>TX</td>\n",
       "      <td>TEXAS</td>\n",
       "      <td>78726</td>\n",
       "      <td>512-879-3301</td>\n",
       "      <td>TEXAS</td>\n",
       "      <td>...</td>\n",
       "      <td>NaN</td>\n",
       "      <td>NaN</td>\n",
       "      <td>NaN</td>\n",
       "      <td>NaN</td>\n",
       "      <td>NaN</td>\n",
       "      <td>NaN</td>\n",
       "      <td>NaN</td>\n",
       "      <td>NaN</td>\n",
       "      <td>NaN</td>\n",
       "      <td>NaN</td>\n",
       "    </tr>\n",
       "    <tr>\n",
       "      <th>8570</th>\n",
       "      <td>1937592</td>\n",
       "      <td>Theom, Inc.</td>\n",
       "      <td>355 BRYANT STREET</td>\n",
       "      <td>SUITE 403</td>\n",
       "      <td>SAN FRANCISCO</td>\n",
       "      <td>CA</td>\n",
       "      <td>CALIFORNIA</td>\n",
       "      <td>94107</td>\n",
       "      <td>408-805-0009</td>\n",
       "      <td>DELAWARE</td>\n",
       "      <td>...</td>\n",
       "      <td>NaN</td>\n",
       "      <td>NaN</td>\n",
       "      <td>NaN</td>\n",
       "      <td>NaN</td>\n",
       "      <td>NaN</td>\n",
       "      <td>NaN</td>\n",
       "      <td>NaN</td>\n",
       "      <td>NaN</td>\n",
       "      <td>NaN</td>\n",
       "      <td>NaN</td>\n",
       "    </tr>\n",
       "  </tbody>\n",
       "</table>\n",
       "<p>10 rows × 699 columns</p>\n",
       "</div>"
      ],
      "text/plain": [
       "      Central Index Key                                 Name of the Entity  \\\n",
       "7718            1946327                         SV Literati Investors, LLC   \n",
       "5316            1938046                               MANGOCEUTICALS, INC.   \n",
       "3156            1774765        Exos Aerospace Systems & Technologies, Inc.   \n",
       "5444            1938946                   MOCKINGBIRD TERRACE INVESTCO LLC   \n",
       "6678            1941610                                     Payverse, Inc.   \n",
       "2112            1935143  Christina Real Estate Investors 5 Wealth Build...   \n",
       "6423            1938770                                 PC RISE ENCORE LLC   \n",
       "2563            1937935                          Del Lockhart Ventures LLC   \n",
       "6089            1787352                                       Nuclein, LLC   \n",
       "8570            1937592                                        Theom, Inc.   \n",
       "\n",
       "                                      Address Address - Specification  \\\n",
       "7718                1023 Springdale Rd STE 1J                     NaN   \n",
       "5316               4131 N. CENTRAL EXPRESSWAY               SUITE 900   \n",
       "3156                          126 W. MALL DR.                     NaN   \n",
       "5444                  6221 E. MOCKINGBIRD LN.                     NaN   \n",
       "6678                      5900 SEPULVEDA BLVD               SUITE 360   \n",
       "2112  22653 PACIFIC COAST HIGHWAY, SUITE 1-8,                     NaN   \n",
       "6423                          5424 SUNOL BLVD             NO. 10-1113   \n",
       "2563                           302 CLARKS WAY                     NaN   \n",
       "6089        7301 N. FM 620 RD., SUITE 155-113                     NaN   \n",
       "8570                        355 BRYANT STREET               SUITE 403   \n",
       "\n",
       "               City State or Country - Physical Location  \\\n",
       "7718         Austin                                   TX   \n",
       "5316         DALLAS                                   TX   \n",
       "3156      CORSICANA                                   TX   \n",
       "5444         DALLAS                                   TX   \n",
       "6678   SHERMAN OAKS                                   CA   \n",
       "2112         MALIBU                                   CA   \n",
       "6423     PLEASANTON                                   CA   \n",
       "2563          HUTTO                                   TX   \n",
       "6089         AUSTIN                                   TX   \n",
       "8570  SAN FRANCISCO                                   CA   \n",
       "\n",
       "     State or Country - Full - Physical Location Zip Code / Postal Code  \\\n",
       "7718                                       TEXAS                  78721   \n",
       "5316                                       TEXAS                  75204   \n",
       "3156                                       TEXAS                  75110   \n",
       "5444                                       TEXAS                  75214   \n",
       "6678                                  CALIFORNIA                  91411   \n",
       "2112                                  CALIFORNIA                  90265   \n",
       "6423                                  CALIFORNIA                  94566   \n",
       "2563                                       TEXAS                  78634   \n",
       "6089                                       TEXAS                  78726   \n",
       "8570                                  CALIFORNIA                  94107   \n",
       "\n",
       "     Issuer Phone Number State or Country - Legal Jurisdiction  ...  \\\n",
       "7718        808-227-0349                              DELAWARE  ...   \n",
       "5316      (833) 626-4679                                 TEXAS  ...   \n",
       "3156        877-777-0703                                 TEXAS  ...   \n",
       "5444      (214) 724-8247                                 TEXAS  ...   \n",
       "6678        888-976-9099                              DELAWARE  ...   \n",
       "2112      (310) 456-7031                              DELAWARE  ...   \n",
       "6423      (925) 336-0521                              DELAWARE  ...   \n",
       "2563        630-329-3944                                 TEXAS  ...   \n",
       "6089        512-879-3301                                 TEXAS  ...   \n",
       "8570        408-805-0009                              DELAWARE  ...   \n",
       "\n",
       "      Associated Address - Person 63  \\\n",
       "7718                             NaN   \n",
       "5316                             NaN   \n",
       "3156                             NaN   \n",
       "5444                             NaN   \n",
       "6678                             NaN   \n",
       "2112                             NaN   \n",
       "6423                             NaN   \n",
       "2563                             NaN   \n",
       "6089                             NaN   \n",
       "8570                             NaN   \n",
       "\n",
       "      Associated Address - Specification - Person 63  \\\n",
       "7718                                             NaN   \n",
       "5316                                             NaN   \n",
       "3156                                             NaN   \n",
       "5444                                             NaN   \n",
       "6678                                             NaN   \n",
       "2112                                             NaN   \n",
       "6423                                             NaN   \n",
       "2563                                             NaN   \n",
       "6089                                             NaN   \n",
       "8570                                             NaN   \n",
       "\n",
       "     Associated City - Person 63 Associated State or Country - Person 63  \\\n",
       "7718                         NaN                                     NaN   \n",
       "5316                         NaN                                     NaN   \n",
       "3156                         NaN                                     NaN   \n",
       "5444                         NaN                                     NaN   \n",
       "6678                         NaN                                     NaN   \n",
       "2112                         NaN                                     NaN   \n",
       "6423                         NaN                                     NaN   \n",
       "2563                         NaN                                     NaN   \n",
       "6089                         NaN                                     NaN   \n",
       "8570                         NaN                                     NaN   \n",
       "\n",
       "     Associated State or Country - Full - Person 63  \\\n",
       "7718                                            NaN   \n",
       "5316                                            NaN   \n",
       "3156                                            NaN   \n",
       "5444                                            NaN   \n",
       "6678                                            NaN   \n",
       "2112                                            NaN   \n",
       "6423                                            NaN   \n",
       "2563                                            NaN   \n",
       "6089                                            NaN   \n",
       "8570                                            NaN   \n",
       "\n",
       "     Associated Zip Code - Person 63  \\\n",
       "7718                             NaN   \n",
       "5316                             NaN   \n",
       "3156                             NaN   \n",
       "5444                             NaN   \n",
       "6678                             NaN   \n",
       "2112                             NaN   \n",
       "6423                             NaN   \n",
       "2563                             NaN   \n",
       "6089                             NaN   \n",
       "8570                             NaN   \n",
       "\n",
       "     Relationship 1 with the Entity - Person 63  \\\n",
       "7718                                        NaN   \n",
       "5316                                        NaN   \n",
       "3156                                        NaN   \n",
       "5444                                        NaN   \n",
       "6678                                        NaN   \n",
       "2112                                        NaN   \n",
       "6423                                        NaN   \n",
       "2563                                        NaN   \n",
       "6089                                        NaN   \n",
       "8570                                        NaN   \n",
       "\n",
       "     Clarification of the relationship - Person 63  \\\n",
       "7718                                           NaN   \n",
       "5316                                           NaN   \n",
       "3156                                           NaN   \n",
       "5444                                           NaN   \n",
       "6678                                           NaN   \n",
       "2112                                           NaN   \n",
       "6423                                           NaN   \n",
       "2563                                           NaN   \n",
       "6089                                           NaN   \n",
       "8570                                           NaN   \n",
       "\n",
       "     Relationship 2 with the Entity - Person 18  \\\n",
       "7718                                        NaN   \n",
       "5316                                        NaN   \n",
       "3156                                        NaN   \n",
       "5444                                        NaN   \n",
       "6678                                        NaN   \n",
       "2112                                        NaN   \n",
       "6423                                        NaN   \n",
       "2563                                        NaN   \n",
       "6089                                        NaN   \n",
       "8570                                        NaN   \n",
       "\n",
       "     Relationship 2 with the Entity - Person 19  \n",
       "7718                                        NaN  \n",
       "5316                                        NaN  \n",
       "3156                                        NaN  \n",
       "5444                                        NaN  \n",
       "6678                                        NaN  \n",
       "2112                                        NaN  \n",
       "6423                                        NaN  \n",
       "2563                                        NaN  \n",
       "6089                                        NaN  \n",
       "8570                                        NaN  \n",
       "\n",
       "[10 rows x 699 columns]"
      ]
     },
     "execution_count": 4,
     "metadata": {},
     "output_type": "execute_result"
    }
   ],
   "source": [
    "def versatile_filter(df):\n",
    "    global filtered_df\n",
    "    # Create an \"all True\" Series that we can use as our starting mask\n",
    "    mask_state = pd.Series(True, index=df.index)\n",
    "    mask_subed = pd.Series(True, index=df.index)\n",
    "    mask_amount = pd.Series(True, index=df.index)\n",
    "    mask_equity = pd.Series(True, index=df.index)\n",
    "    mask_industry = pd.Series(True, index=df.index)\n",
    "    \n",
    "    applied_filters = []\n",
    "\n",
    "    # Ask the user whether they want to filter the data at all\n",
    "    while True:\n",
    "        user_filter = input(\"Would you like to filter the data? (yes/no): \").strip().lower()\n",
    "        if user_filter in [\"yes\", \"no\"]:\n",
    "            break\n",
    "        else:\n",
    "            print(\"Invalid input. Please enter 'yes' or 'no'.\")\n",
    "    if user_filter != \"yes\":\n",
    "        print(\"Displaying sample of the full data:\")\n",
    "        filtered_df = df\n",
    "        return filtered_df.sample(n=min(10, len(df)))[[\"Central Index Key\", \"Name of the Entity\", \"Address\", \"Address - Specification\", \"City\", \"State or Country - Physical Location\", \"State or Country - Full - Physical Location\", \"Zip Code / Postal Code\", \"Issuer Phone Number\", \"State or Country - Legal Jurisdiction\", \"Minimum Investment Amount Accepted\", \"Total Amount Offered\", \"Total Amount Sold So Far\", \"Total Amount Remaining to be sold\", \"Clarifications Regarding the Offering and Sales amounts\", \"Is the Entity Offering Equity\", \"Industry\"]]\n",
    "\n",
    "    # List of available filters\n",
    "    available_filters = [\"state\", \"fully_subscribed\", \"amount\", \"equity\", \"industry\"]\n",
    "\n",
    "    # Loop: let the user update or add filters until they are satisfied\n",
    "    while True:\n",
    "        print(\"\\nAvailable filters:\")\n",
    "        print(\"  state             : Filter by state abbreviation\")\n",
    "        print(\"  fully_subscribed  : Filter by fully subscribed offerings\")\n",
    "        print(\"  amount            : Filter by offered funding amount range\")\n",
    "        print(\"  equity            : Filter by equity offerings\")\n",
    "        print(\"  industry          : Filter by industry\")\n",
    "        chosen_filter = input(\"Which filter would you like to apply/update? (state/fully_subscribed/amount/equity/industry): \").strip().lower()\n",
    "        \n",
    "        if chosen_filter not in available_filters:\n",
    "            print(\"Invalid filter type. Please choose one of the available filters.\")\n",
    "            continue\n",
    "\n",
    "        # Filter by state\n",
    "        if chosen_filter == \"state\":\n",
    "            action = input(\"Would you like to apply or delete the state filter? (apply/delete): \").strip().lower()\n",
    "            while action not in [\"apply\", \"delete\"]:\n",
    "                action = input(\"Invalid input. Please enter 'apply' or 'delete': \").strip().lower()\n",
    "            if action == \"delete\":\n",
    "                mask_state = pd.Series(True, index=df.index)\n",
    "                applied_filters = [f for f in applied_filters if not f.startswith(\"State:\")]\n",
    "                print(\"State filter deleted.\")\n",
    "            else:\n",
    "                state_abbreviations = input(\"Enter one or more state abbreviations separated by commas (e.g., CA,TX,NY): \").upper().split(',')\n",
    "                # Ensure that the abbreviations are valid (assuming all_states is defined)\n",
    "                state_abbreviations = [abbr.strip() for abbr in state_abbreviations if abbr.strip() in all_states]\n",
    "                while not state_abbreviations:\n",
    "                    state_abbreviations = input(\"Invalid state abbreviations. Please try again (e.g., CA,TX,NY): \").upper().split(',')\n",
    "                    state_abbreviations = [abbr.strip() for abbr in state_abbreviations if abbr.strip() in all_states]\n",
    "                # Update the state mask\n",
    "                mask_state = df[\"State or Country - Physical Location\"].isin(state_abbreviations)\n",
    "                applied_filters = [f for f in applied_filters if not f.startswith(\"State:\")]\n",
    "                applied_filters.append(f\"State: {', '.join(state_abbreviations)}\")\n",
    "                print(f\"State filter set to: {', '.join(state_abbreviations)}\")\n",
    "        \n",
    "        # Filter by fully subscribed offerings\n",
    "        elif chosen_filter == \"fully_subscribed\":\n",
    "            action = input(\"Would you like to apply or delete the fully subscribed filter? (apply/delete): \").strip().lower()\n",
    "            while action not in [\"apply\", \"delete\"]:\n",
    "                action = input(\"Invalid input. Please enter 'apply' or 'delete': \").strip().lower()\n",
    "            if action == \"delete\":\n",
    "                mask_subed = pd.Series(True, index=df.index)\n",
    "                applied_filters = [f for f in applied_filters if not f.startswith(\"Fully Subscribed:\")]\n",
    "                print(\"Fully subscribed filter deleted.\")\n",
    "            else:\n",
    "                subed = input(\"Are you interested only in fully subscribed offerings? (yes/no): \").strip().lower()\n",
    "                while subed not in [\"yes\", \"no\"]:\n",
    "                    subed = input(\"Invalid input. Please enter 'yes' or 'no': \").strip().lower()\n",
    "                # Note: adjust the condition below based on how your data represents amounts.\n",
    "                if subed == \"yes\":\n",
    "                    mask_subed = (df[\"Total Amount Remaining to be sold\"] == 0)\n",
    "                    applied_filters = [f for f in applied_filters if not f.startswith(\"Fully Subscribed:\")]\n",
    "                    applied_filters.append(\"Fully Subscribed: Yes\")\n",
    "                    print(\"Filtering for fully subscribed offerings only.\")\n",
    "                else:\n",
    "                    mask_subed = (df[\"Total Amount Remaining to be sold\"] != 0)\n",
    "                    applied_filters = [f for f in applied_filters if not f.startswith(\"Fully Subscribed:\")]\n",
    "                    applied_filters.append(\"Fully Subscribed: No\")\n",
    "                    print(\"Filtering for offerings that are not fully subscribed.\")\n",
    "    \n",
    "        # Filter by funding amount range\n",
    "        elif chosen_filter == \"amount\":\n",
    "            action = input(\"Would you like to apply or delete the amount filter? (apply/delete): \").strip().lower()\n",
    "            while action not in [\"apply\", \"delete\"]:\n",
    "                action = input(\"Invalid input. Please enter 'apply' or 'delete': \").strip().lower()\n",
    "            if action == \"delete\":\n",
    "                mask_amount = pd.Series(True, index=df.index)\n",
    "                applied_filters = [f for f in applied_filters if not f.startswith(\"Amount:\")]\n",
    "                print(\"Amount filter deleted.\")\n",
    "            else:\n",
    "                while True:\n",
    "                    try:\n",
    "                        min_val = int(input(\"Enter the minimum funding amount in USD: \"))\n",
    "                        break\n",
    "                    except ValueError:\n",
    "                        print(\"Invalid input. Please enter an integer value for the minimum funding amount.\")\n",
    "                while True:\n",
    "                    max_input = input(\"Enter the maximum funding amount in USD (or type 'infinite' for no upper limit): \").strip().lower()\n",
    "                    if max_input == \"infinite\":\n",
    "                        max_val = float('inf')\n",
    "                        break\n",
    "                    try:\n",
    "                        max_val = int(max_input)\n",
    "                        break\n",
    "                    except ValueError:\n",
    "                        print(\"Invalid input. Please enter an integer value for the maximum funding amount or 'infinite'.\")\n",
    "                if min_val > max_val:\n",
    "                    print(\"The minimum funding amount cannot be greater than the maximum. Amount filter not applied.\")\n",
    "                else:\n",
    "                    mask_amount = (df[\"Total Amount Offered\"] >= min_val) & (df[\"Total Amount Offered\"] <= max_val)\n",
    "                    applied_filters = [f for f in applied_filters if not f.startswith(\"Amount:\")]\n",
    "                    applied_filters.append(f\"Amount: {min_val} to {max_val}\")\n",
    "                    print(f\"Filtering for funding amounts between {min_val} and {max_val} USD.\")\n",
    "\n",
    "        # Filter by equity offerings\n",
    "        elif chosen_filter == \"equity\":\n",
    "            action = input(\"Would you like to apply or delete the equity filter? (apply/delete): \").strip().lower()\n",
    "            while action not in [\"apply\", \"delete\"]:\n",
    "                action = input(\"Invalid input. Please enter 'apply' or 'delete': \").strip().lower()\n",
    "            if action == \"delete\":\n",
    "                mask_equity = pd.Series(True, index=df.index)\n",
    "                applied_filters = [f for f in applied_filters if not f.startswith(\"Equity:\")]\n",
    "                print(\"Equity filter deleted.\")\n",
    "            else:\n",
    "                equity = input(\"Are you interested only in offerings of equity or offerings excluding equity? (only_equity/excluding_equity): \").strip().lower()\n",
    "                while equity not in [\"only_equity\", \"excluding_equity\"]:\n",
    "                    equity = input(\"Invalid input. Please enter 'only_equity' or 'excluding_equity': \").strip().lower()\n",
    "                if equity == \"only_equity\":\n",
    "                    mask_equity = df[\"Is the Entity Offering Equity\"] == True\n",
    "                    applied_filters = [f for f in applied_filters if not f.startswith(\"Equity:\")]\n",
    "                    applied_filters.append(\"Equity: Only Equity\")\n",
    "                    print(\"Filtering for offerings of equity only.\")\n",
    "                else:\n",
    "                    mask_equity = df[\"Is the Entity Offering Equity\"] != True\n",
    "                    applied_filters = [f for f in applied_filters if not f.startswith(\"Equity:\")]\n",
    "                    applied_filters.append(\"Equity: Excluding Equity\")\n",
    "                    print(\"Filtering for offerings excluding equity.\")\n",
    "        \n",
    "        # Filter by industry\n",
    "        elif chosen_filter == \"industry\":\n",
    "            action = input(\"Would you like to apply or delete the industry filter? (apply/delete): \").strip().lower()\n",
    "            while action not in [\"apply\", \"delete\"]:\n",
    "                action = input(\"Invalid input. Please enter 'apply' or 'delete': \").strip().lower()\n",
    "            if action == \"delete\":\n",
    "                mask_industry = pd.Series(True, index=df.index)\n",
    "                applied_filters = [f for f in applied_filters if not f.startswith(\"Industry:\")]\n",
    "                print(\"Industry filter deleted.\")\n",
    "            else:\n",
    "                while True:\n",
    "                    industry_input = input(\"Enter one or more industries separated by commas (or type 'list' to see all industries) - be case sensitive: \").strip()\n",
    "                    if industry_input.lower() == \"list\":\n",
    "                        print(\"Available industries:\")\n",
    "                        for industry in industries:\n",
    "                            print(f\"  {industry}\")\n",
    "                        continue\n",
    "                    industry_list = [ind.strip() for ind in industry_input.split(',') if ind.strip() in industries]\n",
    "                    if not industry_list:\n",
    "                        print(\"Invalid industries. Please try again.\")\n",
    "                    else:\n",
    "                        break\n",
    "                mask_industry = df[\"Industry\"].isin(industry_list)\n",
    "                applied_filters = [f for f in applied_filters if not f.startswith(\"Industry:\")]\n",
    "                applied_filters.append(f\"Industry: {', '.join(industry_list)}\")\n",
    "                print(f\"Industry filter set to: {', '.join(industry_list)}\")\n",
    "\n",
    "        # Combine all the masks\n",
    "        overall_mask = mask_state & mask_subed & mask_amount & mask_equity & mask_industry\n",
    "\n",
    "        # Show a sample of the filtered data\n",
    "        filtered_df = df[overall_mask]\n",
    "        if filtered_df.empty:\n",
    "            print(\"\\nNo data matches the current filter criteria.\")\n",
    "        else:\n",
    "            print(\"\\nHere is a sample of the filtered data:\")\n",
    "            print(\"Applied Filters- \" + \"; \".join(applied_filters))\n",
    "            display(filtered_df.sample(n=min(10, len(filtered_df)))[[\"Central Index Key\", \"Name of the Entity\", \"Address\", \"Address - Specification\", \"City\", \"State or Country - Physical Location\", \"State or Country - Full - Physical Location\", \"Zip Code / Postal Code\", \"Issuer Phone Number\", \"State or Country - Legal Jurisdiction\", \"Minimum Investment Amount Accepted\", \"Total Amount Offered\", \"Total Amount Sold So Far\", \"Total Amount Remaining to be sold\", \"Clarifications Regarding the Offering and Sales amounts\", \"Is the Entity Offering Equity\", \"Industry\"]])\n",
    "        \n",
    "        # Ask if the user wants to apply/update another filter\n",
    "        continue_filter = input(\"Would you like to apply/update another filter? (yes/no): \").strip().lower()\n",
    "        while continue_filter not in [\"yes\", \"no\"]:\n",
    "                continue_filter = input(\"Invalid input. Please enter 'yes' or 'no': \").strip().lower()\n",
    "        if continue_filter != \"yes\":\n",
    "            break\n",
    "\n",
    "    print(\"\\nDisplaying sample of the final filtered data:\")\n",
    "    return filtered_df.sample(n=min(10, len(filtered_df)))\n",
    "\n",
    "versatile_filter(df)\n"
   ]
  },
  {
   "cell_type": "code",
   "execution_count": null,
   "metadata": {},
   "outputs": [],
   "source": []
  }
 ],
 "metadata": {
  "kernelspec": {
   "display_name": "Python 3",
   "language": "python",
   "name": "python3"
  },
  "language_info": {
   "codemirror_mode": {
    "name": "ipython",
    "version": 3
   },
   "file_extension": ".py",
   "mimetype": "text/x-python",
   "name": "python",
   "nbconvert_exporter": "python",
   "pygments_lexer": "ipython3",
   "version": "3.13.0"
  }
 },
 "nbformat": 4,
 "nbformat_minor": 4
}
